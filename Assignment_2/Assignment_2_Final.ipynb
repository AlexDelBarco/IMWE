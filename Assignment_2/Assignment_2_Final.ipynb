{
 "cells": [
  {
   "cell_type": "markdown",
   "id": "f83905d9587624b4",
   "metadata": {},
   "source": [
    "# Assignment 2 - Wind profiles, shear, and stability"
   ]
  },
  {
   "cell_type": "markdown",
   "id": "9fdf5ab1e8cb1c8c",
   "metadata": {},
   "source": [
    "## Import"
   ]
  },
  {
   "cell_type": "code",
   "execution_count": 15,
   "id": "90518b01f7bd137a",
   "metadata": {
    "ExecuteTime": {
     "end_time": "2024-10-07T07:57:57.064942500Z",
     "start_time": "2024-10-07T07:57:56.876236700Z"
    }
   },
   "outputs": [],
   "source": [
    "import matplotlib.pyplot as plt\n",
    "import pandas as pd\n",
    "import numpy as np\n",
    "from scipy.stats import linregress, gaussian_kde\n",
    "\n",
    "import math"
   ]
  },
  {
   "cell_type": "markdown",
   "id": "3438e790770c968a",
   "metadata": {},
   "source": [
    "## Data"
   ]
  },
  {
   "cell_type": "code",
   "execution_count": 16,
   "id": "563c578c0f45fb0d",
   "metadata": {
    "ExecuteTime": {
     "end_time": "2024-10-07T07:57:57.171661400Z",
     "start_time": "2024-10-07T07:57:57.068930900Z"
    }
   },
   "outputs": [],
   "source": [
    "Hoe = pd.read_csv(\"Hoevsoere2008.csv\")"
   ]
  },
  {
   "cell_type": "code",
   "execution_count": 17,
   "id": "120e9121fa052877",
   "metadata": {
    "ExecuteTime": {
     "end_time": "2024-10-07T07:57:57.199581900Z",
     "start_time": "2024-10-07T07:57:57.135752800Z"
    }
   },
   "outputs": [
    {
     "data": {
      "text/plain": "               name  u_star_2d     wsc  dir_metmast_60m    T_10m  \\\n0      200801010000      0.152 -0.0074          41.6726  2.97165   \n1      200801010010      0.123 -0.0087          51.6034  2.97663   \n2      200801010020      0.134 -0.0104          52.6452  2.76732   \n3      200801010030      0.135 -0.0086          48.7002  2.66463   \n4      200801010040      0.052 -0.0014          45.6730  2.45688   \n...             ...        ...     ...              ...      ...   \n44862  200812312310      0.403 -0.0456         335.3680  6.16087   \n44863  200812312320      0.422 -0.0453         337.1350  6.15687   \n44864  200812312330      0.388 -0.0408         334.9430  6.22002   \n44865  200812312340      0.341 -0.0381         333.4440  6.22807   \n44866  200812312350      0.394 -0.0423         332.5910  6.24509   \n\n       wsp_metmast_10m  wsp_metmast_40m  wsp_metmast_60m  wsp_metmast_80m  \\\n0              2.59215          4.68932          5.37364          5.95689   \n1              3.98903          5.54254          5.98760          6.53404   \n2              4.15521          6.20265          6.80962          7.22990   \n3              3.67854          5.77822          6.49033          7.04092   \n4              2.94888          5.07810          5.83270          6.36725   \n...                ...              ...              ...              ...   \n44862          7.96938         10.76900         11.77440         12.37210   \n44863          7.98717         10.55960         11.69550         12.66640   \n44864          8.27035         11.16080         12.22490         12.95410   \n44865          7.86902         10.57440         11.56800         12.06370   \n44866          7.79404         10.82560         11.72470         12.19580   \n\n       wsp_metmast_100m  \n0               6.46508  \n1               6.97209  \n2               7.52415  \n3               7.39945  \n4               6.76746  \n...                 ...  \n44862          12.60200  \n44863          13.09670  \n44864          13.23880  \n44865          12.29320  \n44866          12.38870  \n\n[44867 rows x 10 columns]",
      "text/html": "<div>\n<style scoped>\n    .dataframe tbody tr th:only-of-type {\n        vertical-align: middle;\n    }\n\n    .dataframe tbody tr th {\n        vertical-align: top;\n    }\n\n    .dataframe thead th {\n        text-align: right;\n    }\n</style>\n<table border=\"1\" class=\"dataframe\">\n  <thead>\n    <tr style=\"text-align: right;\">\n      <th></th>\n      <th>name</th>\n      <th>u_star_2d</th>\n      <th>wsc</th>\n      <th>dir_metmast_60m</th>\n      <th>T_10m</th>\n      <th>wsp_metmast_10m</th>\n      <th>wsp_metmast_40m</th>\n      <th>wsp_metmast_60m</th>\n      <th>wsp_metmast_80m</th>\n      <th>wsp_metmast_100m</th>\n    </tr>\n  </thead>\n  <tbody>\n    <tr>\n      <th>0</th>\n      <td>200801010000</td>\n      <td>0.152</td>\n      <td>-0.0074</td>\n      <td>41.6726</td>\n      <td>2.97165</td>\n      <td>2.59215</td>\n      <td>4.68932</td>\n      <td>5.37364</td>\n      <td>5.95689</td>\n      <td>6.46508</td>\n    </tr>\n    <tr>\n      <th>1</th>\n      <td>200801010010</td>\n      <td>0.123</td>\n      <td>-0.0087</td>\n      <td>51.6034</td>\n      <td>2.97663</td>\n      <td>3.98903</td>\n      <td>5.54254</td>\n      <td>5.98760</td>\n      <td>6.53404</td>\n      <td>6.97209</td>\n    </tr>\n    <tr>\n      <th>2</th>\n      <td>200801010020</td>\n      <td>0.134</td>\n      <td>-0.0104</td>\n      <td>52.6452</td>\n      <td>2.76732</td>\n      <td>4.15521</td>\n      <td>6.20265</td>\n      <td>6.80962</td>\n      <td>7.22990</td>\n      <td>7.52415</td>\n    </tr>\n    <tr>\n      <th>3</th>\n      <td>200801010030</td>\n      <td>0.135</td>\n      <td>-0.0086</td>\n      <td>48.7002</td>\n      <td>2.66463</td>\n      <td>3.67854</td>\n      <td>5.77822</td>\n      <td>6.49033</td>\n      <td>7.04092</td>\n      <td>7.39945</td>\n    </tr>\n    <tr>\n      <th>4</th>\n      <td>200801010040</td>\n      <td>0.052</td>\n      <td>-0.0014</td>\n      <td>45.6730</td>\n      <td>2.45688</td>\n      <td>2.94888</td>\n      <td>5.07810</td>\n      <td>5.83270</td>\n      <td>6.36725</td>\n      <td>6.76746</td>\n    </tr>\n    <tr>\n      <th>...</th>\n      <td>...</td>\n      <td>...</td>\n      <td>...</td>\n      <td>...</td>\n      <td>...</td>\n      <td>...</td>\n      <td>...</td>\n      <td>...</td>\n      <td>...</td>\n      <td>...</td>\n    </tr>\n    <tr>\n      <th>44862</th>\n      <td>200812312310</td>\n      <td>0.403</td>\n      <td>-0.0456</td>\n      <td>335.3680</td>\n      <td>6.16087</td>\n      <td>7.96938</td>\n      <td>10.76900</td>\n      <td>11.77440</td>\n      <td>12.37210</td>\n      <td>12.60200</td>\n    </tr>\n    <tr>\n      <th>44863</th>\n      <td>200812312320</td>\n      <td>0.422</td>\n      <td>-0.0453</td>\n      <td>337.1350</td>\n      <td>6.15687</td>\n      <td>7.98717</td>\n      <td>10.55960</td>\n      <td>11.69550</td>\n      <td>12.66640</td>\n      <td>13.09670</td>\n    </tr>\n    <tr>\n      <th>44864</th>\n      <td>200812312330</td>\n      <td>0.388</td>\n      <td>-0.0408</td>\n      <td>334.9430</td>\n      <td>6.22002</td>\n      <td>8.27035</td>\n      <td>11.16080</td>\n      <td>12.22490</td>\n      <td>12.95410</td>\n      <td>13.23880</td>\n    </tr>\n    <tr>\n      <th>44865</th>\n      <td>200812312340</td>\n      <td>0.341</td>\n      <td>-0.0381</td>\n      <td>333.4440</td>\n      <td>6.22807</td>\n      <td>7.86902</td>\n      <td>10.57440</td>\n      <td>11.56800</td>\n      <td>12.06370</td>\n      <td>12.29320</td>\n    </tr>\n    <tr>\n      <th>44866</th>\n      <td>200812312350</td>\n      <td>0.394</td>\n      <td>-0.0423</td>\n      <td>332.5910</td>\n      <td>6.24509</td>\n      <td>7.79404</td>\n      <td>10.82560</td>\n      <td>11.72470</td>\n      <td>12.19580</td>\n      <td>12.38870</td>\n    </tr>\n  </tbody>\n</table>\n<p>44867 rows × 10 columns</p>\n</div>"
     },
     "execution_count": 17,
     "metadata": {},
     "output_type": "execute_result"
    }
   ],
   "source": [
    "Hoe"
   ]
  },
  {
   "cell_type": "code",
   "execution_count": 18,
   "id": "18f24a54512db827",
   "metadata": {
    "ExecuteTime": {
     "end_time": "2024-10-07T07:57:57.257426800Z",
     "start_time": "2024-10-07T07:57:57.177640600Z"
    }
   },
   "outputs": [],
   "source": [
    "Hoe.rename(columns={'name': 'timestamp'}, inplace=True)"
   ]
  },
  {
   "cell_type": "markdown",
   "id": "6bf14d4be4100140",
   "metadata": {},
   "source": [
    "## Task 1"
   ]
  },
  {
   "cell_type": "code",
   "execution_count": 19,
   "id": "5a0a10af59eea990",
   "metadata": {
    "ExecuteTime": {
     "end_time": "2024-10-07T07:57:57.328237600Z",
     "start_time": "2024-10-07T07:57:57.236486800Z"
    }
   },
   "outputs": [],
   "source": [
    "# Karman constant\n",
    "k = 0.4\n",
    "# Gravity\n",
    "g = 9.81"
   ]
  },
  {
   "cell_type": "markdown",
   "id": "e330027c4b9f7775",
   "metadata": {},
   "source": [
    "Change surface layer temp (T_10) to kelvin"
   ]
  },
  {
   "cell_type": "code",
   "execution_count": 20,
   "id": "593c1209192ea38a",
   "metadata": {
    "ExecuteTime": {
     "end_time": "2024-10-07T07:57:57.434425400Z",
     "start_time": "2024-10-07T07:57:57.298318300Z"
    }
   },
   "outputs": [],
   "source": [
    "Hoe[\"T_10m_K\"] = Hoe[\"T_10m\"] + 273.15"
   ]
  },
  {
   "cell_type": "code",
   "execution_count": 21,
   "id": "44080d700ce34441",
   "metadata": {
    "ExecuteTime": {
     "end_time": "2024-10-07T07:57:57.499251Z",
     "start_time": "2024-10-07T07:57:57.433434700Z"
    }
   },
   "outputs": [],
   "source": [
    "Hoe[\"1/L\"] = ((k*g)/Hoe[\"T_10m_K\"])*((-Hoe[\"wsc\"])/((Hoe[\"u_star_2d\"])**3))"
   ]
  },
  {
   "cell_type": "code",
   "execution_count": 22,
   "id": "bd58414e5dea72c5",
   "metadata": {
    "ExecuteTime": {
     "end_time": "2024-10-07T07:57:57.603971100Z",
     "start_time": "2024-10-07T07:57:57.511221Z"
    }
   },
   "outputs": [
    {
     "data": {
      "text/plain": "          timestamp  u_star_2d     wsc  dir_metmast_60m    T_10m  \\\n0      200801010000      0.152 -0.0074          41.6726  2.97165   \n1      200801010010      0.123 -0.0087          51.6034  2.97663   \n2      200801010020      0.134 -0.0104          52.6452  2.76732   \n3      200801010030      0.135 -0.0086          48.7002  2.66463   \n4      200801010040      0.052 -0.0014          45.6730  2.45688   \n...             ...        ...     ...              ...      ...   \n44862  200812312310      0.403 -0.0456         335.3680  6.16087   \n44863  200812312320      0.422 -0.0453         337.1350  6.15687   \n44864  200812312330      0.388 -0.0408         334.9430  6.22002   \n44865  200812312340      0.341 -0.0381         333.4440  6.22807   \n44866  200812312350      0.394 -0.0423         332.5910  6.24509   \n\n       wsp_metmast_10m  wsp_metmast_40m  wsp_metmast_60m  wsp_metmast_80m  \\\n0              2.59215          4.68932          5.37364          5.95689   \n1              3.98903          5.54254          5.98760          6.53404   \n2              4.15521          6.20265          6.80962          7.22990   \n3              3.67854          5.77822          6.49033          7.04092   \n4              2.94888          5.07810          5.83270          6.36725   \n...                ...              ...              ...              ...   \n44862          7.96938         10.76900         11.77440         12.37210   \n44863          7.98717         10.55960         11.69550         12.66640   \n44864          8.27035         11.16080         12.22490         12.95410   \n44865          7.86902         10.57440         11.56800         12.06370   \n44866          7.79404         10.82560         11.72470         12.19580   \n\n       wsp_metmast_100m    T_10m_K       1/L  \n0               6.46508  276.12165  0.029945  \n1               6.97209  276.12663  0.066439  \n2               7.52415  275.91732  0.061471  \n3               7.39945  275.81463  0.049729  \n4               6.76746  275.60688  0.141761  \n...                 ...        ...       ...  \n44862          12.60200  279.31087  0.009788  \n44863          13.09670  279.30687  0.008469  \n44864          13.23880  279.37002  0.009811  \n44865          12.29320  279.37807  0.013496  \n44866          12.38870  279.39509  0.009713  \n\n[44867 rows x 12 columns]",
      "text/html": "<div>\n<style scoped>\n    .dataframe tbody tr th:only-of-type {\n        vertical-align: middle;\n    }\n\n    .dataframe tbody tr th {\n        vertical-align: top;\n    }\n\n    .dataframe thead th {\n        text-align: right;\n    }\n</style>\n<table border=\"1\" class=\"dataframe\">\n  <thead>\n    <tr style=\"text-align: right;\">\n      <th></th>\n      <th>timestamp</th>\n      <th>u_star_2d</th>\n      <th>wsc</th>\n      <th>dir_metmast_60m</th>\n      <th>T_10m</th>\n      <th>wsp_metmast_10m</th>\n      <th>wsp_metmast_40m</th>\n      <th>wsp_metmast_60m</th>\n      <th>wsp_metmast_80m</th>\n      <th>wsp_metmast_100m</th>\n      <th>T_10m_K</th>\n      <th>1/L</th>\n    </tr>\n  </thead>\n  <tbody>\n    <tr>\n      <th>0</th>\n      <td>200801010000</td>\n      <td>0.152</td>\n      <td>-0.0074</td>\n      <td>41.6726</td>\n      <td>2.97165</td>\n      <td>2.59215</td>\n      <td>4.68932</td>\n      <td>5.37364</td>\n      <td>5.95689</td>\n      <td>6.46508</td>\n      <td>276.12165</td>\n      <td>0.029945</td>\n    </tr>\n    <tr>\n      <th>1</th>\n      <td>200801010010</td>\n      <td>0.123</td>\n      <td>-0.0087</td>\n      <td>51.6034</td>\n      <td>2.97663</td>\n      <td>3.98903</td>\n      <td>5.54254</td>\n      <td>5.98760</td>\n      <td>6.53404</td>\n      <td>6.97209</td>\n      <td>276.12663</td>\n      <td>0.066439</td>\n    </tr>\n    <tr>\n      <th>2</th>\n      <td>200801010020</td>\n      <td>0.134</td>\n      <td>-0.0104</td>\n      <td>52.6452</td>\n      <td>2.76732</td>\n      <td>4.15521</td>\n      <td>6.20265</td>\n      <td>6.80962</td>\n      <td>7.22990</td>\n      <td>7.52415</td>\n      <td>275.91732</td>\n      <td>0.061471</td>\n    </tr>\n    <tr>\n      <th>3</th>\n      <td>200801010030</td>\n      <td>0.135</td>\n      <td>-0.0086</td>\n      <td>48.7002</td>\n      <td>2.66463</td>\n      <td>3.67854</td>\n      <td>5.77822</td>\n      <td>6.49033</td>\n      <td>7.04092</td>\n      <td>7.39945</td>\n      <td>275.81463</td>\n      <td>0.049729</td>\n    </tr>\n    <tr>\n      <th>4</th>\n      <td>200801010040</td>\n      <td>0.052</td>\n      <td>-0.0014</td>\n      <td>45.6730</td>\n      <td>2.45688</td>\n      <td>2.94888</td>\n      <td>5.07810</td>\n      <td>5.83270</td>\n      <td>6.36725</td>\n      <td>6.76746</td>\n      <td>275.60688</td>\n      <td>0.141761</td>\n    </tr>\n    <tr>\n      <th>...</th>\n      <td>...</td>\n      <td>...</td>\n      <td>...</td>\n      <td>...</td>\n      <td>...</td>\n      <td>...</td>\n      <td>...</td>\n      <td>...</td>\n      <td>...</td>\n      <td>...</td>\n      <td>...</td>\n      <td>...</td>\n    </tr>\n    <tr>\n      <th>44862</th>\n      <td>200812312310</td>\n      <td>0.403</td>\n      <td>-0.0456</td>\n      <td>335.3680</td>\n      <td>6.16087</td>\n      <td>7.96938</td>\n      <td>10.76900</td>\n      <td>11.77440</td>\n      <td>12.37210</td>\n      <td>12.60200</td>\n      <td>279.31087</td>\n      <td>0.009788</td>\n    </tr>\n    <tr>\n      <th>44863</th>\n      <td>200812312320</td>\n      <td>0.422</td>\n      <td>-0.0453</td>\n      <td>337.1350</td>\n      <td>6.15687</td>\n      <td>7.98717</td>\n      <td>10.55960</td>\n      <td>11.69550</td>\n      <td>12.66640</td>\n      <td>13.09670</td>\n      <td>279.30687</td>\n      <td>0.008469</td>\n    </tr>\n    <tr>\n      <th>44864</th>\n      <td>200812312330</td>\n      <td>0.388</td>\n      <td>-0.0408</td>\n      <td>334.9430</td>\n      <td>6.22002</td>\n      <td>8.27035</td>\n      <td>11.16080</td>\n      <td>12.22490</td>\n      <td>12.95410</td>\n      <td>13.23880</td>\n      <td>279.37002</td>\n      <td>0.009811</td>\n    </tr>\n    <tr>\n      <th>44865</th>\n      <td>200812312340</td>\n      <td>0.341</td>\n      <td>-0.0381</td>\n      <td>333.4440</td>\n      <td>6.22807</td>\n      <td>7.86902</td>\n      <td>10.57440</td>\n      <td>11.56800</td>\n      <td>12.06370</td>\n      <td>12.29320</td>\n      <td>279.37807</td>\n      <td>0.013496</td>\n    </tr>\n    <tr>\n      <th>44866</th>\n      <td>200812312350</td>\n      <td>0.394</td>\n      <td>-0.0423</td>\n      <td>332.5910</td>\n      <td>6.24509</td>\n      <td>7.79404</td>\n      <td>10.82560</td>\n      <td>11.72470</td>\n      <td>12.19580</td>\n      <td>12.38870</td>\n      <td>279.39509</td>\n      <td>0.009713</td>\n    </tr>\n  </tbody>\n</table>\n<p>44867 rows × 12 columns</p>\n</div>"
     },
     "execution_count": 22,
     "metadata": {},
     "output_type": "execute_result"
    }
   ],
   "source": [
    "Hoe"
   ]
  },
  {
   "cell_type": "markdown",
   "id": "bed2d93351aae641",
   "metadata": {},
   "source": []
  },
  {
   "cell_type": "markdown",
   "id": "b852629acb77ea27",
   "metadata": {},
   "source": [
    "Read page 93"
   ]
  },
  {
   "cell_type": "markdown",
   "id": "1c317cff5cd71a21",
   "metadata": {},
   "source": [
    "Probaility density function"
   ]
  },
  {
   "cell_type": "code",
   "execution_count": 23,
   "id": "f3da74b1",
   "metadata": {
    "ExecuteTime": {
     "end_time": "2024-10-07T07:57:59.760030500Z",
     "start_time": "2024-10-07T07:57:57.535154900Z"
    }
   },
   "outputs": [
    {
     "data": {
      "text/plain": "<Figure size 432x288 with 1 Axes>",
      "image/png": "[encoded data removed]"
     },
     "metadata": {
      "needs_background": "light"
     },
     "output_type": "display_data"
    }
   ],
   "source": [
    "# Extract the data\n",
    "data = Hoe['1/L'].dropna()  # Drop any NaN values if they exist\n",
    "\n",
    "# Create a Gaussian KDE model\n",
    "kde = gaussian_kde(data)\n",
    "\n",
    "# Create a range of values for plotting the PDF\n",
    "x_vals = np.linspace(data.min(), data.max(), 1000)\n",
    "\n",
    "# Evaluate the PDF for the range of values\n",
    "pdf_vals = kde(x_vals)\n",
    "\n",
    "# Plot the PDF\n",
    "plt.plot(x_vals, pdf_vals, color='blue')\n",
    "plt.fill_between(x_vals, pdf_vals, alpha=0.3)\n",
    "\n",
    "# Add labels and a title\n",
    "plt.xlabel('1/L')\n",
    "plt.ylabel('Probability Density')\n",
    "plt.title('Probability Density Function of 1/L')\n",
    "\n",
    "# Show the plot\n",
    "plt.show()"
   ]
  },
  {
   "cell_type": "code",
   "outputs": [
    {
     "data": {
      "text/plain": "<Figure size 1008x432 with 2 Axes>",
      "image/png": "[encoded data removed]"
     },
     "metadata": {
      "needs_background": "light"
     },
     "output_type": "display_data"
    }
   ],
   "source": [
    "import numpy as np\n",
    "import matplotlib.pyplot as plt\n",
    "from scipy.stats import gaussian_kde\n",
    "\n",
    "# Assuming 'Hoe' DataFrame is defined and '1/L' column exists\n",
    "\n",
    "# Extract the data\n",
    "data = Hoe['1/L'].dropna()  # Drop any NaN values if they exist\n",
    "\n",
    "# Create a Gaussian KDE model\n",
    "kde = gaussian_kde(data)\n",
    "\n",
    "# Create a range of values for plotting the PDF\n",
    "x_vals = np.linspace(data.min(), data.max(), 1000)\n",
    "pdf_vals = kde(x_vals)\n",
    "\n",
    "# Create a figure with two subplots\n",
    "fig, (ax1, ax2) = plt.subplots(1, 2, figsize=(14, 6))  # 1 row, 2 columns, figure size (width, height)\n",
    "\n",
    "# Plot the first PDF (full range)\n",
    "ax1.plot(x_vals, pdf_vals, color='blue')\n",
    "ax1.fill_between(x_vals, pdf_vals, alpha=0.3)\n",
    "ax1.set_xlabel('1/L')\n",
    "ax1.set_ylabel('Probability Density')\n",
    "ax1.set_title('Probability Density Function of 1/L')\n",
    "\n",
    "# Plot the second PDF (restricted x-axis to [-1, 1])\n",
    "ax2.plot(x_vals, pdf_vals, color='blue')\n",
    "ax2.fill_between(x_vals, pdf_vals, alpha=0.3)\n",
    "ax2.set_xlim(-0.3, 0.3)  # Limit x-axis to [-1, 1]\n",
    "ax2.set_xlabel('1/L')\n",
    "ax2.set_ylabel('Probability Density')\n",
    "ax2.set_title('Probability Density Function of 1/L (x-axis limited to [-0.3, 0.3])')\n",
    "\n",
    "# Adjust layout to prevent overlap\n",
    "plt.tight_layout()\n",
    "\n",
    "# Show the figure\n",
    "plt.show()\n"
   ],
   "metadata": {
    "collapsed": false,
    "ExecuteTime": {
     "end_time": "2024-10-07T07:58:01.719113400Z",
     "start_time": "2024-10-07T07:57:59.760030500Z"
    }
   },
   "id": "645f4dc427fb1f66",
   "execution_count": 24
  },
  {
   "cell_type": "markdown",
   "id": "6a1f35d79cb9376c",
   "metadata": {},
   "source": [
    "## Task 2"
   ]
  },
  {
   "cell_type": "code",
   "execution_count": 25,
   "id": "47ef6753b7e01502",
   "metadata": {
    "ExecuteTime": {
     "end_time": "2024-10-07T07:58:01.732079500Z",
     "start_time": "2024-10-07T07:58:01.715124300Z"
    }
   },
   "outputs": [],
   "source": [
    "#Easter wind filter\n",
    "filter_2 = (Hoe[\"dir_metmast_60m\"] >= 70) & (Hoe[\"dir_metmast_60m\"] <= 110)\n",
    "\n",
    "#Neutral conditions filter\n",
    "filter_1 = Hoe[\"1/L\"].abs() < 0.0005\n",
    "\n",
    "filtered_Hoe = Hoe[filter_1 & filter_2]"
   ]
  },
  {
   "cell_type": "code",
   "execution_count": 26,
   "id": "b6a8f35f4ec23027",
   "metadata": {
    "ExecuteTime": {
     "end_time": "2024-10-07T07:58:01.838793900Z",
     "start_time": "2024-10-07T07:58:01.744062400Z"
    }
   },
   "outputs": [
    {
     "data": {
      "text/plain": "          timestamp  u_star_2d     wsc  dir_metmast_60m     T_10m  \\\n204    200801021200      0.409 -0.0009          75.3320  3.938150   \n205    200801021210      0.353  0.0006          77.1807  4.013850   \n206    200801021220      0.464 -0.0006          81.0822  4.051890   \n207    200801021230      0.368 -0.0001          83.6215  4.056790   \n216    200801021400      0.438 -0.0013          81.2734  3.916900   \n...             ...        ...     ...              ...       ...   \n44592  200812291020      0.293 -0.0004         100.9610  1.765120   \n44594  200812291040      0.214  0.0003         103.7000  1.801660   \n44595  200812291050      0.337  0.0013         102.1210  1.818030   \n44614  200812291400      0.247  0.0005         109.6660  2.366640   \n44749  200812301450      0.186 -0.0001         107.9030  0.354478   \n\n       wsp_metmast_10m  wsp_metmast_40m  wsp_metmast_60m  wsp_metmast_80m  \\\n204            5.73629          6.72659          7.21169          7.64671   \n205            6.02018          7.29854          7.78025          8.21616   \n206            6.47754          7.64026          7.96439          8.27534   \n207            6.38485          7.64065          8.23059          8.47128   \n216            6.57345          7.85059          8.41318          8.86007   \n...                ...              ...              ...              ...   \n44592          3.98454          4.76040          5.23101          5.67885   \n44594          4.23295          5.04428          5.47406          5.84877   \n44595          4.67706          5.55342          5.74217          6.16051   \n44614          4.19164          4.61895          4.76177          5.00851   \n44749          2.90260          3.58847          3.78800          3.77922   \n\n       wsp_metmast_100m     T_10m_K       1/L  \n204             8.03121  277.088150  0.000186  \n205             8.56211  277.163850 -0.000193  \n206             8.61539  277.201890  0.000085  \n207             8.78089  277.206790  0.000028  \n216             9.20216  277.066900  0.000219  \n...                 ...         ...       ...  \n44592           6.11032  274.915120  0.000227  \n44594           6.20969  274.951660 -0.000437  \n44595           6.39331  274.968030 -0.000485  \n44614           5.20927  275.516640 -0.000473  \n44749           3.74068  273.504478  0.000223  \n\n[277 rows x 12 columns]",
      "text/html": "<div>\n<style scoped>\n    .dataframe tbody tr th:only-of-type {\n        vertical-align: middle;\n    }\n\n    .dataframe tbody tr th {\n        vertical-align: top;\n    }\n\n    .dataframe thead th {\n        text-align: right;\n    }\n</style>\n<table border=\"1\" class=\"dataframe\">\n  <thead>\n    <tr style=\"text-align: right;\">\n      <th></th>\n      <th>timestamp</th>\n      <th>u_star_2d</th>\n      <th>wsc</th>\n      <th>dir_metmast_60m</th>\n      <th>T_10m</th>\n      <th>wsp_metmast_10m</th>\n      <th>wsp_metmast_40m</th>\n      <th>wsp_metmast_60m</th>\n      <th>wsp_metmast_80m</th>\n      <th>wsp_metmast_100m</th>\n      <th>T_10m_K</th>\n      <th>1/L</th>\n    </tr>\n  </thead>\n  <tbody>\n    <tr>\n      <th>204</th>\n      <td>200801021200</td>\n      <td>0.409</td>\n      <td>-0.0009</td>\n      <td>75.3320</td>\n      <td>3.938150</td>\n      <td>5.73629</td>\n      <td>6.72659</td>\n      <td>7.21169</td>\n      <td>7.64671</td>\n      <td>8.03121</td>\n      <td>277.088150</td>\n      <td>0.000186</td>\n    </tr>\n    <tr>\n      <th>205</th>\n      <td>200801021210</td>\n      <td>0.353</td>\n      <td>0.0006</td>\n      <td>77.1807</td>\n      <td>4.013850</td>\n      <td>6.02018</td>\n      <td>7.29854</td>\n      <td>7.78025</td>\n      <td>8.21616</td>\n      <td>8.56211</td>\n      <td>277.163850</td>\n      <td>-0.000193</td>\n    </tr>\n    <tr>\n      <th>206</th>\n      <td>200801021220</td>\n      <td>0.464</td>\n      <td>-0.0006</td>\n      <td>81.0822</td>\n      <td>4.051890</td>\n      <td>6.47754</td>\n      <td>7.64026</td>\n      <td>7.96439</td>\n      <td>8.27534</td>\n      <td>8.61539</td>\n      <td>277.201890</td>\n      <td>0.000085</td>\n    </tr>\n    <tr>\n      <th>207</th>\n      <td>200801021230</td>\n      <td>0.368</td>\n      <td>-0.0001</td>\n      <td>83.6215</td>\n      <td>4.056790</td>\n      <td>6.38485</td>\n      <td>7.64065</td>\n      <td>8.23059</td>\n      <td>8.47128</td>\n      <td>8.78089</td>\n      <td>277.206790</td>\n      <td>0.000028</td>\n    </tr>\n    <tr>\n      <th>216</th>\n      <td>200801021400</td>\n      <td>0.438</td>\n      <td>-0.0013</td>\n      <td>81.2734</td>\n      <td>3.916900</td>\n      <td>6.57345</td>\n      <td>7.85059</td>\n      <td>8.41318</td>\n      <td>8.86007</td>\n      <td>9.20216</td>\n      <td>277.066900</td>\n      <td>0.000219</td>\n    </tr>\n    <tr>\n      <th>...</th>\n      <td>...</td>\n      <td>...</td>\n      <td>...</td>\n      <td>...</td>\n      <td>...</td>\n      <td>...</td>\n      <td>...</td>\n      <td>...</td>\n      <td>...</td>\n      <td>...</td>\n      <td>...</td>\n      <td>...</td>\n    </tr>\n    <tr>\n      <th>44592</th>\n      <td>200812291020</td>\n      <td>0.293</td>\n      <td>-0.0004</td>\n      <td>100.9610</td>\n      <td>1.765120</td>\n      <td>3.98454</td>\n      <td>4.76040</td>\n      <td>5.23101</td>\n      <td>5.67885</td>\n      <td>6.11032</td>\n      <td>274.915120</td>\n      <td>0.000227</td>\n    </tr>\n    <tr>\n      <th>44594</th>\n      <td>200812291040</td>\n      <td>0.214</td>\n      <td>0.0003</td>\n      <td>103.7000</td>\n      <td>1.801660</td>\n      <td>4.23295</td>\n      <td>5.04428</td>\n      <td>5.47406</td>\n      <td>5.84877</td>\n      <td>6.20969</td>\n      <td>274.951660</td>\n      <td>-0.000437</td>\n    </tr>\n    <tr>\n      <th>44595</th>\n      <td>200812291050</td>\n      <td>0.337</td>\n      <td>0.0013</td>\n      <td>102.1210</td>\n      <td>1.818030</td>\n      <td>4.67706</td>\n      <td>5.55342</td>\n      <td>5.74217</td>\n      <td>6.16051</td>\n      <td>6.39331</td>\n      <td>274.968030</td>\n      <td>-0.000485</td>\n    </tr>\n    <tr>\n      <th>44614</th>\n      <td>200812291400</td>\n      <td>0.247</td>\n      <td>0.0005</td>\n      <td>109.6660</td>\n      <td>2.366640</td>\n      <td>4.19164</td>\n      <td>4.61895</td>\n      <td>4.76177</td>\n      <td>5.00851</td>\n      <td>5.20927</td>\n      <td>275.516640</td>\n      <td>-0.000473</td>\n    </tr>\n    <tr>\n      <th>44749</th>\n      <td>200812301450</td>\n      <td>0.186</td>\n      <td>-0.0001</td>\n      <td>107.9030</td>\n      <td>0.354478</td>\n      <td>2.90260</td>\n      <td>3.58847</td>\n      <td>3.78800</td>\n      <td>3.77922</td>\n      <td>3.74068</td>\n      <td>273.504478</td>\n      <td>0.000223</td>\n    </tr>\n  </tbody>\n</table>\n<p>277 rows × 12 columns</p>\n</div>"
     },
     "execution_count": 26,
     "metadata": {},
     "output_type": "execute_result"
    }
   ],
   "source": [
    "filtered_Hoe"
   ]
  },
  {
   "cell_type": "markdown",
   "id": "2396e530cb14842b",
   "metadata": {},
   "source": [
    "### a)"
   ]
  },
  {
   "cell_type": "markdown",
   "id": "9c31b732f8da12be",
   "metadata": {},
   "source": [
    "Means"
   ]
  },
  {
   "cell_type": "code",
   "execution_count": 27,
   "id": "5ead095f0cf8fffc",
   "metadata": {
    "ExecuteTime": {
     "end_time": "2024-10-07T07:58:01.871705600Z",
     "start_time": "2024-10-07T07:58:01.761999600Z"
    }
   },
   "outputs": [],
   "source": [
    "wsp_10m = filtered_Hoe[\"wsp_metmast_10m\"].mean()\n",
    "wsp_40m = filtered_Hoe[\"wsp_metmast_40m\"].mean()\n",
    "wsp_60m = filtered_Hoe[\"wsp_metmast_60m\"].mean()\n",
    "wsp_80m = filtered_Hoe[\"wsp_metmast_80m\"].mean()\n",
    "wsp_100m = filtered_Hoe[\"wsp_metmast_100m\"].mean()"
   ]
  },
  {
   "cell_type": "code",
   "execution_count": 28,
   "id": "99b7733c",
   "metadata": {
    "ExecuteTime": {
     "end_time": "2024-10-07T07:58:01.872702700Z",
     "start_time": "2024-10-07T07:58:01.774980800Z"
    }
   },
   "outputs": [
    {
     "name": "stdout",
     "output_type": "stream",
     "text": [
      "0.41097833935018085\n"
     ]
    }
   ],
   "source": [
    "u_star = filtered_Hoe[\"u_star_2d\"].mean()\n",
    "print(u_star)"
   ]
  },
  {
   "cell_type": "markdown",
   "id": "da662262f06ba0e2",
   "metadata": {},
   "source": [
    "Standard deviatons"
   ]
  },
  {
   "cell_type": "code",
   "execution_count": 29,
   "id": "ac76a33971ea6544",
   "metadata": {
    "ExecuteTime": {
     "end_time": "2024-10-07T07:58:01.873699400Z",
     "start_time": "2024-10-07T07:58:01.789924300Z"
    }
   },
   "outputs": [],
   "source": [
    "std_10m = filtered_Hoe[\"wsp_metmast_10m\"].std()\n",
    "std_40m = filtered_Hoe[\"wsp_metmast_40m\"].std()\n",
    "std_60m = filtered_Hoe[\"wsp_metmast_60m\"].std()\n",
    "std_80m = filtered_Hoe[\"wsp_metmast_80m\"].std()\n",
    "std_100m = filtered_Hoe[\"wsp_metmast_100m\"].std()"
   ]
  },
  {
   "cell_type": "code",
   "execution_count": 30,
   "id": "83cea2a714a63c63",
   "metadata": {
    "ExecuteTime": {
     "end_time": "2024-10-07T07:58:02.353438600Z",
     "start_time": "2024-10-07T07:58:01.824831100Z"
    }
   },
   "outputs": [
    {
     "data": {
      "text/plain": "<Figure size 432x288 with 1 Axes>",
      "image/png": "[encoded data removed]"
     },
     "metadata": {
      "needs_background": "light"
     },
     "output_type": "display_data"
    },
    {
     "data": {
      "text/plain": "<Figure size 432x288 with 0 Axes>"
     },
     "metadata": {},
     "output_type": "display_data"
    }
   ],
   "source": [
    "# Heights corresponding to the wind speed measurements\n",
    "heights = [10, 40, 60, 80, 100]\n",
    "heights_for_fit = [10, 40, 60, 80]\n",
    "#wind_speed_columns = ['wsp_metmast_10m', 'wsp_metmast_40m', 'wsp_metmast_60m', 'wsp_metmast_80m', 'wsp_metmast_100m']\n",
    "\n",
    "\n",
    "# Calculate the mean wind speed for each height\n",
    "wind_speeds = [wsp_10m, wsp_40m, wsp_60m, wsp_80m, wsp_100m]\n",
    "wind_speeds_fit = [wsp_10m, wsp_40m, wsp_60m, wsp_80m]\n",
    "#mean_wind_speeds = [df_neutral[col].mean() for col in wind_speed_columns]\n",
    "\n",
    "# # We apply np.log to the heights since we are working in semi-log space (logarithmic y-axis)\n",
    "# log_heights = np.log(heights_for_fit)\n",
    "# slope, intercept, r_value, p_value, std_err = linregress(log_heights, wind_speeds_fit)\n",
    "\n",
    "# # Generate the fitted line\n",
    "# fitted_line = intercept + slope * np.log(heights_for_fit)\n",
    "\n",
    "\n",
    "log_heights = np.log10(heights[0:4])\n",
    "\n",
    "slope, intercept = np.polyfit(wind_speeds[0:4],log_heights,1)\n",
    "\n",
    "fitted_line = 10**(np.array(wind_speeds[0:4])*slope + intercept)\n",
    "\n",
    "# Standard deviations corresponding to the heights\n",
    "std_devs = [std_10m, std_40m, std_60m, std_80m, std_100m]\n",
    "\n",
    "# Create the plot with error bars for the standard deviation\n",
    "plt.errorbar(wind_speeds, heights, xerr=std_devs, fmt='o', ecolor='red', linestyle='-', color='orange', capsize=5, label='Mean Wind Speed with Std Dev')\n",
    "\n",
    "# Plot the fitted line on top (extending the line between 10 m and 80 m)\n",
    "plt.plot(wind_speeds[0:4], fitted_line, 'g--', label='Fitted Line (10-80m)')\n",
    "\n",
    "# Set x-axis and y-axis labels\n",
    "plt.xlabel('Mean Wind Speed (m/s)')\n",
    "plt.ylabel('Height (m)')\n",
    "plt.title('Mean Wind Speed vs. Height with Logarithmic Y-axis')\n",
    "\n",
    "# Apply a logarithmic scale to the y-axis (height)\n",
    "plt.yscale('log')\n",
    "\n",
    "# Show the legend\n",
    "plt.legend()\n",
    "\n",
    "# Show the plot\n",
    "plt.show()\n",
    "\n",
    "# Optionally, save the figure as a PDF\n",
    "plt.savefig('log_mean_wind_speed_vs_height.pdf')"
   ]
  },
  {
   "cell_type": "markdown",
   "id": "8b6178bf",
   "metadata": {},
   "source": [
    "Find u_star and z0 parameters"
   ]
  },
  {
   "cell_type": "code",
   "execution_count": 31,
   "id": "fe58e896",
   "metadata": {
    "ExecuteTime": {
     "end_time": "2024-10-07T07:58:02.400291300Z",
     "start_time": "2024-10-07T07:58:02.348435100Z"
    }
   },
   "outputs": [
    {
     "name": "stdout",
     "output_type": "stream",
     "text": [
      "0.028310182224525984\n",
      "0.9922266073487155\n"
     ]
    }
   ],
   "source": [
    "z0 = 10**intercept\n",
    "u_star = k/slope\n",
    "\n",
    "print(z0)\n",
    "print(u_star)\n",
    "\n",
    "\n"
   ]
  },
  {
   "cell_type": "code",
   "execution_count": 32,
   "id": "bbb3cbd9",
   "metadata": {
    "ExecuteTime": {
     "end_time": "2024-10-07T07:58:02.402286600Z",
     "start_time": "2024-10-07T07:58:02.364389700Z"
    }
   },
   "outputs": [
    {
     "name": "stdout",
     "output_type": "stream",
     "text": [
      "the difference from 60 to 100 is 2.7270862472807806 %\n",
      "the difference from 80 to 100 is 1.399438395641866 %\n"
     ]
    }
   ],
   "source": [
    "u_star_60=wsp_60m*k/np.log(60/z0)\n",
    "u_star_80=wsp_80m*k/np.log(80/z0)\n",
    "\n",
    "u_60_to_100= u_star_60/k*np.log(100/z0)\n",
    "u_80_to_100= u_star_80/k*np.log(100/z0)\n",
    "  \n",
    "error_60=100-(u_60_to_100*100/wsp_100m)\n",
    "error_80=100-(u_80_to_100*100/wsp_100m)\n",
    "\n",
    "print(f\"the difference from 60 to 100 is {error_60} %\")\n",
    "print(f\"the difference from 80 to 100 is {error_80} %\")"
   ]
  },
  {
   "cell_type": "code",
   "execution_count": 33,
   "id": "06f5f1e6",
   "metadata": {
    "ExecuteTime": {
     "end_time": "2024-10-07T07:58:02.648627200Z",
     "start_time": "2024-10-07T07:58:02.373363800Z"
    }
   },
   "outputs": [
    {
     "data": {
      "text/plain": "<Figure size 432x288 with 1 Axes>",
      "image/png": "[encoded data removed]"
     },
     "metadata": {
      "needs_background": "light"
     },
     "output_type": "display_data"
    },
    {
     "name": "stdout",
     "output_type": "stream",
     "text": [
      "th long-term mean shear exponent is 0.14513700722518294\n",
      "0.03788945099293911\n",
      "0.1752977711591582\n",
      "th long-term mean shear exponent calculated by means 0.1752977711591582\n",
      "the difference from 60 to 100 is 0.9356287651414021 %\n",
      "the difference from 60 to 100 is 0.2666590996371525 %\n",
      "the difference from 60 to 100 is 1.841681731353816 %\n",
      "the difference from 60 to 100 is 2.529406237278309 %\n",
      "the difference from 60 to 100 is 0.4703924835251172 %\n",
      "the difference from 60 to 100 is 1.1488568397308683 %\n"
     ]
    },
    {
     "data": {
      "text/plain": "<Figure size 432x288 with 0 Axes>"
     },
     "metadata": {},
     "output_type": "display_data"
    }
   ],
   "source": [
    "import numpy as np\n",
    "import matplotlib.pyplot as plt\n",
    "import math\n",
    "\n",
    "# Heights corresponding to the wind speed measurements\n",
    "heights = [10, 40, 60, 80, 100]\n",
    "heights_for_fit = [10, 40, 60, 80]\n",
    "\n",
    "# Wind speeds corresponding to the heights (replace with your data)\n",
    "wind_speeds = [wsp_10m, wsp_40m, wsp_60m, wsp_80m, wsp_100m]\n",
    "wind_speeds_fit = [wsp_10m, wsp_40m, wsp_60m, wsp_80m]\n",
    "\n",
    "# Standard deviations corresponding to the wind speeds (replace with your data)\n",
    "std_devs = [std_10m, std_40m, std_60m, std_80m, std_100m]\n",
    "\n",
    "# Logarithmic transformation of wind speeds and heights\n",
    "log_heights = np.log(heights_for_fit)\n",
    "log_wind_speeds_fit = np.log(wind_speeds_fit)\n",
    "\n",
    "# Perform linear regression in log-log space\n",
    "slope, intercept = np.polyfit(log_heights, log_wind_speeds_fit, 1)\n",
    "\n",
    "# Generate the fitted line\n",
    "fitted_log_wind_speeds = slope * np.log(heights_for_fit) + intercept\n",
    "\n",
    "# Convert fitted values back to linear scale for plotting\n",
    "fitted_wind_speeds = np.exp(fitted_log_wind_speeds)\n",
    "\n",
    "# Create the plot with error bars\n",
    "#plt.errorbar(heights, wind_speeds, yerr=std_devs, fmt='o', ecolor='red', linestyle='-', color='orange', capsize=5, label='Mean Wind Speed with Std Dev')\n",
    "\n",
    "# Plot the fitted line\n",
    "plt.plot( fitted_wind_speeds, heights_for_fit, 'g--', label='Fitted Line (10-80m)')\n",
    "plt.scatter(wind_speeds_fit,heights_for_fit)\n",
    "# Set x-axis and y-axis labels\n",
    "plt.xlabel('Height (m)')\n",
    "plt.ylabel('Mean Wind Speed (m/s)')\n",
    "plt.title('Mean Wind Speed vs. Height with Logarithmic Axes')\n",
    "\n",
    "# Apply a logarithmic scale to both axes\n",
    "plt.yscale('log', base=math.e)\n",
    "plt.xscale('log', base=math.e)\n",
    "\n",
    "# Show the legend\n",
    "plt.legend()\n",
    "\n",
    "# Show the plot\n",
    "plt.show()\n",
    "\n",
    "# Optionally, save the figure as a PDF\n",
    "plt.savefig('log_mean_wind_speed_vs_height.pdf')\n",
    "\n",
    "\n",
    "\n",
    "#############################################  Q2.e ###############################\n",
    "a_slope=slope\n",
    "print(f'th long-term mean shear exponent is {a_slope}')\n",
    "\n",
    "\n",
    "\n",
    "z_ref= (10*40*60*80)**(1/len(heights_for_fit))\n",
    "z0=z_ref*np.exp(-1/a_slope)\n",
    "\n",
    "print(z0)\n",
    "#############################################  Q2.f ###############################\n",
    "\n",
    "a_means = np.log(wsp_80m/wsp_60m)/np.log(80/60)\n",
    "print(a_means)\n",
    "print(f'th long-term mean shear exponent calculated by means {a_means}')\n",
    "#############################################  Q2.g ###############################\n",
    "\n",
    "U_100_slope= wsp_80m*(100/80)**a_slope\n",
    "\n",
    "\n",
    "U_100_means= wsp_80m*(100/80)**a_means\n",
    "\n",
    "\n",
    "error_slope_exper = np.abs(100 - U_100_slope/wsp_100m*100)\n",
    "\n",
    "error_means_exper = np.abs(100 - U_100_means/wsp_100m*100)\n",
    "\n",
    "error_slope_60 = np.abs(100 - U_100_slope/u_60_to_100*100)\n",
    "\n",
    "error_means_60 = np.abs(100 - U_100_means/u_60_to_100*100)\n",
    "\n",
    "error_slope_80 = np.abs(100 - U_100_slope/u_80_to_100*100)\n",
    "\n",
    "error_means_80 = np.abs(100 - U_100_means/u_80_to_100*100)\n",
    "\n",
    "\n",
    "print(f\"the difference from 60 to 100 is {error_slope_exper} %\")\n",
    "print(f\"the difference from 60 to 100 is {error_means_exper} %\")\n",
    "print(f\"the difference from 60 to 100 is {error_slope_60} %\")\n",
    "print(f\"the difference from 60 to 100 is {error_means_60} %\")\n",
    "print(f\"the difference from 60 to 100 is {error_slope_80} %\")\n",
    "print(f\"the difference from 60 to 100 is {error_means_80} %\")\n",
    "\n"
   ]
  },
  {
   "cell_type": "code",
   "execution_count": 34,
   "id": "1295101e",
   "metadata": {
    "ExecuteTime": {
     "end_time": "2024-10-07T07:58:03.106403200Z",
     "start_time": "2024-10-07T07:58:02.649623900Z"
    }
   },
   "outputs": [
    {
     "data": {
      "text/plain": "<Figure size 432x288 with 1 Axes>",
      "image/png": "[encoded data removed]"
     },
     "metadata": {
      "needs_background": "light"
     },
     "output_type": "display_data"
    }
   ],
   "source": [
    "#Calculate std deviation\n",
    "easterly_Hoe=Hoe[filter_2]\n",
    "\n",
    "# Extract the data\n",
    "data = easterly_Hoe['1/L'].dropna()  # Drop any NaN values if they exist\n",
    "\n",
    "# Create a Gaussian KDE model\n",
    "kde = gaussian_kde(data)\n",
    "\n",
    "# Create a range of values for plotting the PDF\n",
    "x_vals = np.linspace(data.min(), data.max(), 1000)\n",
    "\n",
    "# Evaluate the PDF for the range of values\n",
    "pdf_vals = kde(x_vals)\n",
    "\n",
    "std_gaussian = pdf_vals.std()\n",
    "\n",
    "limit = 3*std_gaussian\n",
    "\n",
    "# Plot the PDF\n",
    "plt.plot(x_vals, pdf_vals, color='blue')\n",
    "plt.fill_between(x_vals, pdf_vals, alpha=0.3)\n",
    "\n",
    "# Add labels and a title\n",
    "plt.xlim(left=-limit)\n",
    "plt.xlabel(f'1/L -{limit},{limit}]')\n",
    "plt.ylabel('Probability Density')\n",
    "plt.title('Probability Density Function of 1/L')\n",
    "# \n",
    "#plt.savefig(f'Plots_new/pdf_{limit}.png')\n",
    "# Show the plot\n",
    "plt.show()"
   ]
  },
  {
   "cell_type": "markdown",
   "id": "34d51a08",
   "metadata": {},
   "source": [
    "Task 3"
   ]
  },
  {
   "cell_type": "code",
   "execution_count": 35,
   "id": "6402dbc0",
   "metadata": {
    "ExecuteTime": {
     "end_time": "2024-10-07T07:58:03.108426300Z",
     "start_time": "2024-10-07T07:58:03.101462600Z"
    }
   },
   "outputs": [],
   "source": [
    "#Easter wind filter\n",
    "filter_2 = (Hoe[\"dir_metmast_60m\"] >= 70) & (Hoe[\"dir_metmast_60m\"] <= 110)\n",
    "\n",
    "# Non-Neutral conditions filters (positive and negative ranges)\n",
    "filter_3 = (Hoe[\"1/L\"] < limit) & (Hoe[\"1/L\"] > 0.0005) # Filter for stable (rightest part)\n",
    "filter_4 = (Hoe[\"1/L\"] > -limit) & (Hoe[\"1/L\"] < -0.0005) # Filter for unstable (leftest part)\n",
    "filter_5 = (Hoe[\"1/L\"] > -limit) & (Hoe[\"1/L\"] < limit) # Filter for all\n",
    "\n",
    "# Filter to get the two data subsets\n",
    "filtered_Hoe_stable = Hoe[(filter_2 & filter_3)]\n",
    "filtered_Hoe_unstable = Hoe[(filter_2 & filter_4)]\n",
    "filtered_Hoe_all = Hoe[(filter_2 & filter_5)]\n"
   ]
  },
  {
   "cell_type": "markdown",
   "id": "1b13b0de",
   "metadata": {},
   "source": [
    "a)"
   ]
  },
  {
   "cell_type": "code",
   "execution_count": 36,
   "id": "c3da5824",
   "metadata": {
    "ExecuteTime": {
     "end_time": "2024-10-07T07:58:03.533268500Z",
     "start_time": "2024-10-07T07:58:03.186189Z"
    }
   },
   "outputs": [
    {
     "name": "stdout",
     "output_type": "stream",
     "text": [
      "44867\n"
     ]
    },
    {
     "data": {
      "text/plain": "<Figure size 576x432 with 1 Axes>",
      "image/png": "[encoded data removed]"
     },
     "metadata": {
      "needs_background": "light"
     },
     "output_type": "display_data"
    },
    {
     "name": "stdout",
     "output_type": "stream",
     "text": [
      "[10, 40, 60, 80, 100]\n"
     ]
    }
   ],
   "source": [
    "# Mean for stable conditions\n",
    "wsp_10m_stable = filtered_Hoe_stable[\"wsp_metmast_10m\"].mean()\n",
    "wsp_40m_stable = filtered_Hoe_stable[\"wsp_metmast_40m\"].mean()\n",
    "wsp_60m_stable = filtered_Hoe_stable[\"wsp_metmast_60m\"].mean()\n",
    "wsp_80m_stable = filtered_Hoe_stable[\"wsp_metmast_80m\"].mean()\n",
    "wsp_100m_stable = filtered_Hoe_stable[\"wsp_metmast_100m\"].mean()\n",
    "\n",
    "wind_speeds_stable = [wsp_10m_stable, wsp_40m_stable, wsp_60m_stable, wsp_80m_stable, wsp_100m_stable]\n",
    "\n",
    "# Mean for unstable conditions\n",
    "wsp_10m_unstable = filtered_Hoe_unstable[\"wsp_metmast_10m\"].mean()\n",
    "wsp_40m_unstable = filtered_Hoe_unstable[\"wsp_metmast_40m\"].mean()\n",
    "wsp_60m_unstable = filtered_Hoe_unstable[\"wsp_metmast_60m\"].mean()\n",
    "wsp_80m_unstable = filtered_Hoe_unstable[\"wsp_metmast_80m\"].mean()\n",
    "wsp_100m_unstable = filtered_Hoe_unstable[\"wsp_metmast_100m\"].mean()\n",
    "\n",
    "wind_speeds_unstable = [wsp_10m_unstable, wsp_40m_unstable, wsp_60m_unstable, wsp_80m_unstable, wsp_100m_unstable]\n",
    "\n",
    "# Mean for all conditions\n",
    "wsp_10m_all = filtered_Hoe_all[\"wsp_metmast_10m\"].mean()\n",
    "wsp_40m_all = filtered_Hoe_all[\"wsp_metmast_40m\"].mean()\n",
    "wsp_60m_all = filtered_Hoe_all[\"wsp_metmast_60m\"].mean()\n",
    "wsp_80m_all = filtered_Hoe_all[\"wsp_metmast_80m\"].mean()\n",
    "wsp_100m_all = filtered_Hoe_all[\"wsp_metmast_100m\"].mean()\n",
    "\n",
    "print(len(Hoe[\"wsp_metmast_10m\"]))\n",
    "\n",
    "wind_speeds_all = [wsp_10m_all, wsp_40m_all, wsp_60m_all, wsp_80m_all, wsp_100m_all]\n",
    "\n",
    "# Heights corresponding to the wind speed measurements\n",
    "heights = [10, 40, 60, 80, 100]\n",
    "\n",
    "# Convert heights to log10 scale for the first 4 points (common for all)\n",
    "log_heights = np.log10(heights[0:4])\n",
    "\n",
    "# Fit trendlines for each condition using the same log_heights\n",
    "\n",
    "# Stable condition\n",
    "slope_stable, intercept_stable = np.polyfit(wind_speeds_stable[0:4], log_heights, 1)\n",
    "fitted_line_stable = 10**(np.array(wind_speeds_stable[0:4]) * slope_stable + intercept_stable)\n",
    "\n",
    "# Unstable condition\n",
    "slope_unstable, intercept_unstable = np.polyfit(wind_speeds_unstable[0:4], log_heights, 1)\n",
    "fitted_line_unstable = 10**(np.array(wind_speeds_unstable[0:4]) * slope_unstable + intercept_unstable)\n",
    "\n",
    "# All conditions\n",
    "slope_all, intercept_all = np.polyfit(wind_speeds_all[0:4], log_heights, 1)\n",
    "fitted_line_all = 10**(np.array(wind_speeds_all[0:4]) * slope_all + intercept_all)\n",
    "\n",
    "# Neutral condition\n",
    "slope_neutral, intercept_neutral = np.polyfit(wind_speeds[0:4], log_heights, 1)\n",
    "fitted_line_neutral = 10**(np.array(wind_speeds[0:4]) * slope_neutral + intercept_neutral)\n",
    "\n",
    "\n",
    "\n",
    "# Create the plot\n",
    "plt.figure(figsize=(8, 6))\n",
    "\n",
    "# Plot wind speed profiles for stable, unstable, and all conditions\n",
    "plt.plot(wind_speeds_stable, heights, 'b-', label='Stable Conditions', marker='o')\n",
    "plt.plot(wind_speeds_unstable, heights, 'r-', label='Unstable Conditions', marker='o')\n",
    "plt.plot(wind_speeds_all, heights, 'g-', label='All Conditions', marker='o')\n",
    "plt.plot(wind_speeds, heights, 'y-', label='Neutral Conditions', marker='o')\n",
    "\n",
    "# Plot trendlines for each condition\n",
    "plt.plot(wind_speeds_stable[:-1], fitted_line_stable, 'b--')\n",
    "plt.plot(wind_speeds_unstable[:-1], fitted_line_unstable, 'r--')\n",
    "plt.plot(wind_speeds_all[:-1], fitted_line_all, 'g--')\n",
    "plt.plot(wind_speeds[:-1], fitted_line_neutral, 'y--')\n",
    "\n",
    "# Set x-axis and y-axis labels\n",
    "plt.xlabel('Mean Wind Speed (m/s)')\n",
    "plt.ylabel('Height (m)')\n",
    "plt.title('Mean Wind Speed vs. Height for Different Stability Conditions')\n",
    "\n",
    "# Apply a logarithmic scale to the y-axis (height)\n",
    "plt.yscale('log')\n",
    "\n",
    "# Show the legend to distinguish different profiles\n",
    "plt.legend()\n",
    "\n",
    "#plt.savefig(f'Plots_new/log_mean_wind_speed_vs_height_{limit}.png')\n",
    "# Show the plot\n",
    "plt.show()\n",
    "\n",
    "# Optionally, save the figure as a PDF file\n",
    "print(heights)\n"
   ]
  },
  {
   "cell_type": "code",
   "outputs": [
    {
     "data": {
      "text/plain": "[6.3686867509025245,\n 7.710693682310472,\n 8.220895703971122,\n 8.64610729241877,\n 9.015054620938631]"
     },
     "execution_count": 37,
     "metadata": {},
     "output_type": "execute_result"
    }
   ],
   "source": [
    "wind_speeds"
   ],
   "metadata": {
    "collapsed": false,
    "ExecuteTime": {
     "end_time": "2024-10-07T07:58:03.628038100Z",
     "start_time": "2024-10-07T07:58:03.527279200Z"
    }
   },
   "id": "b0b83c2ef7ee1f73",
   "execution_count": 37
  },
  {
   "cell_type": "markdown",
   "source": [
    "## Task 4"
   ],
   "metadata": {
    "collapsed": false
   },
   "id": "6d7ea5d4cb9b8cc1"
  },
  {
   "cell_type": "code",
   "outputs": [
    {
     "data": {
      "text/plain": "[10, 40, 60, 80, 100]"
     },
     "execution_count": 38,
     "metadata": {},
     "output_type": "execute_result"
    }
   ],
   "source": [
    "heights"
   ],
   "metadata": {
    "collapsed": false,
    "ExecuteTime": {
     "end_time": "2024-10-07T07:58:03.631995900Z",
     "start_time": "2024-10-07T07:58:03.536253300Z"
    }
   },
   "id": "e5b84b491e207eab",
   "execution_count": 38
  },
  {
   "cell_type": "code",
   "execution_count": 40,
   "id": "9960494e",
   "metadata": {
    "ExecuteTime": {
     "end_time": "2024-10-07T08:04:05.344674300Z",
     "start_time": "2024-10-07T08:04:05.196070700Z"
    }
   },
   "outputs": [
    {
     "name": "stdout",
     "output_type": "stream",
     "text": [
      "Slopes for stable condition: [0.06125517332414976, 0.04185667768595236, 0.034897477789255046, 0.02782631869834753]\n",
      "Slopes for unstable condition: [0.03152607253797533, 0.013910051971326132, 0.010524312596005813, 0.010479520737327653]\n",
      "Slopes for neutral condition: [0.04473356438026492, 0.025510101083032487, 0.021260579422382443, 0.01844736642599303]\n",
      "[[1.00801849 0.32658068 0.4353861 ]\n",
      " [2.75518314 0.57638062 0.9931463 ]\n",
      " [3.44564885 0.65413233 1.24155912]\n",
      " [3.66329141 0.86846442 1.436367  ]]\n",
      "0.30650613437195756\n"
     ]
    },
    {
     "data": {
      "text/plain": "<Figure size 720x432 with 1 Axes>",
      "image/png": "[encoded data removed]"
     },
     "metadata": {
      "needs_background": "light"
     },
     "output_type": "display_data"
    }
   ],
   "source": [
    "wind_speeds_stable\n",
    "wind_speeds_unstable\n",
    "wind_speeds_neutral=wind_speeds\n",
    "heights\n",
    "\n",
    "\n",
    "def calculate_slope(heights, wind_speeds):\n",
    "    # Ensure heights and wind_speeds are of the same length\n",
    "    if len(heights) != len(wind_speeds):\n",
    "        raise ValueError(\"Heights and wind speeds must have the same length\")\n",
    "    \n",
    "    slopes = []\n",
    "    # Iterate through the list of heights and wind speeds to calculate slopes\n",
    "    for i in range(1, len(heights)):\n",
    "        delta_y = heights[i] - heights[i - 1]  # Change in heights\n",
    "        delta_x = wind_speeds[i] - wind_speeds[i - 1]  # Change in wind speed\n",
    "        if delta_x == 0:\n",
    "            slope = float('inf')  # Handle division by zero (e.g., no change in wind speed)\n",
    "        else:\n",
    "            slope = delta_x / delta_y\n",
    "        slopes.append(slope)\n",
    "    \n",
    "    return slopes\n",
    "\n",
    "# Calculate slopes for each wind speed condition\n",
    "slopes_stable = calculate_slope(heights, wind_speeds_stable)\n",
    "slopes_unstable = calculate_slope(heights, wind_speeds_unstable)\n",
    "slopes_neutral = calculate_slope(heights, wind_speeds_neutral)\n",
    "\n",
    "# Output the results\n",
    "print(\"Slopes for stable condition:\", slopes_stable)\n",
    "print(\"Slopes for unstable condition:\", slopes_unstable)\n",
    "print(\"Slopes for neutral condition:\", slopes_neutral)\n",
    "\n",
    "\n",
    "\n",
    "phi_to_plot=[]\n",
    "for i in range(0,len(slopes_stable)):\n",
    "    phi_stable=slopes_stable[i] * k * heights[i] / (filtered_Hoe_stable[\"u_star_2d\"].mean())\n",
    "    phio_unstable=slopes_unstable[i] * k * heights[i]  / (filtered_Hoe_unstable[\"u_star_2d\"].mean())\n",
    "    phi_neutral=slopes_neutral[i] * k * heights[i] / (filtered_Hoe[\"u_star_2d\"].mean())\n",
    "\n",
    "    phi_to_plot.append([phi_stable, phio_unstable, phi_neutral])\n",
    "\n",
    "\n",
    "phi_to_plot = np.array(phi_to_plot)\n",
    "\n",
    "print(phi_to_plot)\n",
    "print(easterly_Hoe[\"u_star_2d\"].mean())\n",
    "\n",
    "mean_heights=[25,50,70,90]\n",
    "\n",
    "\n",
    "\n",
    "# Extract the individual columns from phi_to_plot\n",
    "phi_stable = phi_to_plot[:, 0]\n",
    "phi_unstable = phi_to_plot[:, 1]\n",
    "phi_neutral = phi_to_plot[:, 2]\n",
    "\n",
    "# Create a single plot\n",
    "plt.figure(figsize=(10, 6))\n",
    "\n",
    "# Plot each phi type with different colors and labels\n",
    "plt.plot(phi_stable, mean_heights, label='Phi Stable', color='b')\n",
    "plt.plot(phi_unstable, mean_heights,  label='Phi Unstable', color='r')\n",
    "plt.plot(phi_neutral, mean_heights, label='Phi Neutral', color='g')\n",
    "\n",
    "plt.axvline(x=1, color='black', linestyle='--', linewidth=1.5, label='phi=1')\n",
    "\n",
    "# Add titles and labels\n",
    "plt.title('Phi Values vs Heights')\n",
    "plt.xlabel('Phi')\n",
    "plt.ylabel('Height [m]')\n",
    "plt.legend()  # To show the labels for each line\n",
    "\n",
    "# # Show the plot\n",
    "plt.show()"
   ]
  },
  {
   "cell_type": "markdown",
   "id": "c81b6736",
   "metadata": {},
   "source": [
    "Task 6"
   ]
  },
  {
   "cell_type": "code",
   "outputs": [
    {
     "data": {
      "text/plain": "array([0.4353861 , 0.9931463 , 1.24155912, 1.436367  ])"
     },
     "execution_count": 41,
     "metadata": {},
     "output_type": "execute_result"
    }
   ],
   "source": [
    "phi_neutral"
   ],
   "metadata": {
    "collapsed": false,
    "ExecuteTime": {
     "end_time": "2024-10-07T08:37:18.580094500Z",
     "start_time": "2024-10-07T08:37:18.529199200Z"
    }
   },
   "id": "f4aaa8a4fa889901",
   "execution_count": 41
  },
  {
   "cell_type": "code",
   "execution_count": 468,
   "id": "10f5dbb1",
   "metadata": {},
   "outputs": [
    {
     "name": "stdout",
     "output_type": "stream",
     "text": [
      "0.5655306718597858\n",
      "0.3805258033106134\n"
     ]
    }
   ],
   "source": [
    "stable = easterly_Hoe.loc[easterly_Hoe[\"1/L\"] > 0.0005]\n",
    "unstable = easterly_Hoe.loc[easterly_Hoe[\"1/L\"] < -0.0005]\n",
    "\n",
    "per_stable = len(stable)/len(easterly_Hoe)\n",
    "per_unstable = len(unstable)/len(easterly_Hoe)\n",
    "\n",
    "print(per_stable)\n",
    "print(per_unstable)"
   ]
  },
  {
   "cell_type": "code",
   "execution_count": 469,
   "id": "e6af6178",
   "metadata": {},
   "outputs": [
    {
     "data": {
      "text/html": [
       "<div>\n",
       "<style scoped>\n",
       "    .dataframe tbody tr th:only-of-type {\n",
       "        vertical-align: middle;\n",
       "    }\n",
       "\n",
       "    .dataframe tbody tr th {\n",
       "        vertical-align: top;\n",
       "    }\n",
       "\n",
       "    .dataframe thead th {\n",
       "        text-align: right;\n",
       "    }\n",
       "</style>\n",
       "<table border=\"1\" class=\"dataframe\">\n",
       "  <thead>\n",
       "    <tr style=\"text-align: right;\">\n",
       "      <th></th>\n",
       "      <th>timestamp</th>\n",
       "      <th>u_star_2d</th>\n",
       "      <th>wsc</th>\n",
       "      <th>dir_metmast_60m</th>\n",
       "      <th>T_10m</th>\n",
       "      <th>wsp_metmast_10m</th>\n",
       "      <th>wsp_metmast_40m</th>\n",
       "      <th>wsp_metmast_60m</th>\n",
       "      <th>wsp_metmast_80m</th>\n",
       "      <th>wsp_metmast_100m</th>\n",
       "      <th>T_10m_K</th>\n",
       "      <th>1/L</th>\n",
       "    </tr>\n",
       "  </thead>\n",
       "  <tbody>\n",
       "    <tr>\n",
       "      <th>70</th>\n",
       "      <td>200801011230</td>\n",
       "      <td>0.235</td>\n",
       "      <td>-0.0050</td>\n",
       "      <td>72.9712</td>\n",
       "      <td>3.199630</td>\n",
       "      <td>3.74567</td>\n",
       "      <td>4.50373</td>\n",
       "      <td>4.75768</td>\n",
       "      <td>4.99348</td>\n",
       "      <td>5.36262</td>\n",
       "      <td>276.349630</td>\n",
       "      <td>0.005471</td>\n",
       "    </tr>\n",
       "    <tr>\n",
       "      <th>77</th>\n",
       "      <td>200801011340</td>\n",
       "      <td>0.232</td>\n",
       "      <td>-0.0050</td>\n",
       "      <td>76.3581</td>\n",
       "      <td>3.226040</td>\n",
       "      <td>4.26994</td>\n",
       "      <td>5.13925</td>\n",
       "      <td>5.60008</td>\n",
       "      <td>5.78006</td>\n",
       "      <td>6.02288</td>\n",
       "      <td>276.376040</td>\n",
       "      <td>0.005685</td>\n",
       "    </tr>\n",
       "    <tr>\n",
       "      <th>78</th>\n",
       "      <td>200801011350</td>\n",
       "      <td>0.273</td>\n",
       "      <td>-0.0046</td>\n",
       "      <td>79.2801</td>\n",
       "      <td>3.174060</td>\n",
       "      <td>4.56627</td>\n",
       "      <td>5.72742</td>\n",
       "      <td>6.12323</td>\n",
       "      <td>6.51866</td>\n",
       "      <td>6.91794</td>\n",
       "      <td>276.324060</td>\n",
       "      <td>0.003211</td>\n",
       "    </tr>\n",
       "    <tr>\n",
       "      <th>79</th>\n",
       "      <td>200801011400</td>\n",
       "      <td>0.299</td>\n",
       "      <td>-0.0030</td>\n",
       "      <td>74.8758</td>\n",
       "      <td>3.165750</td>\n",
       "      <td>5.44514</td>\n",
       "      <td>6.25513</td>\n",
       "      <td>6.57119</td>\n",
       "      <td>6.84969</td>\n",
       "      <td>7.02042</td>\n",
       "      <td>276.315750</td>\n",
       "      <td>0.001594</td>\n",
       "    </tr>\n",
       "    <tr>\n",
       "      <th>80</th>\n",
       "      <td>200801011410</td>\n",
       "      <td>0.262</td>\n",
       "      <td>-0.0047</td>\n",
       "      <td>74.6102</td>\n",
       "      <td>3.184210</td>\n",
       "      <td>4.86455</td>\n",
       "      <td>5.90241</td>\n",
       "      <td>6.18732</td>\n",
       "      <td>6.33452</td>\n",
       "      <td>6.69739</td>\n",
       "      <td>276.334210</td>\n",
       "      <td>0.003711</td>\n",
       "    </tr>\n",
       "    <tr>\n",
       "      <th>...</th>\n",
       "      <td>...</td>\n",
       "      <td>...</td>\n",
       "      <td>...</td>\n",
       "      <td>...</td>\n",
       "      <td>...</td>\n",
       "      <td>...</td>\n",
       "      <td>...</td>\n",
       "      <td>...</td>\n",
       "      <td>...</td>\n",
       "      <td>...</td>\n",
       "      <td>...</td>\n",
       "      <td>...</td>\n",
       "    </tr>\n",
       "    <tr>\n",
       "      <th>44779</th>\n",
       "      <td>200812301950</td>\n",
       "      <td>0.157</td>\n",
       "      <td>0.0038</td>\n",
       "      <td>95.7184</td>\n",
       "      <td>-0.469200</td>\n",
       "      <td>2.34476</td>\n",
       "      <td>2.51228</td>\n",
       "      <td>2.55627</td>\n",
       "      <td>2.51865</td>\n",
       "      <td>2.63961</td>\n",
       "      <td>272.680800</td>\n",
       "      <td>-0.014131</td>\n",
       "    </tr>\n",
       "    <tr>\n",
       "      <th>44780</th>\n",
       "      <td>200812302000</td>\n",
       "      <td>0.164</td>\n",
       "      <td>0.0046</td>\n",
       "      <td>98.8727</td>\n",
       "      <td>-0.436749</td>\n",
       "      <td>2.42876</td>\n",
       "      <td>2.69846</td>\n",
       "      <td>2.67217</td>\n",
       "      <td>2.49036</td>\n",
       "      <td>2.47664</td>\n",
       "      <td>272.713251</td>\n",
       "      <td>-0.015005</td>\n",
       "    </tr>\n",
       "    <tr>\n",
       "      <th>44781</th>\n",
       "      <td>200812302010</td>\n",
       "      <td>0.104</td>\n",
       "      <td>0.0031</td>\n",
       "      <td>95.2321</td>\n",
       "      <td>-0.415630</td>\n",
       "      <td>2.11304</td>\n",
       "      <td>2.37865</td>\n",
       "      <td>2.38552</td>\n",
       "      <td>2.28557</td>\n",
       "      <td>2.30072</td>\n",
       "      <td>272.734370</td>\n",
       "      <td>-0.039651</td>\n",
       "    </tr>\n",
       "    <tr>\n",
       "      <th>44782</th>\n",
       "      <td>200812302020</td>\n",
       "      <td>0.135</td>\n",
       "      <td>0.0052</td>\n",
       "      <td>108.7880</td>\n",
       "      <td>-0.426659</td>\n",
       "      <td>2.66386</td>\n",
       "      <td>2.73001</td>\n",
       "      <td>2.67729</td>\n",
       "      <td>2.49020</td>\n",
       "      <td>2.43152</td>\n",
       "      <td>272.723341</td>\n",
       "      <td>-0.030409</td>\n",
       "    </tr>\n",
       "    <tr>\n",
       "      <th>44783</th>\n",
       "      <td>200812302040</td>\n",
       "      <td>0.075</td>\n",
       "      <td>0.0041</td>\n",
       "      <td>105.3600</td>\n",
       "      <td>-0.482514</td>\n",
       "      <td>2.25596</td>\n",
       "      <td>2.39187</td>\n",
       "      <td>2.38045</td>\n",
       "      <td>2.30530</td>\n",
       "      <td>2.26978</td>\n",
       "      <td>272.667486</td>\n",
       "      <td>-0.139861</td>\n",
       "    </tr>\n",
       "  </tbody>\n",
       "</table>\n",
       "<p>5135 rows × 12 columns</p>\n",
       "</div>"
      ],
      "text/plain": [
       "          timestamp  u_star_2d     wsc  dir_metmast_60m     T_10m  \\\n",
       "70     200801011230      0.235 -0.0050          72.9712  3.199630   \n",
       "77     200801011340      0.232 -0.0050          76.3581  3.226040   \n",
       "78     200801011350      0.273 -0.0046          79.2801  3.174060   \n",
       "79     200801011400      0.299 -0.0030          74.8758  3.165750   \n",
       "80     200801011410      0.262 -0.0047          74.6102  3.184210   \n",
       "...             ...        ...     ...              ...       ...   \n",
       "44779  200812301950      0.157  0.0038          95.7184 -0.469200   \n",
       "44780  200812302000      0.164  0.0046          98.8727 -0.436749   \n",
       "44781  200812302010      0.104  0.0031          95.2321 -0.415630   \n",
       "44782  200812302020      0.135  0.0052         108.7880 -0.426659   \n",
       "44783  200812302040      0.075  0.0041         105.3600 -0.482514   \n",
       "\n",
       "       wsp_metmast_10m  wsp_metmast_40m  wsp_metmast_60m  wsp_metmast_80m  \\\n",
       "70             3.74567          4.50373          4.75768          4.99348   \n",
       "77             4.26994          5.13925          5.60008          5.78006   \n",
       "78             4.56627          5.72742          6.12323          6.51866   \n",
       "79             5.44514          6.25513          6.57119          6.84969   \n",
       "80             4.86455          5.90241          6.18732          6.33452   \n",
       "...                ...              ...              ...              ...   \n",
       "44779          2.34476          2.51228          2.55627          2.51865   \n",
       "44780          2.42876          2.69846          2.67217          2.49036   \n",
       "44781          2.11304          2.37865          2.38552          2.28557   \n",
       "44782          2.66386          2.73001          2.67729          2.49020   \n",
       "44783          2.25596          2.39187          2.38045          2.30530   \n",
       "\n",
       "       wsp_metmast_100m     T_10m_K       1/L  \n",
       "70              5.36262  276.349630  0.005471  \n",
       "77              6.02288  276.376040  0.005685  \n",
       "78              6.91794  276.324060  0.003211  \n",
       "79              7.02042  276.315750  0.001594  \n",
       "80              6.69739  276.334210  0.003711  \n",
       "...                 ...         ...       ...  \n",
       "44779           2.63961  272.680800 -0.014131  \n",
       "44780           2.47664  272.713251 -0.015005  \n",
       "44781           2.30072  272.734370 -0.039651  \n",
       "44782           2.43152  272.723341 -0.030409  \n",
       "44783           2.26978  272.667486 -0.139861  \n",
       "\n",
       "[5135 rows x 12 columns]"
      ]
     },
     "execution_count": 469,
     "metadata": {},
     "output_type": "execute_result"
    }
   ],
   "source": [
    "\n",
    "easterly_Hoe"
   ]
  },
  {
   "cell_type": "code",
   "execution_count": 470,
   "id": "fd1661c1",
   "metadata": {},
   "outputs": [
    {
     "data": {
      "text/html": [
       "<div>\n",
       "<style scoped>\n",
       "    .dataframe tbody tr th:only-of-type {\n",
       "        vertical-align: middle;\n",
       "    }\n",
       "\n",
       "    .dataframe tbody tr th {\n",
       "        vertical-align: top;\n",
       "    }\n",
       "\n",
       "    .dataframe thead th {\n",
       "        text-align: right;\n",
       "    }\n",
       "</style>\n",
       "<table border=\"1\" class=\"dataframe\">\n",
       "  <thead>\n",
       "    <tr style=\"text-align: right;\">\n",
       "      <th></th>\n",
       "      <th>timestamp</th>\n",
       "      <th>u_star_2d</th>\n",
       "      <th>wsc</th>\n",
       "      <th>dir_metmast_60m</th>\n",
       "      <th>T_10m</th>\n",
       "      <th>wsp_metmast_10m</th>\n",
       "      <th>wsp_metmast_40m</th>\n",
       "      <th>wsp_metmast_60m</th>\n",
       "      <th>wsp_metmast_80m</th>\n",
       "      <th>wsp_metmast_100m</th>\n",
       "      <th>T_10m_K</th>\n",
       "      <th>1/L</th>\n",
       "    </tr>\n",
       "  </thead>\n",
       "  <tbody>\n",
       "    <tr>\n",
       "      <th>70</th>\n",
       "      <td>200801011230</td>\n",
       "      <td>0.235</td>\n",
       "      <td>-0.0050</td>\n",
       "      <td>72.9712</td>\n",
       "      <td>3.199630</td>\n",
       "      <td>3.74567</td>\n",
       "      <td>4.50373</td>\n",
       "      <td>4.75768</td>\n",
       "      <td>4.99348</td>\n",
       "      <td>5.36262</td>\n",
       "      <td>276.349630</td>\n",
       "      <td>0.005471</td>\n",
       "    </tr>\n",
       "    <tr>\n",
       "      <th>77</th>\n",
       "      <td>200801011340</td>\n",
       "      <td>0.232</td>\n",
       "      <td>-0.0050</td>\n",
       "      <td>76.3581</td>\n",
       "      <td>3.226040</td>\n",
       "      <td>4.26994</td>\n",
       "      <td>5.13925</td>\n",
       "      <td>5.60008</td>\n",
       "      <td>5.78006</td>\n",
       "      <td>6.02288</td>\n",
       "      <td>276.376040</td>\n",
       "      <td>0.005685</td>\n",
       "    </tr>\n",
       "    <tr>\n",
       "      <th>78</th>\n",
       "      <td>200801011350</td>\n",
       "      <td>0.273</td>\n",
       "      <td>-0.0046</td>\n",
       "      <td>79.2801</td>\n",
       "      <td>3.174060</td>\n",
       "      <td>4.56627</td>\n",
       "      <td>5.72742</td>\n",
       "      <td>6.12323</td>\n",
       "      <td>6.51866</td>\n",
       "      <td>6.91794</td>\n",
       "      <td>276.324060</td>\n",
       "      <td>0.003211</td>\n",
       "    </tr>\n",
       "    <tr>\n",
       "      <th>79</th>\n",
       "      <td>200801011400</td>\n",
       "      <td>0.299</td>\n",
       "      <td>-0.0030</td>\n",
       "      <td>74.8758</td>\n",
       "      <td>3.165750</td>\n",
       "      <td>5.44514</td>\n",
       "      <td>6.25513</td>\n",
       "      <td>6.57119</td>\n",
       "      <td>6.84969</td>\n",
       "      <td>7.02042</td>\n",
       "      <td>276.315750</td>\n",
       "      <td>0.001594</td>\n",
       "    </tr>\n",
       "    <tr>\n",
       "      <th>80</th>\n",
       "      <td>200801011410</td>\n",
       "      <td>0.262</td>\n",
       "      <td>-0.0047</td>\n",
       "      <td>74.6102</td>\n",
       "      <td>3.184210</td>\n",
       "      <td>4.86455</td>\n",
       "      <td>5.90241</td>\n",
       "      <td>6.18732</td>\n",
       "      <td>6.33452</td>\n",
       "      <td>6.69739</td>\n",
       "      <td>276.334210</td>\n",
       "      <td>0.003711</td>\n",
       "    </tr>\n",
       "    <tr>\n",
       "      <th>...</th>\n",
       "      <td>...</td>\n",
       "      <td>...</td>\n",
       "      <td>...</td>\n",
       "      <td>...</td>\n",
       "      <td>...</td>\n",
       "      <td>...</td>\n",
       "      <td>...</td>\n",
       "      <td>...</td>\n",
       "      <td>...</td>\n",
       "      <td>...</td>\n",
       "      <td>...</td>\n",
       "      <td>...</td>\n",
       "    </tr>\n",
       "    <tr>\n",
       "      <th>44711</th>\n",
       "      <td>200812300830</td>\n",
       "      <td>0.083</td>\n",
       "      <td>-0.0031</td>\n",
       "      <td>106.5600</td>\n",
       "      <td>-0.558787</td>\n",
       "      <td>2.24740</td>\n",
       "      <td>4.71803</td>\n",
       "      <td>4.87672</td>\n",
       "      <td>4.89561</td>\n",
       "      <td>4.93265</td>\n",
       "      <td>272.591213</td>\n",
       "      <td>0.078045</td>\n",
       "    </tr>\n",
       "    <tr>\n",
       "      <th>44712</th>\n",
       "      <td>200812300840</td>\n",
       "      <td>0.075</td>\n",
       "      <td>-0.0023</td>\n",
       "      <td>109.9260</td>\n",
       "      <td>-0.636697</td>\n",
       "      <td>2.24586</td>\n",
       "      <td>4.62261</td>\n",
       "      <td>4.96183</td>\n",
       "      <td>5.01527</td>\n",
       "      <td>5.19574</td>\n",
       "      <td>272.513303</td>\n",
       "      <td>0.078503</td>\n",
       "    </tr>\n",
       "    <tr>\n",
       "      <th>44746</th>\n",
       "      <td>200812301420</td>\n",
       "      <td>0.128</td>\n",
       "      <td>-0.0002</td>\n",
       "      <td>99.0207</td>\n",
       "      <td>0.428162</td>\n",
       "      <td>2.46237</td>\n",
       "      <td>3.17102</td>\n",
       "      <td>3.47651</td>\n",
       "      <td>3.72228</td>\n",
       "      <td>3.87280</td>\n",
       "      <td>273.578162</td>\n",
       "      <td>0.001368</td>\n",
       "    </tr>\n",
       "    <tr>\n",
       "      <th>44747</th>\n",
       "      <td>200812301430</td>\n",
       "      <td>0.120</td>\n",
       "      <td>-0.0007</td>\n",
       "      <td>100.6060</td>\n",
       "      <td>0.400819</td>\n",
       "      <td>2.41087</td>\n",
       "      <td>3.19598</td>\n",
       "      <td>3.53740</td>\n",
       "      <td>3.68049</td>\n",
       "      <td>3.78452</td>\n",
       "      <td>273.550819</td>\n",
       "      <td>0.005811</td>\n",
       "    </tr>\n",
       "    <tr>\n",
       "      <th>44748</th>\n",
       "      <td>200812301440</td>\n",
       "      <td>0.145</td>\n",
       "      <td>-0.0003</td>\n",
       "      <td>106.0900</td>\n",
       "      <td>0.392178</td>\n",
       "      <td>2.72011</td>\n",
       "      <td>3.29073</td>\n",
       "      <td>3.54339</td>\n",
       "      <td>3.68538</td>\n",
       "      <td>3.78341</td>\n",
       "      <td>273.542178</td>\n",
       "      <td>0.001412</td>\n",
       "    </tr>\n",
       "  </tbody>\n",
       "</table>\n",
       "<p>2904 rows × 12 columns</p>\n",
       "</div>"
      ],
      "text/plain": [
       "          timestamp  u_star_2d     wsc  dir_metmast_60m     T_10m  \\\n",
       "70     200801011230      0.235 -0.0050          72.9712  3.199630   \n",
       "77     200801011340      0.232 -0.0050          76.3581  3.226040   \n",
       "78     200801011350      0.273 -0.0046          79.2801  3.174060   \n",
       "79     200801011400      0.299 -0.0030          74.8758  3.165750   \n",
       "80     200801011410      0.262 -0.0047          74.6102  3.184210   \n",
       "...             ...        ...     ...              ...       ...   \n",
       "44711  200812300830      0.083 -0.0031         106.5600 -0.558787   \n",
       "44712  200812300840      0.075 -0.0023         109.9260 -0.636697   \n",
       "44746  200812301420      0.128 -0.0002          99.0207  0.428162   \n",
       "44747  200812301430      0.120 -0.0007         100.6060  0.400819   \n",
       "44748  200812301440      0.145 -0.0003         106.0900  0.392178   \n",
       "\n",
       "       wsp_metmast_10m  wsp_metmast_40m  wsp_metmast_60m  wsp_metmast_80m  \\\n",
       "70             3.74567          4.50373          4.75768          4.99348   \n",
       "77             4.26994          5.13925          5.60008          5.78006   \n",
       "78             4.56627          5.72742          6.12323          6.51866   \n",
       "79             5.44514          6.25513          6.57119          6.84969   \n",
       "80             4.86455          5.90241          6.18732          6.33452   \n",
       "...                ...              ...              ...              ...   \n",
       "44711          2.24740          4.71803          4.87672          4.89561   \n",
       "44712          2.24586          4.62261          4.96183          5.01527   \n",
       "44746          2.46237          3.17102          3.47651          3.72228   \n",
       "44747          2.41087          3.19598          3.53740          3.68049   \n",
       "44748          2.72011          3.29073          3.54339          3.68538   \n",
       "\n",
       "       wsp_metmast_100m     T_10m_K       1/L  \n",
       "70              5.36262  276.349630  0.005471  \n",
       "77              6.02288  276.376040  0.005685  \n",
       "78              6.91794  276.324060  0.003211  \n",
       "79              7.02042  276.315750  0.001594  \n",
       "80              6.69739  276.334210  0.003711  \n",
       "...                 ...         ...       ...  \n",
       "44711           4.93265  272.591213  0.078045  \n",
       "44712           5.19574  272.513303  0.078503  \n",
       "44746           3.87280  273.578162  0.001368  \n",
       "44747           3.78452  273.550819  0.005811  \n",
       "44748           3.78341  273.542178  0.001412  \n",
       "\n",
       "[2904 rows x 12 columns]"
      ]
     },
     "execution_count": 470,
     "metadata": {},
     "output_type": "execute_result"
    }
   ],
   "source": [
    "stable"
   ]
  },
  {
   "cell_type": "code",
   "execution_count": 471,
   "id": "15810958",
   "metadata": {},
   "outputs": [
    {
     "data": {
      "image/png": "[encoded data removed]",
      "text/plain": [
       "<Figure size 700x700 with 1 Axes>"
      ]
     },
     "metadata": {},
     "output_type": "display_data"
    }
   ],
   "source": [
    "labels = ['Stable', 'Unstable', 'Neutral']\n",
    "sizes = [per_stable * 100, per_unstable * 100, (1-per_stable-per_unstable)*100]  # Convert to percentage\n",
    "\n",
    "# Create pie chart\n",
    "plt.figure(figsize=(7, 7))\n",
    "plt.pie(sizes, labels=labels, autopct='%1.1f%%', startangle=90, colors=['b', 'r', 'g'])\n",
    "plt.title('Proportion of Stable Unstable and Neutral Conditions')\n",
    "plt.axis('equal')  # Equal aspect ratio ensures that pie chart is drawn as a circle\n",
    "\n",
    "# Show plot\n",
    "plt.show()"
   ]
  },
  {
   "cell_type": "markdown",
   "id": "8a1405f9",
   "metadata": {},
   "source": [
    "Task 7"
   ]
  },
  {
   "cell_type": "code",
   "execution_count": 472,
   "id": "bb7212d0",
   "metadata": {},
   "outputs": [
    {
     "name": "stdout",
     "output_type": "stream",
     "text": [
      "th long-term mean shear exponent calculated by means 0.22597946283512532\n",
      "th long-term mean shear exponent calculated by means 0.23486386508059687\n"
     ]
    },
    {
     "data": {
      "image/png": "[encoded data removed]",
      "text/plain": [
       "<Figure size 800x600 with 1 Axes>"
      ]
     },
     "metadata": {},
     "output_type": "display_data"
    },
    {
     "name": "stdout",
     "output_type": "stream",
     "text": [
      "[10, 40, 60, 80, 100]\n"
     ]
    }
   ],
   "source": [
    "# Power-law to calculate 40-80 (40 as ref) and 60-80 (80 as ref)\n",
    "\n",
    "wsp_all_10m = easterly_Hoe[\"wsp_metmast_10m\"].mean()\n",
    "wsp_all_40m = easterly_Hoe[\"wsp_metmast_40m\"].mean()\n",
    "wsp_all_60m = easterly_Hoe[\"wsp_metmast_60m\"].mean()\n",
    "wsp_all_80m = easterly_Hoe[\"wsp_metmast_80m\"].mean()\n",
    "wsp_all_100m = easterly_Hoe[\"wsp_metmast_100m\"].mean()\n",
    "\n",
    "a_1 = np.log(wsp_all_80m/wsp_all_40m)/np.log(80/40)\n",
    "print(f'th long-term mean shear exponent calculated by means {a_1}')\n",
    "\n",
    "a_2 = np.log(wsp_all_80m/wsp_all_60m)/np.log(80/60)\n",
    "print(f'th long-term mean shear exponent calculated by means {a_2}')\n",
    "\n",
    "u_list_a1 = []\n",
    "for height in heights:\n",
    "    U = wsp_all_40m*(height/40)**a_1\n",
    "    u_list_a1.append(U)\n",
    "\n",
    "u_list_a2 = []\n",
    "for height in heights:\n",
    "    U = wsp_all_80m*(height/80)**a_2\n",
    "    u_list_a2.append(U)\n",
    "\n",
    "\n",
    "# Create the plot\n",
    "plt.figure(figsize=(8, 6))\n",
    "\n",
    "# Plot wind speed profiles for stable, unstable, and all conditions\n",
    "plt.plot(wind_speeds_all, heights, 'g-', label='All Conditions', marker='o')\n",
    "plt.plot(u_list_a1, heights, 'r-', label='alpha a)', marker='o')\n",
    "plt.plot(u_list_a2, heights, 'b-', label='alpha b)', marker='o')\n",
    "\n",
    "\n",
    "\n",
    "# Set x-axis and y-axis labels\n",
    "plt.xlabel('Mean Wind Speed (m/s)')\n",
    "plt.ylabel('Height (m)')\n",
    "plt.title('Mean Wind Speed vs. Height for Different reference values')\n",
    "\n",
    "# Apply a logarithmic scale to the y-axis (height)\n",
    "#plt.yscale('log')\n",
    "\n",
    "# Show the legend to distinguish different profiles\n",
    "plt.legend()\n",
    "\n",
    "#plt.savefig(f'Plots_new/log_mean_wind_speed_vs_height_{limit}.png')\n",
    "# Show the plot\n",
    "plt.show()\n",
    "\n",
    "# Optionally, save the figure as a PDF file\n",
    "print(heights)\n"
   ]
  },
  {
   "cell_type": "markdown",
   "id": "8926e938",
   "metadata": {},
   "source": [
    "Question 8"
   ]
  },
  {
   "cell_type": "markdown",
   "id": "d04407c5",
   "metadata": {},
   "source": []
  }
 ],
 "metadata": {
  "kernelspec": {
   "display_name": "Python 3",
   "language": "python",
   "name": "python3"
  },
  "language_info": {
   "codemirror_mode": {
    "name": "ipython",
    "version": 3
   },
   "file_extension": ".py",
   "mimetype": "text/x-python",
   "name": "python",
   "nbconvert_exporter": "python",
   "pygments_lexer": "ipython3",
   "version": "3.12.2"
  }
 },
 "nbformat": 4,
 "nbformat_minor": 5
}
