{
 "cells": [
  {
   "cell_type": "markdown",
   "source": [
    "# ASSIGNMENT 1: MEAN WIND SPEED AND THE WEIBULL DISTRIBUTION"
   ],
   "metadata": {
    "collapsed": false
   },
   "id": "1638447e89c454d4"
  },
  {
   "cell_type": "markdown",
   "source": [
    "## Imports"
   ],
   "metadata": {
    "collapsed": false
   },
   "id": "e03a0e7638a835a8"
  },
  {
   "metadata": {
    "ExecuteTime": {
     "end_time": "2024-09-22T18:33:08.918130100Z",
     "start_time": "2024-09-22T18:33:08.857274600Z"
    }
   },
   "cell_type": "code",
   "source": [
    "import pandas as pd\n",
    "import numpy as np\n",
    "from scipy.special import gamma\n",
    "from scipy.optimize import fsolve\n",
    "import matplotlib.pyplot as plt\n",
    "import seaborn as sns\n",
    "from scipy.interpolate import interp1d\n",
    "from sympy import symbols, Eq, nsolve, exp, gamma"
   ],
   "id": "12e86eb2920e7cca",
   "outputs": [],
   "execution_count": 39
  },
  {
   "metadata": {},
   "cell_type": "markdown",
   "source": "## Read Data",
   "id": "2f1f2ed41ab03cf"
  },
  {
   "metadata": {
    "ExecuteTime": {
     "end_time": "2024-09-22T18:24:51.050390200Z",
     "start_time": "2024-09-22T18:24:50.981537200Z"
    }
   },
   "cell_type": "code",
   "source": "headers = ['timestamp', 'wind_speed', 'wind_direction_67.5m', 'wind_direction_70m']",
   "id": "b85929867ec697e1",
   "outputs": [],
   "execution_count": 2
  },
  {
   "metadata": {
    "ExecuteTime": {
     "end_time": "2024-09-22T18:24:51.989462800Z",
     "start_time": "2024-09-22T18:24:51.591270200Z"
    }
   },
   "cell_type": "code",
   "source": "sprog = pd.read_csv(\"sprog.tsv\", sep='\\t', header=None, names=headers)",
   "id": "1751181b1b873f1b",
   "outputs": [],
   "execution_count": 3
  },
  {
   "metadata": {
    "ExecuteTime": {
     "end_time": "2024-09-22T18:24:52.863177900Z",
     "start_time": "2024-09-22T18:24:52.760150700Z"
    }
   },
   "cell_type": "code",
   "source": "sprog",
   "id": "d4107039061d07f6",
   "outputs": [
    {
     "data": {
      "text/plain": "            timestamp  wind_speed  wind_direction_67.5m  wind_direction_70m\n0        197709131435        9.76                 317.0               999.0\n1        197709131445       10.58                 309.0               999.0\n2        197709131455       10.19                 329.0               999.0\n3        197709131505        8.71                 323.0               999.0\n4        197709131515        8.85                 309.0               999.0\n...               ...         ...                   ...                 ...\n1156272  199909080635        4.20                 999.0               222.0\n1156273  199909080645        4.77                 999.0               226.0\n1156274  199909080655        5.37                 999.0               233.0\n1156275  199909080705        5.07                 999.0               230.0\n1156276  199909080715        4.73                 999.0               235.0\n\n[1156277 rows x 4 columns]",
      "text/html": "<div>\n<style scoped>\n    .dataframe tbody tr th:only-of-type {\n        vertical-align: middle;\n    }\n\n    .dataframe tbody tr th {\n        vertical-align: top;\n    }\n\n    .dataframe thead th {\n        text-align: right;\n    }\n</style>\n<table border=\"1\" class=\"dataframe\">\n  <thead>\n    <tr style=\"text-align: right;\">\n      <th></th>\n      <th>timestamp</th>\n      <th>wind_speed</th>\n      <th>wind_direction_67.5m</th>\n      <th>wind_direction_70m</th>\n    </tr>\n  </thead>\n  <tbody>\n    <tr>\n      <th>0</th>\n      <td>197709131435</td>\n      <td>9.76</td>\n      <td>317.0</td>\n      <td>999.0</td>\n    </tr>\n    <tr>\n      <th>1</th>\n      <td>197709131445</td>\n      <td>10.58</td>\n      <td>309.0</td>\n      <td>999.0</td>\n    </tr>\n    <tr>\n      <th>2</th>\n      <td>197709131455</td>\n      <td>10.19</td>\n      <td>329.0</td>\n      <td>999.0</td>\n    </tr>\n    <tr>\n      <th>3</th>\n      <td>197709131505</td>\n      <td>8.71</td>\n      <td>323.0</td>\n      <td>999.0</td>\n    </tr>\n    <tr>\n      <th>4</th>\n      <td>197709131515</td>\n      <td>8.85</td>\n      <td>309.0</td>\n      <td>999.0</td>\n    </tr>\n    <tr>\n      <th>...</th>\n      <td>...</td>\n      <td>...</td>\n      <td>...</td>\n      <td>...</td>\n    </tr>\n    <tr>\n      <th>1156272</th>\n      <td>199909080635</td>\n      <td>4.20</td>\n      <td>999.0</td>\n      <td>222.0</td>\n    </tr>\n    <tr>\n      <th>1156273</th>\n      <td>199909080645</td>\n      <td>4.77</td>\n      <td>999.0</td>\n      <td>226.0</td>\n    </tr>\n    <tr>\n      <th>1156274</th>\n      <td>199909080655</td>\n      <td>5.37</td>\n      <td>999.0</td>\n      <td>233.0</td>\n    </tr>\n    <tr>\n      <th>1156275</th>\n      <td>199909080705</td>\n      <td>5.07</td>\n      <td>999.0</td>\n      <td>230.0</td>\n    </tr>\n    <tr>\n      <th>1156276</th>\n      <td>199909080715</td>\n      <td>4.73</td>\n      <td>999.0</td>\n      <td>235.0</td>\n    </tr>\n  </tbody>\n</table>\n<p>1156277 rows × 4 columns</p>\n</div>"
     },
     "execution_count": 4,
     "metadata": {},
     "output_type": "execute_result"
    }
   ],
   "execution_count": 4
  },
  {
   "metadata": {
    "ExecuteTime": {
     "end_time": "2024-09-22T18:25:11.686274Z",
     "start_time": "2024-09-22T18:25:11.619214100Z"
    }
   },
   "cell_type": "code",
   "source": "headers_2 = ['timestamp', 'sm_vel_component']",
   "id": "bd90b7000f2fc18e",
   "outputs": [],
   "execution_count": 5
  },
  {
   "metadata": {
    "ExecuteTime": {
     "end_time": "2024-09-22T18:25:13.609225200Z",
     "start_time": "2024-09-22T18:25:13.528168800Z"
    }
   },
   "cell_type": "code",
   "source": "hovsore_1 = pd.read_csv('hovsore_1.txt', header=None, names= headers_2)",
   "id": "5095b9dd76a9b27d",
   "outputs": [],
   "execution_count": 6
  },
  {
   "metadata": {
    "ExecuteTime": {
     "end_time": "2024-09-22T18:25:14.276080900Z",
     "start_time": "2024-09-22T18:25:14.200492700Z"
    }
   },
   "cell_type": "code",
   "source": "hovsore_1",
   "id": "98ba0e50d79eb3b5",
   "outputs": [
    {
     "data": {
      "text/plain": "           timestamp  sm_vel_component\n0       201603012000              9.49\n1       201603012000             10.16\n2       201603012000              9.71\n3       201603012000             10.79\n4       201603012000             10.84\n...              ...               ...\n287995  201603012350             12.60\n287996  201603012350             13.54\n287997  201603012350             13.00\n287998  201603012350             12.90\n287999  201603012350             12.83\n\n[288000 rows x 2 columns]",
      "text/html": "<div>\n<style scoped>\n    .dataframe tbody tr th:only-of-type {\n        vertical-align: middle;\n    }\n\n    .dataframe tbody tr th {\n        vertical-align: top;\n    }\n\n    .dataframe thead th {\n        text-align: right;\n    }\n</style>\n<table border=\"1\" class=\"dataframe\">\n  <thead>\n    <tr style=\"text-align: right;\">\n      <th></th>\n      <th>timestamp</th>\n      <th>sm_vel_component</th>\n    </tr>\n  </thead>\n  <tbody>\n    <tr>\n      <th>0</th>\n      <td>201603012000</td>\n      <td>9.49</td>\n    </tr>\n    <tr>\n      <th>1</th>\n      <td>201603012000</td>\n      <td>10.16</td>\n    </tr>\n    <tr>\n      <th>2</th>\n      <td>201603012000</td>\n      <td>9.71</td>\n    </tr>\n    <tr>\n      <th>3</th>\n      <td>201603012000</td>\n      <td>10.79</td>\n    </tr>\n    <tr>\n      <th>4</th>\n      <td>201603012000</td>\n      <td>10.84</td>\n    </tr>\n    <tr>\n      <th>...</th>\n      <td>...</td>\n      <td>...</td>\n    </tr>\n    <tr>\n      <th>287995</th>\n      <td>201603012350</td>\n      <td>12.60</td>\n    </tr>\n    <tr>\n      <th>287996</th>\n      <td>201603012350</td>\n      <td>13.54</td>\n    </tr>\n    <tr>\n      <th>287997</th>\n      <td>201603012350</td>\n      <td>13.00</td>\n    </tr>\n    <tr>\n      <th>287998</th>\n      <td>201603012350</td>\n      <td>12.90</td>\n    </tr>\n    <tr>\n      <th>287999</th>\n      <td>201603012350</td>\n      <td>12.83</td>\n    </tr>\n  </tbody>\n</table>\n<p>288000 rows × 2 columns</p>\n</div>"
     },
     "execution_count": 7,
     "metadata": {},
     "output_type": "execute_result"
    }
   ],
   "execution_count": 7
  },
  {
   "metadata": {},
   "cell_type": "markdown",
   "source": "## Data Cleaning",
   "id": "4e9342e86edc570a"
  },
  {
   "metadata": {},
   "cell_type": "markdown",
   "source": "Both datasets will be cleaned to remove all error measurements",
   "id": "625ade3faf5fe6ac"
  },
  {
   "metadata": {},
   "cell_type": "markdown",
   "source": "### Sprog",
   "id": "b218996f16d8e2c7"
  },
  {
   "metadata": {},
   "cell_type": "markdown",
   "source": "First we convert all non-numerical values to NaN, those non-numerical values must correspond to error flags.",
   "id": "f130d2589dbe2504"
  },
  {
   "metadata": {
    "ExecuteTime": {
     "end_time": "2024-09-22T18:25:22.898576800Z",
     "start_time": "2024-09-22T18:25:22.836438200Z"
    }
   },
   "cell_type": "code",
   "source": "sprog = sprog.apply(pd.to_numeric, errors='coerce')",
   "id": "a42bc5fef501c21f",
   "outputs": [],
   "execution_count": 8
  },
  {
   "metadata": {
    "ExecuteTime": {
     "end_time": "2024-09-22T18:25:23.344343100Z",
     "start_time": "2024-09-22T18:25:23.275526400Z"
    }
   },
   "cell_type": "code",
   "source": "sprog",
   "id": "7f689c6c87f3a93d",
   "outputs": [
    {
     "data": {
      "text/plain": "            timestamp  wind_speed  wind_direction_67.5m  wind_direction_70m\n0        197709131435        9.76                 317.0               999.0\n1        197709131445       10.58                 309.0               999.0\n2        197709131455       10.19                 329.0               999.0\n3        197709131505        8.71                 323.0               999.0\n4        197709131515        8.85                 309.0               999.0\n...               ...         ...                   ...                 ...\n1156272  199909080635        4.20                 999.0               222.0\n1156273  199909080645        4.77                 999.0               226.0\n1156274  199909080655        5.37                 999.0               233.0\n1156275  199909080705        5.07                 999.0               230.0\n1156276  199909080715        4.73                 999.0               235.0\n\n[1156277 rows x 4 columns]",
      "text/html": "<div>\n<style scoped>\n    .dataframe tbody tr th:only-of-type {\n        vertical-align: middle;\n    }\n\n    .dataframe tbody tr th {\n        vertical-align: top;\n    }\n\n    .dataframe thead th {\n        text-align: right;\n    }\n</style>\n<table border=\"1\" class=\"dataframe\">\n  <thead>\n    <tr style=\"text-align: right;\">\n      <th></th>\n      <th>timestamp</th>\n      <th>wind_speed</th>\n      <th>wind_direction_67.5m</th>\n      <th>wind_direction_70m</th>\n    </tr>\n  </thead>\n  <tbody>\n    <tr>\n      <th>0</th>\n      <td>197709131435</td>\n      <td>9.76</td>\n      <td>317.0</td>\n      <td>999.0</td>\n    </tr>\n    <tr>\n      <th>1</th>\n      <td>197709131445</td>\n      <td>10.58</td>\n      <td>309.0</td>\n      <td>999.0</td>\n    </tr>\n    <tr>\n      <th>2</th>\n      <td>197709131455</td>\n      <td>10.19</td>\n      <td>329.0</td>\n      <td>999.0</td>\n    </tr>\n    <tr>\n      <th>3</th>\n      <td>197709131505</td>\n      <td>8.71</td>\n      <td>323.0</td>\n      <td>999.0</td>\n    </tr>\n    <tr>\n      <th>4</th>\n      <td>197709131515</td>\n      <td>8.85</td>\n      <td>309.0</td>\n      <td>999.0</td>\n    </tr>\n    <tr>\n      <th>...</th>\n      <td>...</td>\n      <td>...</td>\n      <td>...</td>\n      <td>...</td>\n    </tr>\n    <tr>\n      <th>1156272</th>\n      <td>199909080635</td>\n      <td>4.20</td>\n      <td>999.0</td>\n      <td>222.0</td>\n    </tr>\n    <tr>\n      <th>1156273</th>\n      <td>199909080645</td>\n      <td>4.77</td>\n      <td>999.0</td>\n      <td>226.0</td>\n    </tr>\n    <tr>\n      <th>1156274</th>\n      <td>199909080655</td>\n      <td>5.37</td>\n      <td>999.0</td>\n      <td>233.0</td>\n    </tr>\n    <tr>\n      <th>1156275</th>\n      <td>199909080705</td>\n      <td>5.07</td>\n      <td>999.0</td>\n      <td>230.0</td>\n    </tr>\n    <tr>\n      <th>1156276</th>\n      <td>199909080715</td>\n      <td>4.73</td>\n      <td>999.0</td>\n      <td>235.0</td>\n    </tr>\n  </tbody>\n</table>\n<p>1156277 rows × 4 columns</p>\n</div>"
     },
     "execution_count": 9,
     "metadata": {},
     "output_type": "execute_result"
    }
   ],
   "execution_count": 9
  },
  {
   "metadata": {},
   "cell_type": "markdown",
   "source": "#### Wind Direction",
   "id": "c47fc180a3306ea2"
  },
  {
   "metadata": {},
   "cell_type": "markdown",
   "source": "Apart from the non-numerical values, the other wind direction values that shouldn't be correct data are the ones over 360 or below 0. This could come from an error measurement (999 in this case) or the wind direction measurement is not normalised at 0 - 360 and getting multiples of those values. Let's find those values over 360 and below 0.",
   "id": "e6357d45e7a8f0bd"
  },
  {
   "metadata": {
    "ExecuteTime": {
     "end_time": "2024-09-22T18:26:22.958427Z",
     "start_time": "2024-09-22T18:26:22.907254800Z"
    }
   },
   "cell_type": "code",
   "source": [
    "unique_below_0_wind_67_5 = sprog['wind_direction_67.5m'][sprog['wind_direction_67.5m'] < 0].unique()\n",
    "unique_below_0_wind_70 = sprog['wind_direction_70m'][sprog['wind_direction_70m'] < 0].unique()\n",
    "\n",
    "unique_over_360_wind_67_5 = sprog['wind_direction_67.5m'][sprog['wind_direction_67.5m'] > 360].unique()\n",
    "unique_over_360_wind_70 = sprog['wind_direction_70m'][sprog['wind_direction_70m'] > 360].unique()\n",
    "\n",
    "unique_values_over_360_and_below_0 = set(unique_below_0_wind_67_5).union(set(unique_below_0_wind_70), \n",
    "                                                                        set(unique_over_360_wind_67_5), \n",
    "                                                                        set(unique_over_360_wind_70))\n"
   ],
   "id": "6390d83bcc873a39",
   "outputs": [],
   "execution_count": 10
  },
  {
   "metadata": {
    "ExecuteTime": {
     "end_time": "2024-09-22T18:26:23.706178500Z",
     "start_time": "2024-09-22T18:26:23.637459300Z"
    }
   },
   "cell_type": "code",
   "source": "unique_values_over_360_and_below_0",
   "id": "4e5bbc3cbcbee4f",
   "outputs": [
    {
     "data": {
      "text/plain": "{999.0}"
     },
     "execution_count": 11,
     "metadata": {},
     "output_type": "execute_result"
    }
   ],
   "execution_count": 11
  },
  {
   "metadata": {},
   "cell_type": "markdown",
   "source": "It turns out that the measurements are already normalised to a range of 0 to 360 degrees, however we find 999 measurements which are classified as error. Thise values are converter no NaN. ",
   "id": "bae08acc1438e287"
  },
  {
   "metadata": {
    "ExecuteTime": {
     "end_time": "2024-09-22T18:26:28.764158Z",
     "start_time": "2024-09-22T18:26:28.701196Z"
    }
   },
   "cell_type": "code",
   "source": "sprog.replace(999, np.nan, inplace=True)",
   "id": "cd767e5b823d7947",
   "outputs": [],
   "execution_count": 12
  },
  {
   "metadata": {
    "ExecuteTime": {
     "end_time": "2024-09-22T18:26:29.369228100Z",
     "start_time": "2024-09-22T18:26:29.298016500Z"
    }
   },
   "cell_type": "code",
   "source": "sprog",
   "id": "b1ddcb6a99497930",
   "outputs": [
    {
     "data": {
      "text/plain": "            timestamp  wind_speed  wind_direction_67.5m  wind_direction_70m\n0        197709131435        9.76                 317.0                 NaN\n1        197709131445       10.58                 309.0                 NaN\n2        197709131455       10.19                 329.0                 NaN\n3        197709131505        8.71                 323.0                 NaN\n4        197709131515        8.85                 309.0                 NaN\n...               ...         ...                   ...                 ...\n1156272  199909080635        4.20                   NaN               222.0\n1156273  199909080645        4.77                   NaN               226.0\n1156274  199909080655        5.37                   NaN               233.0\n1156275  199909080705        5.07                   NaN               230.0\n1156276  199909080715        4.73                   NaN               235.0\n\n[1156277 rows x 4 columns]",
      "text/html": "<div>\n<style scoped>\n    .dataframe tbody tr th:only-of-type {\n        vertical-align: middle;\n    }\n\n    .dataframe tbody tr th {\n        vertical-align: top;\n    }\n\n    .dataframe thead th {\n        text-align: right;\n    }\n</style>\n<table border=\"1\" class=\"dataframe\">\n  <thead>\n    <tr style=\"text-align: right;\">\n      <th></th>\n      <th>timestamp</th>\n      <th>wind_speed</th>\n      <th>wind_direction_67.5m</th>\n      <th>wind_direction_70m</th>\n    </tr>\n  </thead>\n  <tbody>\n    <tr>\n      <th>0</th>\n      <td>197709131435</td>\n      <td>9.76</td>\n      <td>317.0</td>\n      <td>NaN</td>\n    </tr>\n    <tr>\n      <th>1</th>\n      <td>197709131445</td>\n      <td>10.58</td>\n      <td>309.0</td>\n      <td>NaN</td>\n    </tr>\n    <tr>\n      <th>2</th>\n      <td>197709131455</td>\n      <td>10.19</td>\n      <td>329.0</td>\n      <td>NaN</td>\n    </tr>\n    <tr>\n      <th>3</th>\n      <td>197709131505</td>\n      <td>8.71</td>\n      <td>323.0</td>\n      <td>NaN</td>\n    </tr>\n    <tr>\n      <th>4</th>\n      <td>197709131515</td>\n      <td>8.85</td>\n      <td>309.0</td>\n      <td>NaN</td>\n    </tr>\n    <tr>\n      <th>...</th>\n      <td>...</td>\n      <td>...</td>\n      <td>...</td>\n      <td>...</td>\n    </tr>\n    <tr>\n      <th>1156272</th>\n      <td>199909080635</td>\n      <td>4.20</td>\n      <td>NaN</td>\n      <td>222.0</td>\n    </tr>\n    <tr>\n      <th>1156273</th>\n      <td>199909080645</td>\n      <td>4.77</td>\n      <td>NaN</td>\n      <td>226.0</td>\n    </tr>\n    <tr>\n      <th>1156274</th>\n      <td>199909080655</td>\n      <td>5.37</td>\n      <td>NaN</td>\n      <td>233.0</td>\n    </tr>\n    <tr>\n      <th>1156275</th>\n      <td>199909080705</td>\n      <td>5.07</td>\n      <td>NaN</td>\n      <td>230.0</td>\n    </tr>\n    <tr>\n      <th>1156276</th>\n      <td>199909080715</td>\n      <td>4.73</td>\n      <td>NaN</td>\n      <td>235.0</td>\n    </tr>\n  </tbody>\n</table>\n<p>1156277 rows × 4 columns</p>\n</div>"
     },
     "execution_count": 13,
     "metadata": {},
     "output_type": "execute_result"
    }
   ],
   "execution_count": 13
  },
  {
   "metadata": {},
   "cell_type": "markdown",
   "source": "As we want to work with just a wind direction value form now on, there is the possibility of using one of the two measurements of the wind direction or getting a mean out of it, let's look at the timestamps when we have two correct values in both height measurements. As there is just a difference of 2.5m in height. ",
   "id": "4245364a36e684f5"
  },
  {
   "metadata": {
    "ExecuteTime": {
     "end_time": "2024-09-22T18:26:45.591711Z",
     "start_time": "2024-09-22T18:26:45.525898500Z"
    }
   },
   "cell_type": "code",
   "source": "filtered_df = sprog.dropna(subset=['wind_direction_67.5m', 'wind_direction_70m'])",
   "id": "c08e97f683715273",
   "outputs": [],
   "execution_count": 14
  },
  {
   "metadata": {
    "ExecuteTime": {
     "end_time": "2024-09-22T18:26:46.108545100Z",
     "start_time": "2024-09-22T18:26:46.039928600Z"
    }
   },
   "cell_type": "code",
   "source": "filtered_df",
   "id": "5e1ee9487d476d86",
   "outputs": [
    {
     "data": {
      "text/plain": "Empty DataFrame\nColumns: [timestamp, wind_speed, wind_direction_67.5m, wind_direction_70m]\nIndex: []",
      "text/html": "<div>\n<style scoped>\n    .dataframe tbody tr th:only-of-type {\n        vertical-align: middle;\n    }\n\n    .dataframe tbody tr th {\n        vertical-align: top;\n    }\n\n    .dataframe thead th {\n        text-align: right;\n    }\n</style>\n<table border=\"1\" class=\"dataframe\">\n  <thead>\n    <tr style=\"text-align: right;\">\n      <th></th>\n      <th>timestamp</th>\n      <th>wind_speed</th>\n      <th>wind_direction_67.5m</th>\n      <th>wind_direction_70m</th>\n    </tr>\n  </thead>\n  <tbody>\n  </tbody>\n</table>\n</div>"
     },
     "execution_count": 15,
     "metadata": {},
     "output_type": "execute_result"
    }
   ],
   "execution_count": 15
  },
  {
   "metadata": {},
   "cell_type": "markdown",
   "source": "It is seen that there are no timestamps when the two measurements (67.5 and 70 meters) have a proper measurement at the same time, thus a unique wind direction vector is created using one measurement or the other.",
   "id": "467f87372f8d9e26"
  },
  {
   "metadata": {
    "ExecuteTime": {
     "end_time": "2024-09-22T18:26:50.089858400Z",
     "start_time": "2024-09-22T18:26:50.045489700Z"
    }
   },
   "cell_type": "code",
   "source": "sprog['wind_direction'] = sprog['wind_direction_67.5m'].combine_first(sprog['wind_direction_70m'])",
   "id": "6419b2be187834cb",
   "outputs": [],
   "execution_count": 16
  },
  {
   "metadata": {
    "ExecuteTime": {
     "end_time": "2024-09-22T18:26:50.726518600Z",
     "start_time": "2024-09-22T18:26:50.656860100Z"
    }
   },
   "cell_type": "code",
   "source": "sprog",
   "id": "d211a43b1b323fa5",
   "outputs": [
    {
     "data": {
      "text/plain": "            timestamp  wind_speed  wind_direction_67.5m  wind_direction_70m  \\\n0        197709131435        9.76                 317.0                 NaN   \n1        197709131445       10.58                 309.0                 NaN   \n2        197709131455       10.19                 329.0                 NaN   \n3        197709131505        8.71                 323.0                 NaN   \n4        197709131515        8.85                 309.0                 NaN   \n...               ...         ...                   ...                 ...   \n1156272  199909080635        4.20                   NaN               222.0   \n1156273  199909080645        4.77                   NaN               226.0   \n1156274  199909080655        5.37                   NaN               233.0   \n1156275  199909080705        5.07                   NaN               230.0   \n1156276  199909080715        4.73                   NaN               235.0   \n\n         wind_direction  \n0                 317.0  \n1                 309.0  \n2                 329.0  \n3                 323.0  \n4                 309.0  \n...                 ...  \n1156272           222.0  \n1156273           226.0  \n1156274           233.0  \n1156275           230.0  \n1156276           235.0  \n\n[1156277 rows x 5 columns]",
      "text/html": "<div>\n<style scoped>\n    .dataframe tbody tr th:only-of-type {\n        vertical-align: middle;\n    }\n\n    .dataframe tbody tr th {\n        vertical-align: top;\n    }\n\n    .dataframe thead th {\n        text-align: right;\n    }\n</style>\n<table border=\"1\" class=\"dataframe\">\n  <thead>\n    <tr style=\"text-align: right;\">\n      <th></th>\n      <th>timestamp</th>\n      <th>wind_speed</th>\n      <th>wind_direction_67.5m</th>\n      <th>wind_direction_70m</th>\n      <th>wind_direction</th>\n    </tr>\n  </thead>\n  <tbody>\n    <tr>\n      <th>0</th>\n      <td>197709131435</td>\n      <td>9.76</td>\n      <td>317.0</td>\n      <td>NaN</td>\n      <td>317.0</td>\n    </tr>\n    <tr>\n      <th>1</th>\n      <td>197709131445</td>\n      <td>10.58</td>\n      <td>309.0</td>\n      <td>NaN</td>\n      <td>309.0</td>\n    </tr>\n    <tr>\n      <th>2</th>\n      <td>197709131455</td>\n      <td>10.19</td>\n      <td>329.0</td>\n      <td>NaN</td>\n      <td>329.0</td>\n    </tr>\n    <tr>\n      <th>3</th>\n      <td>197709131505</td>\n      <td>8.71</td>\n      <td>323.0</td>\n      <td>NaN</td>\n      <td>323.0</td>\n    </tr>\n    <tr>\n      <th>4</th>\n      <td>197709131515</td>\n      <td>8.85</td>\n      <td>309.0</td>\n      <td>NaN</td>\n      <td>309.0</td>\n    </tr>\n    <tr>\n      <th>...</th>\n      <td>...</td>\n      <td>...</td>\n      <td>...</td>\n      <td>...</td>\n      <td>...</td>\n    </tr>\n    <tr>\n      <th>1156272</th>\n      <td>199909080635</td>\n      <td>4.20</td>\n      <td>NaN</td>\n      <td>222.0</td>\n      <td>222.0</td>\n    </tr>\n    <tr>\n      <th>1156273</th>\n      <td>199909080645</td>\n      <td>4.77</td>\n      <td>NaN</td>\n      <td>226.0</td>\n      <td>226.0</td>\n    </tr>\n    <tr>\n      <th>1156274</th>\n      <td>199909080655</td>\n      <td>5.37</td>\n      <td>NaN</td>\n      <td>233.0</td>\n      <td>233.0</td>\n    </tr>\n    <tr>\n      <th>1156275</th>\n      <td>199909080705</td>\n      <td>5.07</td>\n      <td>NaN</td>\n      <td>230.0</td>\n      <td>230.0</td>\n    </tr>\n    <tr>\n      <th>1156276</th>\n      <td>199909080715</td>\n      <td>4.73</td>\n      <td>NaN</td>\n      <td>235.0</td>\n      <td>235.0</td>\n    </tr>\n  </tbody>\n</table>\n<p>1156277 rows × 5 columns</p>\n</div>"
     },
     "execution_count": 17,
     "metadata": {},
     "output_type": "execute_result"
    }
   ],
   "execution_count": 17
  },
  {
   "metadata": {
    "ExecuteTime": {
     "end_time": "2024-09-22T18:27:03.050414300Z",
     "start_time": "2024-09-22T18:27:02.947493100Z"
    }
   },
   "cell_type": "code",
   "source": "sprog[sprog['wind_direction_67.5m'].isna() & sprog['wind_direction_70m'].notna()]",
   "id": "c19b80618db57c0f",
   "outputs": [
    {
     "data": {
      "text/plain": "            timestamp  wind_speed  wind_direction_67.5m  wind_direction_70m  \\\n595497   198901090005        9.74                   NaN               264.0   \n595498   198901090015        9.87                   NaN               261.0   \n595499   198901090025        9.13                   NaN               258.0   \n595500   198901090035        8.90                   NaN               260.0   \n595501   198901090045        9.06                   NaN               262.0   \n...               ...         ...                   ...                 ...   \n1156272  199909080635        4.20                   NaN               222.0   \n1156273  199909080645        4.77                   NaN               226.0   \n1156274  199909080655        5.37                   NaN               233.0   \n1156275  199909080705        5.07                   NaN               230.0   \n1156276  199909080715        4.73                   NaN               235.0   \n\n         wind_direction  \n595497            264.0  \n595498            261.0  \n595499            258.0  \n595500            260.0  \n595501            262.0  \n...                 ...  \n1156272           222.0  \n1156273           226.0  \n1156274           233.0  \n1156275           230.0  \n1156276           235.0  \n\n[556195 rows x 5 columns]",
      "text/html": "<div>\n<style scoped>\n    .dataframe tbody tr th:only-of-type {\n        vertical-align: middle;\n    }\n\n    .dataframe tbody tr th {\n        vertical-align: top;\n    }\n\n    .dataframe thead th {\n        text-align: right;\n    }\n</style>\n<table border=\"1\" class=\"dataframe\">\n  <thead>\n    <tr style=\"text-align: right;\">\n      <th></th>\n      <th>timestamp</th>\n      <th>wind_speed</th>\n      <th>wind_direction_67.5m</th>\n      <th>wind_direction_70m</th>\n      <th>wind_direction</th>\n    </tr>\n  </thead>\n  <tbody>\n    <tr>\n      <th>595497</th>\n      <td>198901090005</td>\n      <td>9.74</td>\n      <td>NaN</td>\n      <td>264.0</td>\n      <td>264.0</td>\n    </tr>\n    <tr>\n      <th>595498</th>\n      <td>198901090015</td>\n      <td>9.87</td>\n      <td>NaN</td>\n      <td>261.0</td>\n      <td>261.0</td>\n    </tr>\n    <tr>\n      <th>595499</th>\n      <td>198901090025</td>\n      <td>9.13</td>\n      <td>NaN</td>\n      <td>258.0</td>\n      <td>258.0</td>\n    </tr>\n    <tr>\n      <th>595500</th>\n      <td>198901090035</td>\n      <td>8.90</td>\n      <td>NaN</td>\n      <td>260.0</td>\n      <td>260.0</td>\n    </tr>\n    <tr>\n      <th>595501</th>\n      <td>198901090045</td>\n      <td>9.06</td>\n      <td>NaN</td>\n      <td>262.0</td>\n      <td>262.0</td>\n    </tr>\n    <tr>\n      <th>...</th>\n      <td>...</td>\n      <td>...</td>\n      <td>...</td>\n      <td>...</td>\n      <td>...</td>\n    </tr>\n    <tr>\n      <th>1156272</th>\n      <td>199909080635</td>\n      <td>4.20</td>\n      <td>NaN</td>\n      <td>222.0</td>\n      <td>222.0</td>\n    </tr>\n    <tr>\n      <th>1156273</th>\n      <td>199909080645</td>\n      <td>4.77</td>\n      <td>NaN</td>\n      <td>226.0</td>\n      <td>226.0</td>\n    </tr>\n    <tr>\n      <th>1156274</th>\n      <td>199909080655</td>\n      <td>5.37</td>\n      <td>NaN</td>\n      <td>233.0</td>\n      <td>233.0</td>\n    </tr>\n    <tr>\n      <th>1156275</th>\n      <td>199909080705</td>\n      <td>5.07</td>\n      <td>NaN</td>\n      <td>230.0</td>\n      <td>230.0</td>\n    </tr>\n    <tr>\n      <th>1156276</th>\n      <td>199909080715</td>\n      <td>4.73</td>\n      <td>NaN</td>\n      <td>235.0</td>\n      <td>235.0</td>\n    </tr>\n  </tbody>\n</table>\n<p>556195 rows × 5 columns</p>\n</div>"
     },
     "execution_count": 18,
     "metadata": {},
     "output_type": "execute_result"
    }
   ],
   "execution_count": 18
  },
  {
   "metadata": {
    "ExecuteTime": {
     "end_time": "2024-09-22T18:27:07.220754400Z",
     "start_time": "2024-09-22T18:27:07.124583900Z"
    }
   },
   "cell_type": "code",
   "source": "sprog[sprog['wind_direction_67.5m'].isna()]",
   "id": "549da43d73197245",
   "outputs": [
    {
     "data": {
      "text/plain": "            timestamp  wind_speed  wind_direction_67.5m  wind_direction_70m  \\\n490      197709170015       99.99                   NaN                 NaN   \n491      197709170025       99.99                   NaN                 NaN   \n492      197709170035       99.99                   NaN                 NaN   \n493      197709170045       99.99                   NaN                 NaN   \n494      197709170055       99.99                   NaN                 NaN   \n...               ...         ...                   ...                 ...   \n1156272  199909080635        4.20                   NaN               222.0   \n1156273  199909080645        4.77                   NaN               226.0   \n1156274  199909080655        5.37                   NaN               233.0   \n1156275  199909080705        5.07                   NaN               230.0   \n1156276  199909080715        4.73                   NaN               235.0   \n\n         wind_direction  \n490                 NaN  \n491                 NaN  \n492                 NaN  \n493                 NaN  \n494                 NaN  \n...                 ...  \n1156272           222.0  \n1156273           226.0  \n1156274           233.0  \n1156275           230.0  \n1156276           235.0  \n\n[605176 rows x 5 columns]",
      "text/html": "<div>\n<style scoped>\n    .dataframe tbody tr th:only-of-type {\n        vertical-align: middle;\n    }\n\n    .dataframe tbody tr th {\n        vertical-align: top;\n    }\n\n    .dataframe thead th {\n        text-align: right;\n    }\n</style>\n<table border=\"1\" class=\"dataframe\">\n  <thead>\n    <tr style=\"text-align: right;\">\n      <th></th>\n      <th>timestamp</th>\n      <th>wind_speed</th>\n      <th>wind_direction_67.5m</th>\n      <th>wind_direction_70m</th>\n      <th>wind_direction</th>\n    </tr>\n  </thead>\n  <tbody>\n    <tr>\n      <th>490</th>\n      <td>197709170015</td>\n      <td>99.99</td>\n      <td>NaN</td>\n      <td>NaN</td>\n      <td>NaN</td>\n    </tr>\n    <tr>\n      <th>491</th>\n      <td>197709170025</td>\n      <td>99.99</td>\n      <td>NaN</td>\n      <td>NaN</td>\n      <td>NaN</td>\n    </tr>\n    <tr>\n      <th>492</th>\n      <td>197709170035</td>\n      <td>99.99</td>\n      <td>NaN</td>\n      <td>NaN</td>\n      <td>NaN</td>\n    </tr>\n    <tr>\n      <th>493</th>\n      <td>197709170045</td>\n      <td>99.99</td>\n      <td>NaN</td>\n      <td>NaN</td>\n      <td>NaN</td>\n    </tr>\n    <tr>\n      <th>494</th>\n      <td>197709170055</td>\n      <td>99.99</td>\n      <td>NaN</td>\n      <td>NaN</td>\n      <td>NaN</td>\n    </tr>\n    <tr>\n      <th>...</th>\n      <td>...</td>\n      <td>...</td>\n      <td>...</td>\n      <td>...</td>\n      <td>...</td>\n    </tr>\n    <tr>\n      <th>1156272</th>\n      <td>199909080635</td>\n      <td>4.20</td>\n      <td>NaN</td>\n      <td>222.0</td>\n      <td>222.0</td>\n    </tr>\n    <tr>\n      <th>1156273</th>\n      <td>199909080645</td>\n      <td>4.77</td>\n      <td>NaN</td>\n      <td>226.0</td>\n      <td>226.0</td>\n    </tr>\n    <tr>\n      <th>1156274</th>\n      <td>199909080655</td>\n      <td>5.37</td>\n      <td>NaN</td>\n      <td>233.0</td>\n      <td>233.0</td>\n    </tr>\n    <tr>\n      <th>1156275</th>\n      <td>199909080705</td>\n      <td>5.07</td>\n      <td>NaN</td>\n      <td>230.0</td>\n      <td>230.0</td>\n    </tr>\n    <tr>\n      <th>1156276</th>\n      <td>199909080715</td>\n      <td>4.73</td>\n      <td>NaN</td>\n      <td>235.0</td>\n      <td>235.0</td>\n    </tr>\n  </tbody>\n</table>\n<p>605176 rows × 5 columns</p>\n</div>"
     },
     "execution_count": 19,
     "metadata": {},
     "output_type": "execute_result"
    }
   ],
   "execution_count": 19
  },
  {
   "metadata": {},
   "cell_type": "markdown",
   "source": "#### Wind Speed",
   "id": "f564b2bbbe562c44"
  },
  {
   "metadata": {},
   "cell_type": "markdown",
   "source": "Now the wind speed measurements are checked. We'll look for cases where the wind speed measurement is incorrect. We set to find the values of wind_speed over 40 m/s and negative values.",
   "id": "691e4afc4eab6b15"
  },
  {
   "metadata": {
    "ExecuteTime": {
     "end_time": "2024-09-22T18:27:18.742572700Z",
     "start_time": "2024-09-22T18:27:18.690807Z"
    }
   },
   "cell_type": "code",
   "source": [
    "unique_below_0_wind = sprog['wind_speed'][sprog['wind_speed'] < 0].unique()\n",
    "unique_over_40_wind = sprog['wind_speed'][sprog['wind_speed'] > 40].unique()\n",
    "\n",
    "unique_values_over_40_and_below_0 = set(unique_below_0_wind).union(set(unique_over_40_wind))"
   ],
   "id": "ed84d2d330d9b4e8",
   "outputs": [],
   "execution_count": 20
  },
  {
   "metadata": {
    "ExecuteTime": {
     "end_time": "2024-09-22T18:27:19.721827Z",
     "start_time": "2024-09-22T18:27:19.659358700Z"
    }
   },
   "cell_type": "code",
   "source": "unique_values_over_40_and_below_0",
   "id": "23ef62c180204d92",
   "outputs": [
    {
     "data": {
      "text/plain": "{99.99}"
     },
     "execution_count": 21,
     "metadata": {},
     "output_type": "execute_result"
    }
   ],
   "execution_count": 21
  },
  {
   "metadata": {},
   "cell_type": "markdown",
   "source": "Again the only invalid data is the one corresponding to 99.99 values, we'll convert those to NaN values.",
   "id": "8ce5d5a2b101054a"
  },
  {
   "metadata": {
    "ExecuteTime": {
     "end_time": "2024-09-22T18:27:23.128450200Z",
     "start_time": "2024-09-22T18:27:23.073746600Z"
    }
   },
   "cell_type": "code",
   "source": "sprog.replace(99.99, np.nan, inplace=True)",
   "id": "a7956c3d331947cb",
   "outputs": [],
   "execution_count": 22
  },
  {
   "metadata": {},
   "cell_type": "markdown",
   "source": "### Hovsore",
   "id": "a357e35ed59a5c1e"
  },
  {
   "metadata": {},
   "cell_type": "markdown",
   "source": "This second datasate needs to be checked as well, we will apply the same filter as before, in this case there is only wind speed data available though.",
   "id": "25ed7bfc5ec08559"
  },
  {
   "metadata": {
    "ExecuteTime": {
     "end_time": "2024-09-22T18:27:30.498591400Z",
     "start_time": "2024-09-22T18:27:30.438493700Z"
    }
   },
   "cell_type": "code",
   "source": "hovsore_1 = hovsore_1.apply(pd.to_numeric, errors='coerce')",
   "id": "1f0fd8724bc85e44",
   "outputs": [],
   "execution_count": 23
  },
  {
   "metadata": {
    "ExecuteTime": {
     "end_time": "2024-09-22T18:27:33.935628800Z",
     "start_time": "2024-09-22T18:27:33.897162200Z"
    }
   },
   "cell_type": "code",
   "source": [
    "unique_below_0_wind = hovsore_1['sm_vel_component'][hovsore_1['sm_vel_component'] < 0].unique()\n",
    "unique_over_40_wind = hovsore_1['sm_vel_component'][hovsore_1['sm_vel_component'] > 40].unique()\n",
    "\n",
    "unique_values_over_40_and_below_0 = set(unique_below_0_wind).union(set(unique_over_40_wind))"
   ],
   "id": "3d4527e2e53a1e98",
   "outputs": [],
   "execution_count": 24
  },
  {
   "metadata": {
    "ExecuteTime": {
     "end_time": "2024-09-22T18:27:35.224463100Z",
     "start_time": "2024-09-22T18:27:35.166446700Z"
    }
   },
   "cell_type": "code",
   "source": "unique_values_over_40_and_below_0",
   "id": "9a71bd16292ce8c8",
   "outputs": [
    {
     "data": {
      "text/plain": "set()"
     },
     "execution_count": 25,
     "metadata": {},
     "output_type": "execute_result"
    }
   ],
   "execution_count": 25
  },
  {
   "metadata": {},
   "cell_type": "markdown",
   "source": "No invalid data is found in the hovsore_1 dataset.",
   "id": "fc46c3c5bfe0bb9b"
  },
  {
   "metadata": {},
   "cell_type": "markdown",
   "source": "## Inspect the time-series",
   "id": "f8a0b5ee4dc42c59"
  },
  {
   "metadata": {},
   "cell_type": "markdown",
   "source": "### 1)",
   "id": "36393ba8a3515cdb"
  },
  {
   "metadata": {},
   "cell_type": "markdown",
   "source": "Find the mean and standard deviation of wind speed from each data set.",
   "id": "c7855614c0c7eb16"
  },
  {
   "metadata": {},
   "cell_type": "markdown",
   "source": "#### Sprog",
   "id": "16e0205e8538633"
  },
  {
   "metadata": {},
   "cell_type": "markdown",
   "source": "Mean Wind Speed",
   "id": "1ac630fcdc4452c5"
  },
  {
   "metadata": {
    "ExecuteTime": {
     "end_time": "2024-09-22T18:29:11.944333800Z",
     "start_time": "2024-09-22T18:29:11.887416400Z"
    }
   },
   "cell_type": "code",
   "source": [
    "sprog_ws_mean = sprog['wind_speed'].mean()\n",
    "print(sprog_ws_mean)"
   ],
   "id": "82fc14452e00f88d",
   "outputs": [
    {
     "name": "stdout",
     "output_type": "stream",
     "text": [
      "8.235566499681097\n"
     ]
    }
   ],
   "execution_count": 26
  },
  {
   "metadata": {},
   "cell_type": "markdown",
   "source": "Wind Speed Standard deviation",
   "id": "567a515e300acab6"
  },
  {
   "metadata": {
    "ExecuteTime": {
     "end_time": "2024-09-22T18:29:21.465535700Z",
     "start_time": "2024-09-22T18:29:21.389616Z"
    }
   },
   "cell_type": "code",
   "source": [
    "sprog_ws_std = sprog['wind_speed'].std()\n",
    "print(sprog_ws_std)"
   ],
   "id": "177f1a5d5c68ed70",
   "outputs": [
    {
     "name": "stdout",
     "output_type": "stream",
     "text": [
      "3.907913492060975\n"
     ]
    }
   ],
   "execution_count": 27
  },
  {
   "metadata": {},
   "cell_type": "markdown",
   "source": "#### Hovsore 1",
   "id": "7bf4aee617588a0a"
  },
  {
   "metadata": {},
   "cell_type": "markdown",
   "source": "Mean Wind Speed",
   "id": "c336a16a310e2a89"
  },
  {
   "metadata": {
    "ExecuteTime": {
     "end_time": "2024-09-22T18:29:49.249224Z",
     "start_time": "2024-09-22T18:29:49.196350700Z"
    }
   },
   "cell_type": "code",
   "source": [
    "hovsore_1_mean = hovsore_1['sm_vel_component'].mean()\n",
    "print(hovsore_1_mean)"
   ],
   "id": "ce3a8a3d3126491a",
   "outputs": [
    {
     "name": "stdout",
     "output_type": "stream",
     "text": [
      "13.295274895833645\n"
     ]
    }
   ],
   "execution_count": 28
  },
  {
   "metadata": {},
   "cell_type": "markdown",
   "source": "Wind Speed Standard deviation",
   "id": "656e78ea01e4ddc"
  },
  {
   "metadata": {
    "ExecuteTime": {
     "end_time": "2024-09-22T18:30:03.965831700Z",
     "start_time": "2024-09-22T18:30:03.908367300Z"
    }
   },
   "cell_type": "code",
   "source": [
    "hovsore_1_std = hovsore_1['sm_vel_component'].std()\n",
    "print(hovsore_1_std)"
   ],
   "id": "d7e94a2594690e5a",
   "outputs": [
    {
     "name": "stdout",
     "output_type": "stream",
     "text": [
      "1.5435718228827797\n"
     ]
    }
   ],
   "execution_count": 29
  },
  {
   "metadata": {},
   "cell_type": "markdown",
   "source": "### 2)",
   "id": "c7af7e531918ef8b"
  },
  {
   "metadata": {},
   "cell_type": "markdown",
   "source": [
    "Appropriately calculate the mean and standard deviation of wind direction for the Sprogø\n",
    "data, over the entire period."
   ],
   "id": "a15a6a9e10d176b3"
  },
  {
   "metadata": {},
   "cell_type": "markdown",
   "source": "It is needed to consider that the wind direction is cyclic, thus the mean can be calculated as it usually is. There are two ways to compute it: averaging wind vectors and averaging wind vectors disregarding the wind speed. It abviously be only calculated for Sprog dataset as is the only one with wind direction measurements.",
   "id": "42483790ad7c080"
  },
  {
   "metadata": {},
   "cell_type": "markdown",
   "source": "#### Mean Wind direction - Averaging wind vectors",
   "id": "516fdcc4756d476f"
  },
  {
   "metadata": {},
   "cell_type": "markdown",
   "source": "Rows with NaN values in either wind speed or wind direction will not be used for the calculation:",
   "id": "1d5f7c538b89a7a3"
  },
  {
   "metadata": {
    "ExecuteTime": {
     "end_time": "2024-09-22T18:30:46.584028300Z",
     "start_time": "2024-09-22T18:30:46.526341300Z"
    }
   },
   "cell_type": "code",
   "source": "sprog_cleaned = sprog.dropna(subset=['wind_speed', 'wind_direction'])",
   "id": "39c7331956999ac2",
   "outputs": [],
   "execution_count": 30
  },
  {
   "metadata": {},
   "cell_type": "markdown",
   "source": "Now compute $S_{va}$ as:",
   "id": "444b42e16517c0b1"
  },
  {
   "metadata": {
    "ExecuteTime": {
     "end_time": "2024-09-22T18:31:19.549979700Z",
     "start_time": "2024-09-22T18:31:19.492378700Z"
    }
   },
   "cell_type": "code",
   "source": [
    "sprog_cleaned.loc[:, 'Sva'] = sprog_cleaned['wind_speed'] * np.sin(np.radians(sprog_cleaned['wind_direction']))\n",
    "\n",
    "Sva = sprog_cleaned['Sva'].mean()\n",
    "print(Sva)"
   ],
   "id": "d87dbbdc974dd47e",
   "outputs": [
    {
     "name": "stdout",
     "output_type": "stream",
     "text": [
      "-1.9060884150790651\n"
     ]
    },
    {
     "name": "stderr",
     "output_type": "stream",
     "text": [
      "C:\\Users\\alexm\\AppData\\Local\\Temp/ipykernel_23612/4115743496.py:1: SettingWithCopyWarning: \n",
      "A value is trying to be set on a copy of a slice from a DataFrame.\n",
      "Try using .loc[row_indexer,col_indexer] = value instead\n",
      "\n",
      "See the caveats in the documentation: https://pandas.pydata.org/pandas-docs/stable/user_guide/indexing.html#returning-a-view-versus-a-copy\n",
      "  sprog_cleaned.loc[:, 'Sva'] = sprog_cleaned['wind_speed'] * np.sin(np.radians(sprog_cleaned['wind_direction']))\n"
     ]
    }
   ],
   "execution_count": 32
  },
  {
   "metadata": {},
   "cell_type": "markdown",
   "source": "Now compute $C_{va}$ as:",
   "id": "e7fef0188c7123f6"
  },
  {
   "metadata": {
    "ExecuteTime": {
     "end_time": "2024-09-22T18:31:22.255784600Z",
     "start_time": "2024-09-22T18:31:22.197574200Z"
    }
   },
   "cell_type": "code",
   "source": [
    "sprog_cleaned.loc[:, 'Cva'] = sprog_cleaned['wind_speed'] * np.cos(np.radians(sprog_cleaned['wind_direction']))\n",
    "\n",
    "Cva = sprog_cleaned['Cva'].mean()\n",
    "print(Cva)"
   ],
   "id": "7f3e0f4bd76a0186",
   "outputs": [
    {
     "name": "stdout",
     "output_type": "stream",
     "text": [
      "-1.3037402558776214\n"
     ]
    },
    {
     "name": "stderr",
     "output_type": "stream",
     "text": [
      "C:\\Users\\alexm\\AppData\\Local\\Temp/ipykernel_23612/804695814.py:1: SettingWithCopyWarning: \n",
      "A value is trying to be set on a copy of a slice from a DataFrame.\n",
      "Try using .loc[row_indexer,col_indexer] = value instead\n",
      "\n",
      "See the caveats in the documentation: https://pandas.pydata.org/pandas-docs/stable/user_guide/indexing.html#returning-a-view-versus-a-copy\n",
      "  sprog_cleaned.loc[:, 'Cva'] = sprog_cleaned['wind_speed'] * np.cos(np.radians(sprog_cleaned['wind_direction']))\n"
     ]
    }
   ],
   "execution_count": 33
  },
  {
   "metadata": {},
   "cell_type": "markdown",
   "source": "And the average wind direction:",
   "id": "3be838ba96c68567"
  },
  {
   "metadata": {
    "ExecuteTime": {
     "end_time": "2024-09-22T18:31:31.035562200Z",
     "start_time": "2024-09-22T18:31:30.944522800Z"
    }
   },
   "cell_type": "code",
   "source": [
    "Av_wd = (180/np.pi) * np.arctan2(Sva, Cva) % 360\n",
    "print(Av_wd)"
   ],
   "id": "fdc4dec982b84afe",
   "outputs": [
    {
     "name": "stdout",
     "output_type": "stream",
     "text": [
      "235.62836807151206\n"
     ]
    }
   ],
   "execution_count": 34
  },
  {
   "metadata": {},
   "cell_type": "markdown",
   "source": "#### Mean Wind Direction - Disregarding the wind speed",
   "id": "51a5005e06d931cd"
  },
  {
   "metadata": {
    "ExecuteTime": {
     "end_time": "2024-09-22T18:31:57.376119100Z",
     "start_time": "2024-09-22T18:31:57.322122700Z"
    }
   },
   "cell_type": "code",
   "source": [
    "sprog_cleaned.loc[:, 'Sa'] = np.sin(np.radians(sprog_cleaned['wind_direction']))\n",
    "\n",
    "Sa = sprog_cleaned['Sa'].mean()\n",
    "print(Sa)"
   ],
   "id": "d1296b93c766b1f2",
   "outputs": [
    {
     "name": "stdout",
     "output_type": "stream",
     "text": [
      "-0.1878247020810765\n"
     ]
    },
    {
     "name": "stderr",
     "output_type": "stream",
     "text": [
      "C:\\Users\\alexm\\AppData\\Local\\Temp/ipykernel_23612/2306913093.py:1: SettingWithCopyWarning: \n",
      "A value is trying to be set on a copy of a slice from a DataFrame.\n",
      "Try using .loc[row_indexer,col_indexer] = value instead\n",
      "\n",
      "See the caveats in the documentation: https://pandas.pydata.org/pandas-docs/stable/user_guide/indexing.html#returning-a-view-versus-a-copy\n",
      "  sprog_cleaned.loc[:, 'Sa'] = np.sin(np.radians(sprog_cleaned['wind_direction']))\n"
     ]
    }
   ],
   "execution_count": 35
  },
  {
   "metadata": {
    "ExecuteTime": {
     "end_time": "2024-09-22T18:32:12.092513600Z",
     "start_time": "2024-09-22T18:32:12.006219800Z"
    }
   },
   "cell_type": "code",
   "source": [
    "sprog_cleaned.loc[:, 'Ca'] = np.cos(np.radians(sprog_cleaned['wind_direction']))\n",
    "\n",
    "Ca = sprog_cleaned['Ca'].mean()\n",
    "print(Ca)"
   ],
   "id": "f01ea5fe50d09d66",
   "outputs": [
    {
     "name": "stdout",
     "output_type": "stream",
     "text": [
      "-0.13390632387921758\n"
     ]
    },
    {
     "name": "stderr",
     "output_type": "stream",
     "text": [
      "C:\\Users\\alexm\\AppData\\Local\\Temp/ipykernel_23612/2008486381.py:1: SettingWithCopyWarning: \n",
      "A value is trying to be set on a copy of a slice from a DataFrame.\n",
      "Try using .loc[row_indexer,col_indexer] = value instead\n",
      "\n",
      "See the caveats in the documentation: https://pandas.pydata.org/pandas-docs/stable/user_guide/indexing.html#returning-a-view-versus-a-copy\n",
      "  sprog_cleaned.loc[:, 'Ca'] = np.cos(np.radians(sprog_cleaned['wind_direction']))\n"
     ]
    }
   ],
   "execution_count": 36
  },
  {
   "metadata": {},
   "cell_type": "markdown",
   "source": "Then the average wind direction is:",
   "id": "288b0c3a93d10601"
  },
  {
   "metadata": {
    "ExecuteTime": {
     "end_time": "2024-09-22T18:32:17.439517900Z",
     "start_time": "2024-09-22T18:32:17.391689400Z"
    }
   },
   "cell_type": "code",
   "source": [
    "Av_wd2 = ((180/np.pi) * np.arctan2(Sa, Ca)) % 360\n",
    "print(Av_wd2)"
   ],
   "id": "fc03ff27a6e54584",
   "outputs": [
    {
     "name": "stdout",
     "output_type": "stream",
     "text": [
      "234.5136969339993\n"
     ]
    }
   ],
   "execution_count": 37
  },
  {
   "metadata": {},
   "cell_type": "markdown",
   "source": "#### Standard deviation Wind Direction",
   "id": "b9f2e2f2132045c1"
  },
  {
   "metadata": {},
   "cell_type": "markdown",
   "source": "The Yamartino method is used to calculate the standard deviation.",
   "id": "34d999d5c70a70f4"
  },
  {
   "metadata": {
    "ExecuteTime": {
     "end_time": "2024-09-22T18:32:29.749155100Z",
     "start_time": "2024-09-22T18:32:29.692079200Z"
    }
   },
   "cell_type": "code",
   "source": [
    "ep = np.sqrt(1- Sa**2 - Ca**2)\n",
    "\n",
    "std = np.arcsin(ep) * (1 + (2/(np.sqrt(3)) - 1) * ep**3)\n",
    "print(std)"
   ],
   "id": "d862a9c4a99cda97",
   "outputs": [
    {
     "name": "stdout",
     "output_type": "stream",
     "text": [
      "1.5287239953443936\n"
     ]
    }
   ],
   "execution_count": 38
  },
  {
   "metadata": {},
   "cell_type": "markdown",
   "source": "### 3)",
   "id": "9acfb92f04d277e"
  },
  {
   "metadata": {},
   "cell_type": "markdown",
   "source": "Plot the probability density function (PDF) of speed for each data set.",
   "id": "da38cd569d63b337"
  },
  {
   "metadata": {},
   "cell_type": "markdown",
   "source": "#### Sprog",
   "id": "362965fe6bb33823"
  },
  {
   "metadata": {
    "ExecuteTime": {
     "end_time": "2024-09-22T09:44:53.644986Z",
     "start_time": "2024-09-22T09:44:53.638091Z"
    }
   },
   "cell_type": "code",
   "source": "sprog",
   "id": "eade2ba203bd6bed",
   "outputs": [
    {
     "data": {
      "text/plain": [
       "            timestamp  wind_speed  wind_direction_67.5m  wind_direction_70m  \\\n",
       "0        197709131435        9.76                 317.0                 NaN   \n",
       "1        197709131445       10.58                 309.0                 NaN   \n",
       "2        197709131455       10.19                 329.0                 NaN   \n",
       "3        197709131505        8.71                 323.0                 NaN   \n",
       "4        197709131515        8.85                 309.0                 NaN   \n",
       "...               ...         ...                   ...                 ...   \n",
       "1156272  199909080635        4.20                   NaN               222.0   \n",
       "1156273  199909080645        4.77                   NaN               226.0   \n",
       "1156274  199909080655        5.37                   NaN               233.0   \n",
       "1156275  199909080705        5.07                   NaN               230.0   \n",
       "1156276  199909080715        4.73                   NaN               235.0   \n",
       "\n",
       "         wind_direction  \n",
       "0                 317.0  \n",
       "1                 309.0  \n",
       "2                 329.0  \n",
       "3                 323.0  \n",
       "4                 309.0  \n",
       "...                 ...  \n",
       "1156272           222.0  \n",
       "1156273           226.0  \n",
       "1156274           233.0  \n",
       "1156275           230.0  \n",
       "1156276           235.0  \n",
       "\n",
       "[1156277 rows x 5 columns]"
      ],
      "text/html": [
       "<div>\n",
       "<style scoped>\n",
       "    .dataframe tbody tr th:only-of-type {\n",
       "        vertical-align: middle;\n",
       "    }\n",
       "\n",
       "    .dataframe tbody tr th {\n",
       "        vertical-align: top;\n",
       "    }\n",
       "\n",
       "    .dataframe thead th {\n",
       "        text-align: right;\n",
       "    }\n",
       "</style>\n",
       "<table border=\"1\" class=\"dataframe\">\n",
       "  <thead>\n",
       "    <tr style=\"text-align: right;\">\n",
       "      <th></th>\n",
       "      <th>timestamp</th>\n",
       "      <th>wind_speed</th>\n",
       "      <th>wind_direction_67.5m</th>\n",
       "      <th>wind_direction_70m</th>\n",
       "      <th>wind_direction</th>\n",
       "    </tr>\n",
       "  </thead>\n",
       "  <tbody>\n",
       "    <tr>\n",
       "      <th>0</th>\n",
       "      <td>197709131435</td>\n",
       "      <td>9.76</td>\n",
       "      <td>317.0</td>\n",
       "      <td>NaN</td>\n",
       "      <td>317.0</td>\n",
       "    </tr>\n",
       "    <tr>\n",
       "      <th>1</th>\n",
       "      <td>197709131445</td>\n",
       "      <td>10.58</td>\n",
       "      <td>309.0</td>\n",
       "      <td>NaN</td>\n",
       "      <td>309.0</td>\n",
       "    </tr>\n",
       "    <tr>\n",
       "      <th>2</th>\n",
       "      <td>197709131455</td>\n",
       "      <td>10.19</td>\n",
       "      <td>329.0</td>\n",
       "      <td>NaN</td>\n",
       "      <td>329.0</td>\n",
       "    </tr>\n",
       "    <tr>\n",
       "      <th>3</th>\n",
       "      <td>197709131505</td>\n",
       "      <td>8.71</td>\n",
       "      <td>323.0</td>\n",
       "      <td>NaN</td>\n",
       "      <td>323.0</td>\n",
       "    </tr>\n",
       "    <tr>\n",
       "      <th>4</th>\n",
       "      <td>197709131515</td>\n",
       "      <td>8.85</td>\n",
       "      <td>309.0</td>\n",
       "      <td>NaN</td>\n",
       "      <td>309.0</td>\n",
       "    </tr>\n",
       "    <tr>\n",
       "      <th>...</th>\n",
       "      <td>...</td>\n",
       "      <td>...</td>\n",
       "      <td>...</td>\n",
       "      <td>...</td>\n",
       "      <td>...</td>\n",
       "    </tr>\n",
       "    <tr>\n",
       "      <th>1156272</th>\n",
       "      <td>199909080635</td>\n",
       "      <td>4.20</td>\n",
       "      <td>NaN</td>\n",
       "      <td>222.0</td>\n",
       "      <td>222.0</td>\n",
       "    </tr>\n",
       "    <tr>\n",
       "      <th>1156273</th>\n",
       "      <td>199909080645</td>\n",
       "      <td>4.77</td>\n",
       "      <td>NaN</td>\n",
       "      <td>226.0</td>\n",
       "      <td>226.0</td>\n",
       "    </tr>\n",
       "    <tr>\n",
       "      <th>1156274</th>\n",
       "      <td>199909080655</td>\n",
       "      <td>5.37</td>\n",
       "      <td>NaN</td>\n",
       "      <td>233.0</td>\n",
       "      <td>233.0</td>\n",
       "    </tr>\n",
       "    <tr>\n",
       "      <th>1156275</th>\n",
       "      <td>199909080705</td>\n",
       "      <td>5.07</td>\n",
       "      <td>NaN</td>\n",
       "      <td>230.0</td>\n",
       "      <td>230.0</td>\n",
       "    </tr>\n",
       "    <tr>\n",
       "      <th>1156276</th>\n",
       "      <td>199909080715</td>\n",
       "      <td>4.73</td>\n",
       "      <td>NaN</td>\n",
       "      <td>235.0</td>\n",
       "      <td>235.0</td>\n",
       "    </tr>\n",
       "  </tbody>\n",
       "</table>\n",
       "<p>1156277 rows × 5 columns</p>\n",
       "</div>"
      ]
     },
     "execution_count": 40,
     "metadata": {},
     "output_type": "execute_result"
    }
   ],
   "execution_count": 40
  },
  {
   "metadata": {
    "ExecuteTime": {
     "end_time": "2024-09-22T18:59:07.381923300Z",
     "start_time": "2024-09-22T18:59:00.533280800Z"
    }
   },
   "cell_type": "code",
   "source": [
    "wind_speed = sprog['wind_speed'].dropna()\n",
    "\n",
    "# Create the plot\n",
    "sns.kdeplot(wind_speed, fill=True, color=\"blue\")\n",
    "\n",
    "# Adding title and labels\n",
    "plt.title('Probability Density Function of Wind Speed')\n",
    "plt.xlabel('Wind Speed')\n",
    "plt.ylabel('Density')\n",
    "\n",
    "# Save the plot to a file instead of showing it\n",
    "plt.savefig('Task_3_1_wind_speed_pdf_sprog.png', dpi=300)  # Save it as a PNG file\n",
    "\n",
    "# Display the plot\n",
    "plt.show()\n",
    "\n",
    "# Optionally, you can clear the figure to free up memory for future plots\n",
    "#plt.clf()"
   ],
   "id": "763d8d50f22ac9da",
   "outputs": [
    {
     "data": {
      "text/plain": "<Figure size 432x288 with 1 Axes>",
      "image/png": "[encoded data removed]"
     },
     "metadata": {},
     "output_type": "display_data"
    }
   ],
   "execution_count": 46
  },
  {
   "metadata": {},
   "cell_type": "markdown",
   "source": "#### Hovsore 1",
   "id": "fa6b5bee10d3101"
  },
  {
   "metadata": {
    "ExecuteTime": {
     "end_time": "2024-09-22T18:48:21.208993Z",
     "start_time": "2024-09-22T18:48:21.148102Z"
    }
   },
   "cell_type": "code",
   "source": "hovsore_1",
   "id": "26616222d47bdf7b",
   "outputs": [
    {
     "data": {
      "text/plain": "           timestamp  sm_vel_component\n0       201603012000              9.49\n1       201603012000             10.16\n2       201603012000              9.71\n3       201603012000             10.79\n4       201603012000             10.84\n...              ...               ...\n287995  201603012350             12.60\n287996  201603012350             13.54\n287997  201603012350             13.00\n287998  201603012350             12.90\n287999  201603012350             12.83\n\n[288000 rows x 2 columns]",
      "text/html": "<div>\n<style scoped>\n    .dataframe tbody tr th:only-of-type {\n        vertical-align: middle;\n    }\n\n    .dataframe tbody tr th {\n        vertical-align: top;\n    }\n\n    .dataframe thead th {\n        text-align: right;\n    }\n</style>\n<table border=\"1\" class=\"dataframe\">\n  <thead>\n    <tr style=\"text-align: right;\">\n      <th></th>\n      <th>timestamp</th>\n      <th>sm_vel_component</th>\n    </tr>\n  </thead>\n  <tbody>\n    <tr>\n      <th>0</th>\n      <td>201603012000</td>\n      <td>9.49</td>\n    </tr>\n    <tr>\n      <th>1</th>\n      <td>201603012000</td>\n      <td>10.16</td>\n    </tr>\n    <tr>\n      <th>2</th>\n      <td>201603012000</td>\n      <td>9.71</td>\n    </tr>\n    <tr>\n      <th>3</th>\n      <td>201603012000</td>\n      <td>10.79</td>\n    </tr>\n    <tr>\n      <th>4</th>\n      <td>201603012000</td>\n      <td>10.84</td>\n    </tr>\n    <tr>\n      <th>...</th>\n      <td>...</td>\n      <td>...</td>\n    </tr>\n    <tr>\n      <th>287995</th>\n      <td>201603012350</td>\n      <td>12.60</td>\n    </tr>\n    <tr>\n      <th>287996</th>\n      <td>201603012350</td>\n      <td>13.54</td>\n    </tr>\n    <tr>\n      <th>287997</th>\n      <td>201603012350</td>\n      <td>13.00</td>\n    </tr>\n    <tr>\n      <th>287998</th>\n      <td>201603012350</td>\n      <td>12.90</td>\n    </tr>\n    <tr>\n      <th>287999</th>\n      <td>201603012350</td>\n      <td>12.83</td>\n    </tr>\n  </tbody>\n</table>\n<p>288000 rows × 2 columns</p>\n</div>"
     },
     "execution_count": 44,
     "metadata": {},
     "output_type": "execute_result"
    }
   ],
   "execution_count": 44
  },
  {
   "metadata": {
    "ExecuteTime": {
     "end_time": "2024-09-22T18:59:17.161607400Z",
     "start_time": "2024-09-22T18:59:14.872569800Z"
    }
   },
   "cell_type": "code",
   "outputs": [
    {
     "data": {
      "text/plain": "<Figure size 432x288 with 1 Axes>",
      "image/png": "[encoded data removed]"
     },
     "metadata": {},
     "output_type": "display_data"
    }
   ],
   "execution_count": 47,
   "source": [
    "wind_speed = hovsore_1['sm_vel_component'].dropna()\n",
    "\n",
    "# Create the plot\n",
    "sns.kdeplot(wind_speed, fill=True, color=\"blue\")\n",
    "\n",
    "# Adding title and labels\n",
    "plt.title('Probability Density Function of Wind Speed')\n",
    "plt.xlabel('Wind Speed')\n",
    "plt.ylabel('Density')\n",
    "\n",
    "# Save the plot to a file instead of showing it\n",
    "plt.savefig('Task_3_2_wind_speed_pdf_hovsore1.png', dpi=300)  # Save it as a PNG file\n",
    "\n",
    "# Display the plot\n",
    "plt.show()\n",
    "\n",
    "# Optionally, you can clear the figure to free up memory for future plots\n",
    "#plt.clf()"
   ],
   "id": "7e3ada3d89528320"
  },
  {
   "metadata": {},
   "cell_type": "markdown",
   "source": "### 4)",
   "id": "bc2a74b64f1d73a6"
  },
  {
   "metadata": {},
   "cell_type": "markdown",
   "source": "Plot the cumulative distribution function (CDF) of speed for each data set.",
   "id": "8e3293ee1be398a0"
  },
  {
   "metadata": {},
   "cell_type": "markdown",
   "source": "#### Sprog",
   "id": "9fa5e56055bc17b7"
  },
  {
   "metadata": {
    "ExecuteTime": {
     "end_time": "2024-09-22T19:01:02.866080500Z",
     "start_time": "2024-09-22T19:01:01.023483200Z"
    }
   },
   "cell_type": "code",
   "outputs": [
    {
     "data": {
      "text/plain": "<Figure size 432x288 with 1 Axes>",
      "image/png": "[encoded data removed]"
     },
     "metadata": {},
     "output_type": "display_data"
    }
   ],
   "execution_count": 48,
   "source": [
    "wind_speed = sprog['wind_speed'].dropna()  # Drop NaN values if any\n",
    "\n",
    "# Sort the data\n",
    "sorted_wind_speed = np.sort(wind_speed)\n",
    "\n",
    "# Compute the empirical CDF\n",
    "cdf = np.arange(1, len(sorted_wind_speed) + 1) / len(sorted_wind_speed)\n",
    "\n",
    "# Plot the CDF\n",
    "plt.plot(sorted_wind_speed, cdf, color=\"blue\", label=\"Empirical CDF\")\n",
    "plt.title('Cumulative Distribution Function of Wind Speed')\n",
    "plt.xlabel('Wind Speed')\n",
    "plt.ylabel('Cumulative Probability')\n",
    "plt.legend()\n",
    "\n",
    "plt.savefig('Task_4_1_wind_speed_cdf_sprog.png', dpi=300)\n",
    "\n",
    "plt.show()"
   ],
   "id": "207c16f6aedf4c62"
  },
  {
   "metadata": {},
   "cell_type": "markdown",
   "source": "#### Hovsore 1",
   "id": "a7a59a32808b37d0"
  },
  {
   "metadata": {
    "ExecuteTime": {
     "end_time": "2024-09-22T19:02:38.371673800Z",
     "start_time": "2024-09-22T19:02:37.740188900Z"
    }
   },
   "cell_type": "code",
   "outputs": [
    {
     "data": {
      "text/plain": "<Figure size 432x288 with 1 Axes>",
      "image/png": "[encoded data removed]"
     },
     "metadata": {},
     "output_type": "display_data"
    }
   ],
   "execution_count": 50,
   "source": [
    "wind_speed = hovsore_1['sm_vel_component'].dropna() # Drop NaN values if any\n",
    "\n",
    "# Sort the data\n",
    "sorted_wind_speed = np.sort(wind_speed)\n",
    "\n",
    "# Compute the empirical CDF\n",
    "cdf = np.arange(1, len(sorted_wind_speed) + 1) / len(sorted_wind_speed)\n",
    "\n",
    "# Plot the CDF\n",
    "plt.plot(sorted_wind_speed, cdf, color=\"blue\", label=\"Empirical CDF\")\n",
    "plt.title('Cumulative Distribution Function of Wind Speed')\n",
    "plt.xlabel('Wind Speed')\n",
    "plt.ylabel('Cumulative Probability')\n",
    "plt.legend()\n",
    "\n",
    "plt.savefig('Task_4_2_wind_speed_cdf_hovsore1.png', dpi=300)\n",
    "\n",
    "plt.show()"
   ],
   "id": "c2f46f330d27dea9"
  },
  {
   "metadata": {},
   "cell_type": "markdown",
   "source": "### 5)",
   "id": "1e489446a9392116"
  },
  {
   "metadata": {},
   "cell_type": "markdown",
   "source": [
    "For the turbulence data, re-plot the PDF using normalized variables, and overplot the theo-\n",
    "retical (ideal) PDF."
   ],
   "id": "a62aa1cc4bd0b42b"
  },
  {
   "metadata": {},
   "cell_type": "markdown",
   "source": "The turbulence data is the one corresponding to the hovsore dataset. We create a new column where the noramlised values of each dataset will be calculated",
   "id": "2d65c92f9845777"
  },
  {
   "cell_type": "code",
   "outputs": [
    {
     "data": {
      "text/plain": "<Figure size 432x288 with 1 Axes>",
      "image/png": "[encoded data removed]"
     },
     "metadata": {},
     "output_type": "display_data"
    }
   ],
   "source": [
    "# Assuming wind_speed is your data (pandas Series or numpy array)\n",
    "wind_speed = hovsore_1[\"sm_vel_component\"].dropna()  # Drop NaN values if any\n",
    "\n",
    "# Normalize the data (Z-score normalization)\n",
    "mean = np.mean(wind_speed)\n",
    "std = np.std(wind_speed)\n",
    "normalized_wind_speed = (wind_speed - mean) / std\n",
    "\n",
    "# Sort the normalized data\n",
    "sorted_normalized_wind_speed = np.sort(normalized_wind_speed)\n",
    "\n",
    "# Compute the empirical CDF\n",
    "cdf = np.arange(1, len(sorted_normalized_wind_speed) + 1) / len(sorted_normalized_wind_speed)\n",
    "\n",
    "# Plot the CDF\n",
    "plt.plot(sorted_normalized_wind_speed, cdf, color=\"blue\", label=\"Empirical CDF (Normalised)\")\n",
    "plt.title('Cumulative Distribution Function of Normalized Wind Speed')\n",
    "plt.xlabel('Normalized Wind Speed (Z-score)')\n",
    "plt.ylabel('Cumulative Probability')\n",
    "plt.legend()\n",
    "\n",
    "plt.savefig('Task_5_1_wind_speed_cdf_hovsore1_normalised.png', dpi=300)\n",
    "\n",
    "plt.show()"
   ],
   "metadata": {
    "collapsed": false,
    "ExecuteTime": {
     "end_time": "2024-09-22T19:36:25.737726200Z",
     "start_time": "2024-09-22T19:36:24.913700600Z"
    }
   },
   "id": "c487fdf83e45c0c9",
   "execution_count": 51
  },
  {
   "metadata": {},
   "cell_type": "markdown",
   "source": "### 6) ",
   "id": "f261132bfdd2ee40"
  },
  {
   "metadata": {},
   "cell_type": "markdown",
   "source": "For Sprogø data set, estimate the Webull-A and k parameters, using two different methods: ",
   "id": "f0565fd640dfd311"
  },
  {
   "metadata": {},
   "cell_type": "markdown",
   "source": "#### Based on the first and second (non-central) moments",
   "id": "46aa8c5cf33f0c67"
  },
  {
   "cell_type": "code",
   "outputs": [
    {
     "name": "stdout",
     "output_type": "stream",
     "text": [
      "Shape parameter k =  2.227\n",
      "Scale parameter A =  9.299\n"
     ]
    }
   ],
   "source": [
    "from sympy import symbols, Eq, nsolve, solve, gamma, exp\n",
    "\n",
    "def weibull(mean, std):\n",
    "    A = symbols('A')\n",
    "    k = symbols('k')\n",
    "\n",
    "    eq1 = Eq( A*gamma(1+(1/k)) , mean )\n",
    "    eq2 = Eq( (A**2)* (gamma(1+(2/k)) - (gamma(1+(1/k))**2)) , std**2 ) \n",
    "\n",
    "    sol = nsolve((eq1,eq2), (k, A), (2, 9))\n",
    "    return sol\n",
    "\n",
    "# print(weibull(mean, std))\n",
    "\n",
    "print(f'Shape parameter k = {weibull(sprog_ws_mean, sprog_ws_std)[0]: .3f}')\n",
    "print(f'Scale parameter A = {weibull(sprog_ws_mean, sprog_ws_std)[1]: .3f}')"
   ],
   "metadata": {
    "collapsed": false,
    "ExecuteTime": {
     "end_time": "2024-09-22T20:01:22.685519200Z",
     "start_time": "2024-09-22T20:01:21.578605300Z"
    }
   },
   "id": "3f93b3d3d34c53b1",
   "execution_count": 56
  },
  {
   "metadata": {},
   "cell_type": "markdown",
   "source": "#### Based on the third moment and CDF-at-mean",
   "id": "581326a4ab91b66c"
  },
  {
   "cell_type": "code",
   "outputs": [
    {
     "name": "stdout",
     "output_type": "stream",
     "text": [
      "Shape parameter kp = 2.324\n",
      "Scale parameter Ap = 9.396\n"
     ]
    }
   ],
   "source": [
    "# Assuming sprog['wind_speed'] is a Pandas DataFrame or Series\n",
    "wind_speed = sprog['wind_speed'].dropna()  # Drop NaN values if any\n",
    "\n",
    "# Calculate the mean of the wind speed\n",
    "mean_wind_speed = np.mean(wind_speed)\n",
    "\n",
    "# Sort the data\n",
    "sorted_wind_speed = np.sort(wind_speed)\n",
    "\n",
    "# Compute the CDF\n",
    "cdf = np.arange(1, len(sorted_wind_speed) + 1) / len(sorted_wind_speed)\n",
    "\n",
    "# Interpolate to get the CDF at the mean wind speed\n",
    "cdf_mean = np.interp(mean_wind_speed, sorted_wind_speed, cdf)\n",
    "\n",
    "# Define the Weibull function to solve for shape (kp) and scale (Ap) parameters\n",
    "def weibullp(mean, cdf_mean):\n",
    "    Ap, kp = symbols('Ap kp')  # Define variables for Ap (scale) and kp (shape)\n",
    "\n",
    "    # Equation based on Weibull distribution formula\n",
    "    eq3 = Eq((Ap**3) * gamma(1 + (3 / kp)), 962.564)  # Modify this as per your calculation\n",
    "    eq4 = Eq(1 - exp(-(mean / Ap)**kp), cdf_mean)  # Weibull CDF equation\n",
    "\n",
    "    # Solve the system of equations for kp and Ap\n",
    "    sol = nsolve((eq3, eq4), (kp, Ap), (2, 9))  # (2, 9) are initial guesses for kp and Ap\n",
    "    return sol\n",
    "\n",
    "# Compute kp and Ap\n",
    "sol = weibullp(mean_wind_speed, cdf_mean)\n",
    "\n",
    "# Print the results\n",
    "kp_value = sol[0]\n",
    "Ap_value = sol[1]\n",
    "print(f'Shape parameter kp = {kp_value:.3f}')\n",
    "print(f'Scale parameter Ap = {Ap_value:.3f}')\n"
   ],
   "metadata": {
    "collapsed": false,
    "ExecuteTime": {
     "end_time": "2024-09-22T20:14:34.480879700Z",
     "start_time": "2024-09-22T20:14:34.371575800Z"
    }
   },
   "id": "579bb37b38b8305e",
   "execution_count": 59
  },
  {
   "cell_type": "code",
   "outputs": [
    {
     "data": {
      "text/plain": "0.5210079156472462"
     },
     "execution_count": 60,
     "metadata": {},
     "output_type": "execute_result"
    }
   ],
   "source": [
    "cdf_mean"
   ],
   "metadata": {
    "collapsed": false,
    "ExecuteTime": {
     "end_time": "2024-09-22T20:19:26.294639700Z",
     "start_time": "2024-09-22T20:19:26.221299700Z"
    }
   },
   "id": "c172982c931bdb42",
   "execution_count": 60
  },
  {
   "metadata": {
    "ExecuteTime": {
     "end_time": "2024-09-22T13:28:45.192940Z",
     "start_time": "2024-09-22T13:28:45.189310Z"
    }
   },
   "cell_type": "code",
   "source": [
    "def equations2(params):\n",
    "    A, k = params\n",
    "    eq1 = A**3 * gamma(1 + 3/k) - third_moment\n",
    "    eq2 = 1 - np.exp(- (sprog_ws_mean / A)**k)  # CDF at mean\n",
    "    return (eq1, eq2)\n",
    "\n",
    "# Initial guesses for A and k\n",
    "initial_guess = [sprog_ws_mean, 1.5]\n",
    "\n",
    "# Solve the equations\n",
    "A_optimal, k_optimal = fsolve(equations2, initial_guess)\n",
    "\n",
    "print(f\"Estimated A: {A_optimal}, Estimated k: {k_optimal}\")"
   ],
   "id": "be89e2d3d15c789f",
   "outputs": [
    {
     "name": "stdout",
     "output_type": "stream",
     "text": [
      "Estimated A: 2.8686000777293725, Estimated k: 2.7873163321860766\n"
     ]
    },
    {
     "name": "stderr",
     "output_type": "stream",
     "text": [
      "/tmp/ipykernel_16661/1794734709.py:4: RuntimeWarning: invalid value encountered in scalar power\n",
      "  eq2 = 1 - np.exp(- (sprog_ws_mean / A)**k)  # CDF at mean\n",
      "/home/adb/anaconda3/lib/python3.11/site-packages/scipy/optimize/_minpack_py.py:177: RuntimeWarning: The iteration is not making good progress, as measured by the \n",
      "  improvement from the last five Jacobian evaluations.\n",
      "  warnings.warn(msg, RuntimeWarning)\n"
     ]
    }
   ],
   "execution_count": 103
  },
  {
   "metadata": {},
   "cell_type": "markdown",
   "source": "### 7)",
   "id": "1976c3e9d3f8a13c"
  },
  {
   "metadata": {},
   "cell_type": "markdown",
   "source": [
    "Based on the estimated Weibull parameters, plot the theoretical Weibull-PDFs, together\n",
    "with the Sprogø data’s PDF from task 3 above."
   ],
   "id": "fa8d08c6b5acd61f"
  },
  {
   "metadata": {},
   "cell_type": "markdown",
   "source": "### 8)",
   "id": "7517314a6e4ae9fb"
  },
  {
   "metadata": {},
   "cell_type": "markdown",
   "source": [
    "Investigate the Sprogø data conditioned on wind direction: divide the data into 12 directional\n",
    "sectors (30 wide) and centered on 0 , 30 , ...330 (be careful around 0 ). For each sector,\n",
    "calculate A and k based on one of the two methods discussed in task 6 above, and compare\n",
    "the fitted Weibull-PDFs with the measured data."
   ],
   "id": "177e481d34d52cf5"
  },
  {
   "metadata": {
    "ExecuteTime": {
     "end_time": "2024-09-22T13:07:56.425220Z",
     "start_time": "2024-09-22T13:07:56.417945Z"
    }
   },
   "cell_type": "code",
   "source": "sprog",
   "id": "5c471c6cf12a887",
   "outputs": [
    {
     "data": {
      "text/plain": [
       "            timestamp  wind_speed  wind_direction_67.5m  wind_direction_70m  \\\n",
       "0        197709131435        9.76                 317.0                 NaN   \n",
       "1        197709131445       10.58                 309.0                 NaN   \n",
       "2        197709131455       10.19                 329.0                 NaN   \n",
       "3        197709131505        8.71                 323.0                 NaN   \n",
       "4        197709131515        8.85                 309.0                 NaN   \n",
       "...               ...         ...                   ...                 ...   \n",
       "1156272  199909080635        4.20                   NaN               222.0   \n",
       "1156273  199909080645        4.77                   NaN               226.0   \n",
       "1156274  199909080655        5.37                   NaN               233.0   \n",
       "1156275  199909080705        5.07                   NaN               230.0   \n",
       "1156276  199909080715        4.73                   NaN               235.0   \n",
       "\n",
       "         wind_direction  \n",
       "0                 317.0  \n",
       "1                 309.0  \n",
       "2                 329.0  \n",
       "3                 323.0  \n",
       "4                 309.0  \n",
       "...                 ...  \n",
       "1156272           222.0  \n",
       "1156273           226.0  \n",
       "1156274           233.0  \n",
       "1156275           230.0  \n",
       "1156276           235.0  \n",
       "\n",
       "[1156277 rows x 5 columns]"
      ],
      "text/html": [
       "<div>\n",
       "<style scoped>\n",
       "    .dataframe tbody tr th:only-of-type {\n",
       "        vertical-align: middle;\n",
       "    }\n",
       "\n",
       "    .dataframe tbody tr th {\n",
       "        vertical-align: top;\n",
       "    }\n",
       "\n",
       "    .dataframe thead th {\n",
       "        text-align: right;\n",
       "    }\n",
       "</style>\n",
       "<table border=\"1\" class=\"dataframe\">\n",
       "  <thead>\n",
       "    <tr style=\"text-align: right;\">\n",
       "      <th></th>\n",
       "      <th>timestamp</th>\n",
       "      <th>wind_speed</th>\n",
       "      <th>wind_direction_67.5m</th>\n",
       "      <th>wind_direction_70m</th>\n",
       "      <th>wind_direction</th>\n",
       "    </tr>\n",
       "  </thead>\n",
       "  <tbody>\n",
       "    <tr>\n",
       "      <th>0</th>\n",
       "      <td>197709131435</td>\n",
       "      <td>9.76</td>\n",
       "      <td>317.0</td>\n",
       "      <td>NaN</td>\n",
       "      <td>317.0</td>\n",
       "    </tr>\n",
       "    <tr>\n",
       "      <th>1</th>\n",
       "      <td>197709131445</td>\n",
       "      <td>10.58</td>\n",
       "      <td>309.0</td>\n",
       "      <td>NaN</td>\n",
       "      <td>309.0</td>\n",
       "    </tr>\n",
       "    <tr>\n",
       "      <th>2</th>\n",
       "      <td>197709131455</td>\n",
       "      <td>10.19</td>\n",
       "      <td>329.0</td>\n",
       "      <td>NaN</td>\n",
       "      <td>329.0</td>\n",
       "    </tr>\n",
       "    <tr>\n",
       "      <th>3</th>\n",
       "      <td>197709131505</td>\n",
       "      <td>8.71</td>\n",
       "      <td>323.0</td>\n",
       "      <td>NaN</td>\n",
       "      <td>323.0</td>\n",
       "    </tr>\n",
       "    <tr>\n",
       "      <th>4</th>\n",
       "      <td>197709131515</td>\n",
       "      <td>8.85</td>\n",
       "      <td>309.0</td>\n",
       "      <td>NaN</td>\n",
       "      <td>309.0</td>\n",
       "    </tr>\n",
       "    <tr>\n",
       "      <th>...</th>\n",
       "      <td>...</td>\n",
       "      <td>...</td>\n",
       "      <td>...</td>\n",
       "      <td>...</td>\n",
       "      <td>...</td>\n",
       "    </tr>\n",
       "    <tr>\n",
       "      <th>1156272</th>\n",
       "      <td>199909080635</td>\n",
       "      <td>4.20</td>\n",
       "      <td>NaN</td>\n",
       "      <td>222.0</td>\n",
       "      <td>222.0</td>\n",
       "    </tr>\n",
       "    <tr>\n",
       "      <th>1156273</th>\n",
       "      <td>199909080645</td>\n",
       "      <td>4.77</td>\n",
       "      <td>NaN</td>\n",
       "      <td>226.0</td>\n",
       "      <td>226.0</td>\n",
       "    </tr>\n",
       "    <tr>\n",
       "      <th>1156274</th>\n",
       "      <td>199909080655</td>\n",
       "      <td>5.37</td>\n",
       "      <td>NaN</td>\n",
       "      <td>233.0</td>\n",
       "      <td>233.0</td>\n",
       "    </tr>\n",
       "    <tr>\n",
       "      <th>1156275</th>\n",
       "      <td>199909080705</td>\n",
       "      <td>5.07</td>\n",
       "      <td>NaN</td>\n",
       "      <td>230.0</td>\n",
       "      <td>230.0</td>\n",
       "    </tr>\n",
       "    <tr>\n",
       "      <th>1156276</th>\n",
       "      <td>199909080715</td>\n",
       "      <td>4.73</td>\n",
       "      <td>NaN</td>\n",
       "      <td>235.0</td>\n",
       "      <td>235.0</td>\n",
       "    </tr>\n",
       "  </tbody>\n",
       "</table>\n",
       "<p>1156277 rows × 5 columns</p>\n",
       "</div>"
      ]
     },
     "execution_count": 93,
     "metadata": {},
     "output_type": "execute_result"
    }
   ],
   "execution_count": 93
  },
  {
   "metadata": {},
   "cell_type": "markdown",
   "source": "We create the directional bins",
   "id": "f317780dfa5109da"
  },
  {
   "metadata": {
    "ExecuteTime": {
     "end_time": "2024-09-22T13:23:44.444757Z",
     "start_time": "2024-09-22T13:23:44.416775Z"
    }
   },
   "cell_type": "code",
   "source": [
    "bins = np.array([0, 30, 60, 90, 120, 150, 180, 210, 240, 270, 300, 330, 360])\n",
    "labels = np.arange(0, 360, 30)\n",
    "\n",
    "# Assign each wind direction to a sector, including wrapping around at 360\n",
    "sprog['sector'] = pd.cut(sprog['wind_direction'], bins=bins, labels=labels, right=False)\n",
    "\n",
    "# Handle the values from 345 to 360 (assign to sector 0)\n",
    "sprog.loc[(sprog['wind_direction'] >= 345) | (sprog['wind_direction'] < 15), 'sector'] = 0"
   ],
   "id": "45006e064053746c",
   "outputs": [],
   "execution_count": 101
  },
  {
   "metadata": {
    "ExecuteTime": {
     "end_time": "2024-09-22T13:23:58.300158Z",
     "start_time": "2024-09-22T13:23:58.291579Z"
    }
   },
   "cell_type": "code",
   "source": "sprog",
   "id": "a23952b2bde2eafe",
   "outputs": [
    {
     "data": {
      "text/plain": [
       "            timestamp  wind_speed  wind_direction_67.5m  wind_direction_70m  \\\n",
       "0        197709131435        9.76                 317.0                 NaN   \n",
       "1        197709131445       10.58                 309.0                 NaN   \n",
       "2        197709131455       10.19                 329.0                 NaN   \n",
       "3        197709131505        8.71                 323.0                 NaN   \n",
       "4        197709131515        8.85                 309.0                 NaN   \n",
       "...               ...         ...                   ...                 ...   \n",
       "1156272  199909080635        4.20                   NaN               222.0   \n",
       "1156273  199909080645        4.77                   NaN               226.0   \n",
       "1156274  199909080655        5.37                   NaN               233.0   \n",
       "1156275  199909080705        5.07                   NaN               230.0   \n",
       "1156276  199909080715        4.73                   NaN               235.0   \n",
       "\n",
       "         wind_direction sector  \n",
       "0                 317.0    300  \n",
       "1                 309.0    300  \n",
       "2                 329.0    300  \n",
       "3                 323.0    300  \n",
       "4                 309.0    300  \n",
       "...                 ...    ...  \n",
       "1156272           222.0    210  \n",
       "1156273           226.0    210  \n",
       "1156274           233.0    210  \n",
       "1156275           230.0    210  \n",
       "1156276           235.0    210  \n",
       "\n",
       "[1156277 rows x 6 columns]"
      ],
      "text/html": [
       "<div>\n",
       "<style scoped>\n",
       "    .dataframe tbody tr th:only-of-type {\n",
       "        vertical-align: middle;\n",
       "    }\n",
       "\n",
       "    .dataframe tbody tr th {\n",
       "        vertical-align: top;\n",
       "    }\n",
       "\n",
       "    .dataframe thead th {\n",
       "        text-align: right;\n",
       "    }\n",
       "</style>\n",
       "<table border=\"1\" class=\"dataframe\">\n",
       "  <thead>\n",
       "    <tr style=\"text-align: right;\">\n",
       "      <th></th>\n",
       "      <th>timestamp</th>\n",
       "      <th>wind_speed</th>\n",
       "      <th>wind_direction_67.5m</th>\n",
       "      <th>wind_direction_70m</th>\n",
       "      <th>wind_direction</th>\n",
       "      <th>sector</th>\n",
       "    </tr>\n",
       "  </thead>\n",
       "  <tbody>\n",
       "    <tr>\n",
       "      <th>0</th>\n",
       "      <td>197709131435</td>\n",
       "      <td>9.76</td>\n",
       "      <td>317.0</td>\n",
       "      <td>NaN</td>\n",
       "      <td>317.0</td>\n",
       "      <td>300</td>\n",
       "    </tr>\n",
       "    <tr>\n",
       "      <th>1</th>\n",
       "      <td>197709131445</td>\n",
       "      <td>10.58</td>\n",
       "      <td>309.0</td>\n",
       "      <td>NaN</td>\n",
       "      <td>309.0</td>\n",
       "      <td>300</td>\n",
       "    </tr>\n",
       "    <tr>\n",
       "      <th>2</th>\n",
       "      <td>197709131455</td>\n",
       "      <td>10.19</td>\n",
       "      <td>329.0</td>\n",
       "      <td>NaN</td>\n",
       "      <td>329.0</td>\n",
       "      <td>300</td>\n",
       "    </tr>\n",
       "    <tr>\n",
       "      <th>3</th>\n",
       "      <td>197709131505</td>\n",
       "      <td>8.71</td>\n",
       "      <td>323.0</td>\n",
       "      <td>NaN</td>\n",
       "      <td>323.0</td>\n",
       "      <td>300</td>\n",
       "    </tr>\n",
       "    <tr>\n",
       "      <th>4</th>\n",
       "      <td>197709131515</td>\n",
       "      <td>8.85</td>\n",
       "      <td>309.0</td>\n",
       "      <td>NaN</td>\n",
       "      <td>309.0</td>\n",
       "      <td>300</td>\n",
       "    </tr>\n",
       "    <tr>\n",
       "      <th>...</th>\n",
       "      <td>...</td>\n",
       "      <td>...</td>\n",
       "      <td>...</td>\n",
       "      <td>...</td>\n",
       "      <td>...</td>\n",
       "      <td>...</td>\n",
       "    </tr>\n",
       "    <tr>\n",
       "      <th>1156272</th>\n",
       "      <td>199909080635</td>\n",
       "      <td>4.20</td>\n",
       "      <td>NaN</td>\n",
       "      <td>222.0</td>\n",
       "      <td>222.0</td>\n",
       "      <td>210</td>\n",
       "    </tr>\n",
       "    <tr>\n",
       "      <th>1156273</th>\n",
       "      <td>199909080645</td>\n",
       "      <td>4.77</td>\n",
       "      <td>NaN</td>\n",
       "      <td>226.0</td>\n",
       "      <td>226.0</td>\n",
       "      <td>210</td>\n",
       "    </tr>\n",
       "    <tr>\n",
       "      <th>1156274</th>\n",
       "      <td>199909080655</td>\n",
       "      <td>5.37</td>\n",
       "      <td>NaN</td>\n",
       "      <td>233.0</td>\n",
       "      <td>233.0</td>\n",
       "      <td>210</td>\n",
       "    </tr>\n",
       "    <tr>\n",
       "      <th>1156275</th>\n",
       "      <td>199909080705</td>\n",
       "      <td>5.07</td>\n",
       "      <td>NaN</td>\n",
       "      <td>230.0</td>\n",
       "      <td>230.0</td>\n",
       "      <td>210</td>\n",
       "    </tr>\n",
       "    <tr>\n",
       "      <th>1156276</th>\n",
       "      <td>199909080715</td>\n",
       "      <td>4.73</td>\n",
       "      <td>NaN</td>\n",
       "      <td>235.0</td>\n",
       "      <td>235.0</td>\n",
       "      <td>210</td>\n",
       "    </tr>\n",
       "  </tbody>\n",
       "</table>\n",
       "<p>1156277 rows × 6 columns</p>\n",
       "</div>"
      ]
     },
     "execution_count": 102,
     "metadata": {},
     "output_type": "execute_result"
    }
   ],
   "execution_count": 102
  },
  {
   "metadata": {},
   "cell_type": "markdown",
   "source": "Calculate A and k for each sector",
   "id": "e584283e511f4013"
  },
  {
   "metadata": {
    "ExecuteTime": {
     "end_time": "2024-09-22T13:30:59.582418Z",
     "start_time": "2024-09-22T13:30:59.498980Z"
    }
   },
   "cell_type": "code",
   "source": [
    "results = []\n",
    "\n",
    "def equations(params, mean, variance):\n",
    "    A, k = params\n",
    "    eq1 = A * gamma(1 + 1/k) - mean\n",
    "    eq2 = A**2 * (gamma(1 + 2/k) - (gamma(1 + 1/k))**2) - variance\n",
    "    return (eq1, eq2)\n",
    "\n",
    "# Calculate A and k for each sector\n",
    "for sector in labels:\n",
    "    sector_data = sprog[sprog['sector'] == sector]['wind_speed']\n",
    "    \n",
    "    if len(sector_data) > 0:\n",
    "        # Calculate the first moment (mean) and second moment (variance)\n",
    "        sprog_ws_mean = sector_data.mean()\n",
    "        sprog_variance = sector_data.var(ddof=1)  # sample variance\n",
    "        \n",
    "        # Initial guesses for A and k\n",
    "        initial_guess = [sprog_ws_mean, 1.5]\n",
    "        \n",
    "        # Solve the equations\n",
    "        A_optimal, k_optimal = fsolve(equations, initial_guess, args=(sprog_ws_mean, sprog_variance))\n",
    "        \n",
    "        # Store results\n",
    "        results.append({'sector': sector, 'A': A_optimal, 'k': k_optimal})\n",
    "\n",
    "# Create a results DataFrame\n",
    "results_df = pd.DataFrame(results)\n",
    "\n",
    "print(results_df)"
   ],
   "id": "ca91b3b3cd4ad634",
   "outputs": [
    {
     "name": "stdout",
     "output_type": "stream",
     "text": [
      "    sector          A         k\n",
      "0        0   7.750969  1.900057\n",
      "1       30   7.525115  1.894834\n",
      "2       60   7.761153  2.046636\n",
      "3       90   9.236267  2.311559\n",
      "4      120   9.603213  2.316891\n",
      "5      150   8.461672  2.064537\n",
      "6      180   9.407033  2.157974\n",
      "7      210   9.931700  2.468474\n",
      "8      240   9.951515  2.553114\n",
      "9      270  10.194087  2.563006\n",
      "10     300   9.630792  2.200351\n",
      "11     330   7.896237  1.895504\n"
     ]
    }
   ],
   "execution_count": 104
  },
  {
   "metadata": {},
   "cell_type": "code",
   "outputs": [],
   "execution_count": null,
   "source": "",
   "id": "a13de08a2303cdc2"
  },
  {
   "metadata": {},
   "cell_type": "markdown",
   "source": "### 9)",
   "id": "b6dffd97c84009ec"
  },
  {
   "metadata": {},
   "cell_type": "markdown",
   "source": [
    "What are the seasonal and daily trends in the Sprogø data? Answer this by calculating\n",
    "appropriate statistics, and produce meaningful plots."
   ],
   "id": "1436a78fbe5f7b31"
  },
  {
   "metadata": {
    "ExecuteTime": {
     "end_time": "2024-09-22T16:13:46.833185Z",
     "start_time": "2024-09-22T16:13:46.827042Z"
    }
   },
   "cell_type": "code",
   "source": "sprog",
   "id": "e37db55747c13531",
   "outputs": [
    {
     "data": {
      "text/plain": [
       "            timestamp  wind_speed  wind_direction_67.5m  wind_direction_70m  \\\n",
       "0        197709131435        9.76                 317.0                 NaN   \n",
       "1        197709131445       10.58                 309.0                 NaN   \n",
       "2        197709131455       10.19                 329.0                 NaN   \n",
       "3        197709131505        8.71                 323.0                 NaN   \n",
       "4        197709131515        8.85                 309.0                 NaN   \n",
       "...               ...         ...                   ...                 ...   \n",
       "1156272  199909080635        4.20                   NaN               222.0   \n",
       "1156273  199909080645        4.77                   NaN               226.0   \n",
       "1156274  199909080655        5.37                   NaN               233.0   \n",
       "1156275  199909080705        5.07                   NaN               230.0   \n",
       "1156276  199909080715        4.73                   NaN               235.0   \n",
       "\n",
       "         wind_direction sector  \n",
       "0                 317.0    300  \n",
       "1                 309.0    300  \n",
       "2                 329.0    300  \n",
       "3                 323.0    300  \n",
       "4                 309.0    300  \n",
       "...                 ...    ...  \n",
       "1156272           222.0    210  \n",
       "1156273           226.0    210  \n",
       "1156274           233.0    210  \n",
       "1156275           230.0    210  \n",
       "1156276           235.0    210  \n",
       "\n",
       "[1156277 rows x 6 columns]"
      ],
      "text/html": [
       "<div>\n",
       "<style scoped>\n",
       "    .dataframe tbody tr th:only-of-type {\n",
       "        vertical-align: middle;\n",
       "    }\n",
       "\n",
       "    .dataframe tbody tr th {\n",
       "        vertical-align: top;\n",
       "    }\n",
       "\n",
       "    .dataframe thead th {\n",
       "        text-align: right;\n",
       "    }\n",
       "</style>\n",
       "<table border=\"1\" class=\"dataframe\">\n",
       "  <thead>\n",
       "    <tr style=\"text-align: right;\">\n",
       "      <th></th>\n",
       "      <th>timestamp</th>\n",
       "      <th>wind_speed</th>\n",
       "      <th>wind_direction_67.5m</th>\n",
       "      <th>wind_direction_70m</th>\n",
       "      <th>wind_direction</th>\n",
       "      <th>sector</th>\n",
       "    </tr>\n",
       "  </thead>\n",
       "  <tbody>\n",
       "    <tr>\n",
       "      <th>0</th>\n",
       "      <td>197709131435</td>\n",
       "      <td>9.76</td>\n",
       "      <td>317.0</td>\n",
       "      <td>NaN</td>\n",
       "      <td>317.0</td>\n",
       "      <td>300</td>\n",
       "    </tr>\n",
       "    <tr>\n",
       "      <th>1</th>\n",
       "      <td>197709131445</td>\n",
       "      <td>10.58</td>\n",
       "      <td>309.0</td>\n",
       "      <td>NaN</td>\n",
       "      <td>309.0</td>\n",
       "      <td>300</td>\n",
       "    </tr>\n",
       "    <tr>\n",
       "      <th>2</th>\n",
       "      <td>197709131455</td>\n",
       "      <td>10.19</td>\n",
       "      <td>329.0</td>\n",
       "      <td>NaN</td>\n",
       "      <td>329.0</td>\n",
       "      <td>300</td>\n",
       "    </tr>\n",
       "    <tr>\n",
       "      <th>3</th>\n",
       "      <td>197709131505</td>\n",
       "      <td>8.71</td>\n",
       "      <td>323.0</td>\n",
       "      <td>NaN</td>\n",
       "      <td>323.0</td>\n",
       "      <td>300</td>\n",
       "    </tr>\n",
       "    <tr>\n",
       "      <th>4</th>\n",
       "      <td>197709131515</td>\n",
       "      <td>8.85</td>\n",
       "      <td>309.0</td>\n",
       "      <td>NaN</td>\n",
       "      <td>309.0</td>\n",
       "      <td>300</td>\n",
       "    </tr>\n",
       "    <tr>\n",
       "      <th>...</th>\n",
       "      <td>...</td>\n",
       "      <td>...</td>\n",
       "      <td>...</td>\n",
       "      <td>...</td>\n",
       "      <td>...</td>\n",
       "      <td>...</td>\n",
       "    </tr>\n",
       "    <tr>\n",
       "      <th>1156272</th>\n",
       "      <td>199909080635</td>\n",
       "      <td>4.20</td>\n",
       "      <td>NaN</td>\n",
       "      <td>222.0</td>\n",
       "      <td>222.0</td>\n",
       "      <td>210</td>\n",
       "    </tr>\n",
       "    <tr>\n",
       "      <th>1156273</th>\n",
       "      <td>199909080645</td>\n",
       "      <td>4.77</td>\n",
       "      <td>NaN</td>\n",
       "      <td>226.0</td>\n",
       "      <td>226.0</td>\n",
       "      <td>210</td>\n",
       "    </tr>\n",
       "    <tr>\n",
       "      <th>1156274</th>\n",
       "      <td>199909080655</td>\n",
       "      <td>5.37</td>\n",
       "      <td>NaN</td>\n",
       "      <td>233.0</td>\n",
       "      <td>233.0</td>\n",
       "      <td>210</td>\n",
       "    </tr>\n",
       "    <tr>\n",
       "      <th>1156275</th>\n",
       "      <td>199909080705</td>\n",
       "      <td>5.07</td>\n",
       "      <td>NaN</td>\n",
       "      <td>230.0</td>\n",
       "      <td>230.0</td>\n",
       "      <td>210</td>\n",
       "    </tr>\n",
       "    <tr>\n",
       "      <th>1156276</th>\n",
       "      <td>199909080715</td>\n",
       "      <td>4.73</td>\n",
       "      <td>NaN</td>\n",
       "      <td>235.0</td>\n",
       "      <td>235.0</td>\n",
       "      <td>210</td>\n",
       "    </tr>\n",
       "  </tbody>\n",
       "</table>\n",
       "<p>1156277 rows × 6 columns</p>\n",
       "</div>"
      ]
     },
     "execution_count": 105,
     "metadata": {},
     "output_type": "execute_result"
    }
   ],
   "execution_count": 105
  },
  {
   "metadata": {},
   "cell_type": "markdown",
   "source": "#### Seasonal trends",
   "id": "17441c0cac0339a2"
  },
  {
   "metadata": {},
   "cell_type": "markdown",
   "source": "The rows are classified depending on The season",
   "id": "d734cf0452c77f54"
  },
  {
   "metadata": {
    "ExecuteTime": {
     "end_time": "2024-09-22T17:08:09.977755Z",
     "start_time": "2024-09-22T17:08:08.143974Z"
    }
   },
   "cell_type": "code",
   "source": [
    "sprog['timestamp'] = pd.to_datetime(sprog['timestamp'], format='%Y%m%d%H%M')\n",
    "\n",
    "# Extract necessary time features from 'timestamp'\n",
    "sprog['year'] = sprog['timestamp'].dt.year\n",
    "sprog['month'] = sprog['timestamp'].dt.month\n",
    "sprog['day'] = sprog['timestamp'].dt.day\n",
    "sprog['hour'] = sprog['timestamp'].dt.hour\n",
    "sprog['day_of_year'] = sprog['timestamp'].dt.dayofyear\n",
    "\n",
    "# Define seasons based on the month\n",
    "def get_season(month):\n",
    "    if month in [12, 1, 2]:\n",
    "        return 'Winter'\n",
    "    elif month in [3, 4, 5]:\n",
    "        return 'Spring'\n",
    "    elif month in [6, 7, 8]:\n",
    "        return 'Summer'\n",
    "    elif month in [9, 10, 11]:\n",
    "        return 'Fall'\n",
    "\n",
    "sprog['season'] = sprog['month'].apply(get_season)"
   ],
   "id": "bcf4469c1ef81fee",
   "outputs": [],
   "execution_count": 106
  },
  {
   "metadata": {
    "ExecuteTime": {
     "end_time": "2024-09-22T17:08:17.255139Z",
     "start_time": "2024-09-22T17:08:17.247873Z"
    }
   },
   "cell_type": "code",
   "source": "sprog",
   "id": "593992f040a187e6",
   "outputs": [
    {
     "data": {
      "text/plain": [
       "                  timestamp  wind_speed  wind_direction_67.5m  \\\n",
       "0       1977-09-13 14:35:00        9.76                 317.0   \n",
       "1       1977-09-13 14:45:00       10.58                 309.0   \n",
       "2       1977-09-13 14:55:00       10.19                 329.0   \n",
       "3       1977-09-13 15:05:00        8.71                 323.0   \n",
       "4       1977-09-13 15:15:00        8.85                 309.0   \n",
       "...                     ...         ...                   ...   \n",
       "1156272 1999-09-08 06:35:00        4.20                   NaN   \n",
       "1156273 1999-09-08 06:45:00        4.77                   NaN   \n",
       "1156274 1999-09-08 06:55:00        5.37                   NaN   \n",
       "1156275 1999-09-08 07:05:00        5.07                   NaN   \n",
       "1156276 1999-09-08 07:15:00        4.73                   NaN   \n",
       "\n",
       "         wind_direction_70m  wind_direction sector  year  month  day  hour  \\\n",
       "0                       NaN           317.0    300  1977      9   13    14   \n",
       "1                       NaN           309.0    300  1977      9   13    14   \n",
       "2                       NaN           329.0    300  1977      9   13    14   \n",
       "3                       NaN           323.0    300  1977      9   13    15   \n",
       "4                       NaN           309.0    300  1977      9   13    15   \n",
       "...                     ...             ...    ...   ...    ...  ...   ...   \n",
       "1156272               222.0           222.0    210  1999      9    8     6   \n",
       "1156273               226.0           226.0    210  1999      9    8     6   \n",
       "1156274               233.0           233.0    210  1999      9    8     6   \n",
       "1156275               230.0           230.0    210  1999      9    8     7   \n",
       "1156276               235.0           235.0    210  1999      9    8     7   \n",
       "\n",
       "         day_of_year season  \n",
       "0                256   Fall  \n",
       "1                256   Fall  \n",
       "2                256   Fall  \n",
       "3                256   Fall  \n",
       "4                256   Fall  \n",
       "...              ...    ...  \n",
       "1156272          251   Fall  \n",
       "1156273          251   Fall  \n",
       "1156274          251   Fall  \n",
       "1156275          251   Fall  \n",
       "1156276          251   Fall  \n",
       "\n",
       "[1156277 rows x 12 columns]"
      ],
      "text/html": [
       "<div>\n",
       "<style scoped>\n",
       "    .dataframe tbody tr th:only-of-type {\n",
       "        vertical-align: middle;\n",
       "    }\n",
       "\n",
       "    .dataframe tbody tr th {\n",
       "        vertical-align: top;\n",
       "    }\n",
       "\n",
       "    .dataframe thead th {\n",
       "        text-align: right;\n",
       "    }\n",
       "</style>\n",
       "<table border=\"1\" class=\"dataframe\">\n",
       "  <thead>\n",
       "    <tr style=\"text-align: right;\">\n",
       "      <th></th>\n",
       "      <th>timestamp</th>\n",
       "      <th>wind_speed</th>\n",
       "      <th>wind_direction_67.5m</th>\n",
       "      <th>wind_direction_70m</th>\n",
       "      <th>wind_direction</th>\n",
       "      <th>sector</th>\n",
       "      <th>year</th>\n",
       "      <th>month</th>\n",
       "      <th>day</th>\n",
       "      <th>hour</th>\n",
       "      <th>day_of_year</th>\n",
       "      <th>season</th>\n",
       "    </tr>\n",
       "  </thead>\n",
       "  <tbody>\n",
       "    <tr>\n",
       "      <th>0</th>\n",
       "      <td>1977-09-13 14:35:00</td>\n",
       "      <td>9.76</td>\n",
       "      <td>317.0</td>\n",
       "      <td>NaN</td>\n",
       "      <td>317.0</td>\n",
       "      <td>300</td>\n",
       "      <td>1977</td>\n",
       "      <td>9</td>\n",
       "      <td>13</td>\n",
       "      <td>14</td>\n",
       "      <td>256</td>\n",
       "      <td>Fall</td>\n",
       "    </tr>\n",
       "    <tr>\n",
       "      <th>1</th>\n",
       "      <td>1977-09-13 14:45:00</td>\n",
       "      <td>10.58</td>\n",
       "      <td>309.0</td>\n",
       "      <td>NaN</td>\n",
       "      <td>309.0</td>\n",
       "      <td>300</td>\n",
       "      <td>1977</td>\n",
       "      <td>9</td>\n",
       "      <td>13</td>\n",
       "      <td>14</td>\n",
       "      <td>256</td>\n",
       "      <td>Fall</td>\n",
       "    </tr>\n",
       "    <tr>\n",
       "      <th>2</th>\n",
       "      <td>1977-09-13 14:55:00</td>\n",
       "      <td>10.19</td>\n",
       "      <td>329.0</td>\n",
       "      <td>NaN</td>\n",
       "      <td>329.0</td>\n",
       "      <td>300</td>\n",
       "      <td>1977</td>\n",
       "      <td>9</td>\n",
       "      <td>13</td>\n",
       "      <td>14</td>\n",
       "      <td>256</td>\n",
       "      <td>Fall</td>\n",
       "    </tr>\n",
       "    <tr>\n",
       "      <th>3</th>\n",
       "      <td>1977-09-13 15:05:00</td>\n",
       "      <td>8.71</td>\n",
       "      <td>323.0</td>\n",
       "      <td>NaN</td>\n",
       "      <td>323.0</td>\n",
       "      <td>300</td>\n",
       "      <td>1977</td>\n",
       "      <td>9</td>\n",
       "      <td>13</td>\n",
       "      <td>15</td>\n",
       "      <td>256</td>\n",
       "      <td>Fall</td>\n",
       "    </tr>\n",
       "    <tr>\n",
       "      <th>4</th>\n",
       "      <td>1977-09-13 15:15:00</td>\n",
       "      <td>8.85</td>\n",
       "      <td>309.0</td>\n",
       "      <td>NaN</td>\n",
       "      <td>309.0</td>\n",
       "      <td>300</td>\n",
       "      <td>1977</td>\n",
       "      <td>9</td>\n",
       "      <td>13</td>\n",
       "      <td>15</td>\n",
       "      <td>256</td>\n",
       "      <td>Fall</td>\n",
       "    </tr>\n",
       "    <tr>\n",
       "      <th>...</th>\n",
       "      <td>...</td>\n",
       "      <td>...</td>\n",
       "      <td>...</td>\n",
       "      <td>...</td>\n",
       "      <td>...</td>\n",
       "      <td>...</td>\n",
       "      <td>...</td>\n",
       "      <td>...</td>\n",
       "      <td>...</td>\n",
       "      <td>...</td>\n",
       "      <td>...</td>\n",
       "      <td>...</td>\n",
       "    </tr>\n",
       "    <tr>\n",
       "      <th>1156272</th>\n",
       "      <td>1999-09-08 06:35:00</td>\n",
       "      <td>4.20</td>\n",
       "      <td>NaN</td>\n",
       "      <td>222.0</td>\n",
       "      <td>222.0</td>\n",
       "      <td>210</td>\n",
       "      <td>1999</td>\n",
       "      <td>9</td>\n",
       "      <td>8</td>\n",
       "      <td>6</td>\n",
       "      <td>251</td>\n",
       "      <td>Fall</td>\n",
       "    </tr>\n",
       "    <tr>\n",
       "      <th>1156273</th>\n",
       "      <td>1999-09-08 06:45:00</td>\n",
       "      <td>4.77</td>\n",
       "      <td>NaN</td>\n",
       "      <td>226.0</td>\n",
       "      <td>226.0</td>\n",
       "      <td>210</td>\n",
       "      <td>1999</td>\n",
       "      <td>9</td>\n",
       "      <td>8</td>\n",
       "      <td>6</td>\n",
       "      <td>251</td>\n",
       "      <td>Fall</td>\n",
       "    </tr>\n",
       "    <tr>\n",
       "      <th>1156274</th>\n",
       "      <td>1999-09-08 06:55:00</td>\n",
       "      <td>5.37</td>\n",
       "      <td>NaN</td>\n",
       "      <td>233.0</td>\n",
       "      <td>233.0</td>\n",
       "      <td>210</td>\n",
       "      <td>1999</td>\n",
       "      <td>9</td>\n",
       "      <td>8</td>\n",
       "      <td>6</td>\n",
       "      <td>251</td>\n",
       "      <td>Fall</td>\n",
       "    </tr>\n",
       "    <tr>\n",
       "      <th>1156275</th>\n",
       "      <td>1999-09-08 07:05:00</td>\n",
       "      <td>5.07</td>\n",
       "      <td>NaN</td>\n",
       "      <td>230.0</td>\n",
       "      <td>230.0</td>\n",
       "      <td>210</td>\n",
       "      <td>1999</td>\n",
       "      <td>9</td>\n",
       "      <td>8</td>\n",
       "      <td>7</td>\n",
       "      <td>251</td>\n",
       "      <td>Fall</td>\n",
       "    </tr>\n",
       "    <tr>\n",
       "      <th>1156276</th>\n",
       "      <td>1999-09-08 07:15:00</td>\n",
       "      <td>4.73</td>\n",
       "      <td>NaN</td>\n",
       "      <td>235.0</td>\n",
       "      <td>235.0</td>\n",
       "      <td>210</td>\n",
       "      <td>1999</td>\n",
       "      <td>9</td>\n",
       "      <td>8</td>\n",
       "      <td>7</td>\n",
       "      <td>251</td>\n",
       "      <td>Fall</td>\n",
       "    </tr>\n",
       "  </tbody>\n",
       "</table>\n",
       "<p>1156277 rows × 12 columns</p>\n",
       "</div>"
      ]
     },
     "execution_count": 107,
     "metadata": {},
     "output_type": "execute_result"
    }
   ],
   "execution_count": 107
  },
  {
   "metadata": {},
   "cell_type": "markdown",
   "source": "#### Daily Trends",
   "id": "a1a63531d8f3e188"
  },
  {
   "metadata": {},
   "cell_type": "markdown",
   "source": "We calculate the mean wind speed and wind direction by hour of the day",
   "id": "aac900c1fe3e649b"
  },
  {
   "metadata": {},
   "cell_type": "code",
   "outputs": [],
   "execution_count": null,
   "source": [
    "daily_trends = sprog.groupby('hour').agg(\n",
    "    mean_wind_speed=('wind_speed', 'mean'),\n",
    "    mean_wind_direction=('wind_direction', 'mean')\n",
    ").reset_index()"
   ],
   "id": "b16161e023b3ac5c"
  },
  {
   "metadata": {},
   "cell_type": "code",
   "outputs": [],
   "execution_count": null,
   "source": [
    "import pandas as pd\n",
    "import numpy as np\n",
    "import matplotlib.pyplot as plt\n",
    "import seaborn as sns\n",
    "\n",
    "# Assuming your dataframe is called 'sprog'\n",
    "# Convert 'timestamp' from string format to datetime\n",
    "sprog['timestamp'] = pd.to_datetime(sprog['timestamp'], format='%Y%m%d%H%M')\n",
    "\n",
    "# Extract necessary time features from 'timestamp'\n",
    "sprog['year'] = sprog['timestamp'].dt.year\n",
    "sprog['month'] = sprog['timestamp'].dt.month\n",
    "sprog['day'] = sprog['timestamp'].dt.day\n",
    "sprog['hour'] = sprog['timestamp'].dt.hour\n",
    "sprog['day_of_year'] = sprog['timestamp'].dt.dayofyear\n",
    "\n",
    "# Define seasons based on the month\n",
    "def get_season(month):\n",
    "    if month in [12, 1, 2]:\n",
    "        return 'Winter'\n",
    "    elif month in [3, 4, 5]:\n",
    "        return 'Spring'\n",
    "    elif month in [6, 7, 8]:\n",
    "        return 'Summer'\n",
    "    elif month in [9, 10, 11]:\n",
    "        return 'Fall'\n",
    "\n",
    "sprog['season'] = sprog['month'].apply(get_season)\n",
    "\n",
    "# 1. Daily trends: calculate mean wind speed and wind direction by hour of the day\n",
    "daily_trends = sprog.groupby('hour').agg(\n",
    "    mean_wind_speed=('wind_speed', 'mean'),\n",
    "    mean_wind_direction=('wind_direction', 'mean')\n",
    ").reset_index()\n",
    "\n",
    "# Plot daily wind speed trend\n",
    "plt.figure(figsize=(10, 6))\n",
    "sns.lineplot(x='hour', y='mean_wind_speed', data=daily_trends, marker='o')\n",
    "plt.title('Daily Trend of Wind Speed')\n",
    "plt.xlabel('Hour of the Day')\n",
    "plt.ylabel('Mean Wind Speed')\n",
    "plt.grid(True)\n",
    "plt.show()\n",
    "\n",
    "# Plot daily wind direction trend\n",
    "plt.figure(figsize=(10, 6))\n",
    "sns.lineplot(x='hour', y='mean_wind_direction', data=daily_trends, marker='o')\n",
    "plt.title('Daily Trend of Wind Direction')\n",
    "plt.xlabel('Hour of the Day')\n",
    "plt.ylabel('Mean Wind Direction (degrees)')\n",
    "plt.grid(True)\n",
    "plt.show()\n",
    "\n",
    "# 2. Seasonal trends: calculate mean wind speed and wind direction by season\n",
    "seasonal_trends = sprog.groupby('season').agg(\n",
    "    mean_wind_speed=('wind_speed', 'mean'),\n",
    "    mean_wind_direction=('wind_direction', 'mean')\n",
    ").reset_index()\n",
    "\n",
    "# Plot seasonal wind speed trend\n",
    "plt.figure(figsize=(10, 6))\n",
    "sns.barplot(x='season', y='mean_wind_speed', data=seasonal_trends)\n",
    "plt.title('Seasonal Trend of Wind Speed')\n",
    "plt.xlabel('Season')\n",
    "plt.ylabel('Mean Wind Speed')\n",
    "plt.grid(True)\n",
    "plt.show()\n",
    "\n",
    "# Plot seasonal wind direction trend\n",
    "plt.figure(figsize=(10, 6))\n",
    "sns.barplot(x='season', y='mean_wind_direction', data=seasonal_trends)\n",
    "plt.title('Seasonal Trend of Wind Direction')\n",
    "plt.xlabel('Season')\n",
    "plt.ylabel('Mean Wind Direction (degrees)')\n",
    "plt.grid(True)\n",
    "plt.show()\n",
    "\n",
    "# 3. Calculate statistics: mean, median, variance, and standard deviation for wind speed and direction\n",
    "statistics = sprog.agg({\n",
    "    'wind_speed': ['mean', 'median', 'var', 'std'],\n",
    "    'wind_direction': ['mean', 'median', 'var', 'std']\n",
    "})\n",
    "\n",
    "print(\"Statistics for Wind Speed and Wind Direction:\")\n",
    "print(statistics)\n"
   ],
   "id": "8de21397dbe26bc0"
  }
 ],
 "metadata": {
  "kernelspec": {
   "display_name": "Python 3",
   "language": "python",
   "name": "python3"
  },
  "language_info": {
   "codemirror_mode": {
    "name": "ipython",
    "version": 2
   },
   "file_extension": ".py",
   "mimetype": "text/x-python",
   "name": "python",
   "nbconvert_exporter": "python",
   "pygments_lexer": "ipython2",
   "version": "2.7.6"
  }
 },
 "nbformat": 4,
 "nbformat_minor": 5
}
