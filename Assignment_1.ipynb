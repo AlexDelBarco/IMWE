{
 "cells": [
  {
   "cell_type": "markdown",
   "source": [
    "# ASSIGNMENT 1: MEAN WIND SPEED AND THE WEIBULL DISTRIBUTION"
   ],
   "metadata": {
    "collapsed": false
   },
   "id": "1638447e89c454d4"
  },
  {
   "cell_type": "markdown",
   "source": [
    "## Imports"
   ],
   "metadata": {
    "collapsed": false
   },
   "id": "e03a0e7638a835a8"
  },
  {
   "metadata": {
    "ExecuteTime": {
     "end_time": "2024-09-21T16:00:00.501980Z",
     "start_time": "2024-09-21T15:59:59.832487Z"
    }
   },
   "cell_type": "code",
   "source": [
    "import pandas as pd\n",
    "import numpy as np"
   ],
   "id": "12e86eb2920e7cca",
   "outputs": [],
   "execution_count": 2
  },
  {
   "metadata": {},
   "cell_type": "markdown",
   "source": "## Read Data",
   "id": "2f1f2ed41ab03cf"
  },
  {
   "metadata": {
    "ExecuteTime": {
     "end_time": "2024-09-21T16:00:00.505556Z",
     "start_time": "2024-09-21T16:00:00.503100Z"
    }
   },
   "cell_type": "code",
   "source": "headers = ['timestamp', 'wind_speed', 'wind_direction_67.5m', 'wind_direction_70m']",
   "id": "b85929867ec697e1",
   "outputs": [],
   "execution_count": 3
  },
  {
   "metadata": {
    "ExecuteTime": {
     "end_time": "2024-09-21T16:00:00.745026Z",
     "start_time": "2024-09-21T16:00:00.506249Z"
    }
   },
   "cell_type": "code",
   "source": "sprog = pd.read_csv(\"sprog.tsv\", sep='\\t', header=None, names=headers)",
   "id": "1751181b1b873f1b",
   "outputs": [],
   "execution_count": 4
  },
  {
   "metadata": {
    "ExecuteTime": {
     "end_time": "2024-09-21T16:00:00.757756Z",
     "start_time": "2024-09-21T16:00:00.746312Z"
    }
   },
   "cell_type": "code",
   "source": "sprog",
   "id": "d4107039061d07f6",
   "outputs": [
    {
     "data": {
      "text/plain": [
       "            timestamp  wind_speed  wind_direction_67.5m  wind_direction_70m\n",
       "0        197709131435        9.76                 317.0               999.0\n",
       "1        197709131445       10.58                 309.0               999.0\n",
       "2        197709131455       10.19                 329.0               999.0\n",
       "3        197709131505        8.71                 323.0               999.0\n",
       "4        197709131515        8.85                 309.0               999.0\n",
       "...               ...         ...                   ...                 ...\n",
       "1156272  199909080635        4.20                 999.0               222.0\n",
       "1156273  199909080645        4.77                 999.0               226.0\n",
       "1156274  199909080655        5.37                 999.0               233.0\n",
       "1156275  199909080705        5.07                 999.0               230.0\n",
       "1156276  199909080715        4.73                 999.0               235.0\n",
       "\n",
       "[1156277 rows x 4 columns]"
      ],
      "text/html": [
       "<div>\n",
       "<style scoped>\n",
       "    .dataframe tbody tr th:only-of-type {\n",
       "        vertical-align: middle;\n",
       "    }\n",
       "\n",
       "    .dataframe tbody tr th {\n",
       "        vertical-align: top;\n",
       "    }\n",
       "\n",
       "    .dataframe thead th {\n",
       "        text-align: right;\n",
       "    }\n",
       "</style>\n",
       "<table border=\"1\" class=\"dataframe\">\n",
       "  <thead>\n",
       "    <tr style=\"text-align: right;\">\n",
       "      <th></th>\n",
       "      <th>timestamp</th>\n",
       "      <th>wind_speed</th>\n",
       "      <th>wind_direction_67.5m</th>\n",
       "      <th>wind_direction_70m</th>\n",
       "    </tr>\n",
       "  </thead>\n",
       "  <tbody>\n",
       "    <tr>\n",
       "      <th>0</th>\n",
       "      <td>197709131435</td>\n",
       "      <td>9.76</td>\n",
       "      <td>317.0</td>\n",
       "      <td>999.0</td>\n",
       "    </tr>\n",
       "    <tr>\n",
       "      <th>1</th>\n",
       "      <td>197709131445</td>\n",
       "      <td>10.58</td>\n",
       "      <td>309.0</td>\n",
       "      <td>999.0</td>\n",
       "    </tr>\n",
       "    <tr>\n",
       "      <th>2</th>\n",
       "      <td>197709131455</td>\n",
       "      <td>10.19</td>\n",
       "      <td>329.0</td>\n",
       "      <td>999.0</td>\n",
       "    </tr>\n",
       "    <tr>\n",
       "      <th>3</th>\n",
       "      <td>197709131505</td>\n",
       "      <td>8.71</td>\n",
       "      <td>323.0</td>\n",
       "      <td>999.0</td>\n",
       "    </tr>\n",
       "    <tr>\n",
       "      <th>4</th>\n",
       "      <td>197709131515</td>\n",
       "      <td>8.85</td>\n",
       "      <td>309.0</td>\n",
       "      <td>999.0</td>\n",
       "    </tr>\n",
       "    <tr>\n",
       "      <th>...</th>\n",
       "      <td>...</td>\n",
       "      <td>...</td>\n",
       "      <td>...</td>\n",
       "      <td>...</td>\n",
       "    </tr>\n",
       "    <tr>\n",
       "      <th>1156272</th>\n",
       "      <td>199909080635</td>\n",
       "      <td>4.20</td>\n",
       "      <td>999.0</td>\n",
       "      <td>222.0</td>\n",
       "    </tr>\n",
       "    <tr>\n",
       "      <th>1156273</th>\n",
       "      <td>199909080645</td>\n",
       "      <td>4.77</td>\n",
       "      <td>999.0</td>\n",
       "      <td>226.0</td>\n",
       "    </tr>\n",
       "    <tr>\n",
       "      <th>1156274</th>\n",
       "      <td>199909080655</td>\n",
       "      <td>5.37</td>\n",
       "      <td>999.0</td>\n",
       "      <td>233.0</td>\n",
       "    </tr>\n",
       "    <tr>\n",
       "      <th>1156275</th>\n",
       "      <td>199909080705</td>\n",
       "      <td>5.07</td>\n",
       "      <td>999.0</td>\n",
       "      <td>230.0</td>\n",
       "    </tr>\n",
       "    <tr>\n",
       "      <th>1156276</th>\n",
       "      <td>199909080715</td>\n",
       "      <td>4.73</td>\n",
       "      <td>999.0</td>\n",
       "      <td>235.0</td>\n",
       "    </tr>\n",
       "  </tbody>\n",
       "</table>\n",
       "<p>1156277 rows × 4 columns</p>\n",
       "</div>"
      ]
     },
     "execution_count": 5,
     "metadata": {},
     "output_type": "execute_result"
    }
   ],
   "execution_count": 5
  },
  {
   "metadata": {
    "ExecuteTime": {
     "end_time": "2024-09-21T16:00:00.760452Z",
     "start_time": "2024-09-21T16:00:00.758512Z"
    }
   },
   "cell_type": "code",
   "source": "headers_2 = ['timestamp', 'wind_speed']",
   "id": "bd90b7000f2fc18e",
   "outputs": [],
   "execution_count": 6
  },
  {
   "metadata": {
    "ExecuteTime": {
     "end_time": "2024-09-21T16:00:00.822648Z",
     "start_time": "2024-09-21T16:00:00.761299Z"
    }
   },
   "cell_type": "code",
   "source": "hovsore_1 = pd.read_csv('hovsore_1.txt', header=None, names= headers_2)",
   "id": "5095b9dd76a9b27d",
   "outputs": [],
   "execution_count": 7
  },
  {
   "metadata": {
    "ExecuteTime": {
     "end_time": "2024-09-21T16:00:00.830075Z",
     "start_time": "2024-09-21T16:00:00.823628Z"
    }
   },
   "cell_type": "code",
   "source": "hovsore_1",
   "id": "98ba0e50d79eb3b5",
   "outputs": [
    {
     "data": {
      "text/plain": [
       "           timestamp  wind_speed\n",
       "0       201603012000        9.49\n",
       "1       201603012000       10.16\n",
       "2       201603012000        9.71\n",
       "3       201603012000       10.79\n",
       "4       201603012000       10.84\n",
       "...              ...         ...\n",
       "287995  201603012350       12.60\n",
       "287996  201603012350       13.54\n",
       "287997  201603012350       13.00\n",
       "287998  201603012350       12.90\n",
       "287999  201603012350       12.83\n",
       "\n",
       "[288000 rows x 2 columns]"
      ],
      "text/html": [
       "<div>\n",
       "<style scoped>\n",
       "    .dataframe tbody tr th:only-of-type {\n",
       "        vertical-align: middle;\n",
       "    }\n",
       "\n",
       "    .dataframe tbody tr th {\n",
       "        vertical-align: top;\n",
       "    }\n",
       "\n",
       "    .dataframe thead th {\n",
       "        text-align: right;\n",
       "    }\n",
       "</style>\n",
       "<table border=\"1\" class=\"dataframe\">\n",
       "  <thead>\n",
       "    <tr style=\"text-align: right;\">\n",
       "      <th></th>\n",
       "      <th>timestamp</th>\n",
       "      <th>wind_speed</th>\n",
       "    </tr>\n",
       "  </thead>\n",
       "  <tbody>\n",
       "    <tr>\n",
       "      <th>0</th>\n",
       "      <td>201603012000</td>\n",
       "      <td>9.49</td>\n",
       "    </tr>\n",
       "    <tr>\n",
       "      <th>1</th>\n",
       "      <td>201603012000</td>\n",
       "      <td>10.16</td>\n",
       "    </tr>\n",
       "    <tr>\n",
       "      <th>2</th>\n",
       "      <td>201603012000</td>\n",
       "      <td>9.71</td>\n",
       "    </tr>\n",
       "    <tr>\n",
       "      <th>3</th>\n",
       "      <td>201603012000</td>\n",
       "      <td>10.79</td>\n",
       "    </tr>\n",
       "    <tr>\n",
       "      <th>4</th>\n",
       "      <td>201603012000</td>\n",
       "      <td>10.84</td>\n",
       "    </tr>\n",
       "    <tr>\n",
       "      <th>...</th>\n",
       "      <td>...</td>\n",
       "      <td>...</td>\n",
       "    </tr>\n",
       "    <tr>\n",
       "      <th>287995</th>\n",
       "      <td>201603012350</td>\n",
       "      <td>12.60</td>\n",
       "    </tr>\n",
       "    <tr>\n",
       "      <th>287996</th>\n",
       "      <td>201603012350</td>\n",
       "      <td>13.54</td>\n",
       "    </tr>\n",
       "    <tr>\n",
       "      <th>287997</th>\n",
       "      <td>201603012350</td>\n",
       "      <td>13.00</td>\n",
       "    </tr>\n",
       "    <tr>\n",
       "      <th>287998</th>\n",
       "      <td>201603012350</td>\n",
       "      <td>12.90</td>\n",
       "    </tr>\n",
       "    <tr>\n",
       "      <th>287999</th>\n",
       "      <td>201603012350</td>\n",
       "      <td>12.83</td>\n",
       "    </tr>\n",
       "  </tbody>\n",
       "</table>\n",
       "<p>288000 rows × 2 columns</p>\n",
       "</div>"
      ]
     },
     "execution_count": 8,
     "metadata": {},
     "output_type": "execute_result"
    }
   ],
   "execution_count": 8
  },
  {
   "metadata": {},
   "cell_type": "markdown",
   "source": "## Data Cleaning",
   "id": "4e9342e86edc570a"
  },
  {
   "metadata": {},
   "cell_type": "markdown",
   "source": "Both datasets will be cleaned to remove all error measurements",
   "id": "625ade3faf5fe6ac"
  },
  {
   "metadata": {},
   "cell_type": "markdown",
   "source": "### Sprog",
   "id": "b218996f16d8e2c7"
  },
  {
   "metadata": {},
   "cell_type": "markdown",
   "source": "First we convert all non-numerical values to NaN, those non-numerical values must correspond to error flags.",
   "id": "f130d2589dbe2504"
  },
  {
   "metadata": {
    "ExecuteTime": {
     "end_time": "2024-09-21T16:00:00.846103Z",
     "start_time": "2024-09-21T16:00:00.830713Z"
    }
   },
   "cell_type": "code",
   "source": "sprog = sprog.apply(pd.to_numeric, errors='coerce')",
   "id": "a42bc5fef501c21f",
   "outputs": [],
   "execution_count": 9
  },
  {
   "metadata": {
    "ExecuteTime": {
     "end_time": "2024-09-21T16:00:00.855711Z",
     "start_time": "2024-09-21T16:00:00.847135Z"
    }
   },
   "cell_type": "code",
   "source": "sprog",
   "id": "7f689c6c87f3a93d",
   "outputs": [
    {
     "data": {
      "text/plain": [
       "            timestamp  wind_speed  wind_direction_67.5m  wind_direction_70m\n",
       "0        197709131435        9.76                 317.0               999.0\n",
       "1        197709131445       10.58                 309.0               999.0\n",
       "2        197709131455       10.19                 329.0               999.0\n",
       "3        197709131505        8.71                 323.0               999.0\n",
       "4        197709131515        8.85                 309.0               999.0\n",
       "...               ...         ...                   ...                 ...\n",
       "1156272  199909080635        4.20                 999.0               222.0\n",
       "1156273  199909080645        4.77                 999.0               226.0\n",
       "1156274  199909080655        5.37                 999.0               233.0\n",
       "1156275  199909080705        5.07                 999.0               230.0\n",
       "1156276  199909080715        4.73                 999.0               235.0\n",
       "\n",
       "[1156277 rows x 4 columns]"
      ],
      "text/html": [
       "<div>\n",
       "<style scoped>\n",
       "    .dataframe tbody tr th:only-of-type {\n",
       "        vertical-align: middle;\n",
       "    }\n",
       "\n",
       "    .dataframe tbody tr th {\n",
       "        vertical-align: top;\n",
       "    }\n",
       "\n",
       "    .dataframe thead th {\n",
       "        text-align: right;\n",
       "    }\n",
       "</style>\n",
       "<table border=\"1\" class=\"dataframe\">\n",
       "  <thead>\n",
       "    <tr style=\"text-align: right;\">\n",
       "      <th></th>\n",
       "      <th>timestamp</th>\n",
       "      <th>wind_speed</th>\n",
       "      <th>wind_direction_67.5m</th>\n",
       "      <th>wind_direction_70m</th>\n",
       "    </tr>\n",
       "  </thead>\n",
       "  <tbody>\n",
       "    <tr>\n",
       "      <th>0</th>\n",
       "      <td>197709131435</td>\n",
       "      <td>9.76</td>\n",
       "      <td>317.0</td>\n",
       "      <td>999.0</td>\n",
       "    </tr>\n",
       "    <tr>\n",
       "      <th>1</th>\n",
       "      <td>197709131445</td>\n",
       "      <td>10.58</td>\n",
       "      <td>309.0</td>\n",
       "      <td>999.0</td>\n",
       "    </tr>\n",
       "    <tr>\n",
       "      <th>2</th>\n",
       "      <td>197709131455</td>\n",
       "      <td>10.19</td>\n",
       "      <td>329.0</td>\n",
       "      <td>999.0</td>\n",
       "    </tr>\n",
       "    <tr>\n",
       "      <th>3</th>\n",
       "      <td>197709131505</td>\n",
       "      <td>8.71</td>\n",
       "      <td>323.0</td>\n",
       "      <td>999.0</td>\n",
       "    </tr>\n",
       "    <tr>\n",
       "      <th>4</th>\n",
       "      <td>197709131515</td>\n",
       "      <td>8.85</td>\n",
       "      <td>309.0</td>\n",
       "      <td>999.0</td>\n",
       "    </tr>\n",
       "    <tr>\n",
       "      <th>...</th>\n",
       "      <td>...</td>\n",
       "      <td>...</td>\n",
       "      <td>...</td>\n",
       "      <td>...</td>\n",
       "    </tr>\n",
       "    <tr>\n",
       "      <th>1156272</th>\n",
       "      <td>199909080635</td>\n",
       "      <td>4.20</td>\n",
       "      <td>999.0</td>\n",
       "      <td>222.0</td>\n",
       "    </tr>\n",
       "    <tr>\n",
       "      <th>1156273</th>\n",
       "      <td>199909080645</td>\n",
       "      <td>4.77</td>\n",
       "      <td>999.0</td>\n",
       "      <td>226.0</td>\n",
       "    </tr>\n",
       "    <tr>\n",
       "      <th>1156274</th>\n",
       "      <td>199909080655</td>\n",
       "      <td>5.37</td>\n",
       "      <td>999.0</td>\n",
       "      <td>233.0</td>\n",
       "    </tr>\n",
       "    <tr>\n",
       "      <th>1156275</th>\n",
       "      <td>199909080705</td>\n",
       "      <td>5.07</td>\n",
       "      <td>999.0</td>\n",
       "      <td>230.0</td>\n",
       "    </tr>\n",
       "    <tr>\n",
       "      <th>1156276</th>\n",
       "      <td>199909080715</td>\n",
       "      <td>4.73</td>\n",
       "      <td>999.0</td>\n",
       "      <td>235.0</td>\n",
       "    </tr>\n",
       "  </tbody>\n",
       "</table>\n",
       "<p>1156277 rows × 4 columns</p>\n",
       "</div>"
      ]
     },
     "execution_count": 10,
     "metadata": {},
     "output_type": "execute_result"
    }
   ],
   "execution_count": 10
  },
  {
   "metadata": {
    "ExecuteTime": {
     "end_time": "2024-09-21T16:00:00.884681Z",
     "start_time": "2024-09-21T16:00:00.857567Z"
    }
   },
   "cell_type": "code",
   "source": "srpog = sprog.dropna()",
   "id": "314d5642070368ef",
   "outputs": [],
   "execution_count": 11
  },
  {
   "metadata": {
    "ExecuteTime": {
     "end_time": "2024-09-21T16:00:00.895420Z",
     "start_time": "2024-09-21T16:00:00.885805Z"
    }
   },
   "cell_type": "code",
   "source": "sprog",
   "id": "3b7ea08188010272",
   "outputs": [
    {
     "data": {
      "text/plain": [
       "            timestamp  wind_speed  wind_direction_67.5m  wind_direction_70m\n",
       "0        197709131435        9.76                 317.0               999.0\n",
       "1        197709131445       10.58                 309.0               999.0\n",
       "2        197709131455       10.19                 329.0               999.0\n",
       "3        197709131505        8.71                 323.0               999.0\n",
       "4        197709131515        8.85                 309.0               999.0\n",
       "...               ...         ...                   ...                 ...\n",
       "1156272  199909080635        4.20                 999.0               222.0\n",
       "1156273  199909080645        4.77                 999.0               226.0\n",
       "1156274  199909080655        5.37                 999.0               233.0\n",
       "1156275  199909080705        5.07                 999.0               230.0\n",
       "1156276  199909080715        4.73                 999.0               235.0\n",
       "\n",
       "[1156277 rows x 4 columns]"
      ],
      "text/html": [
       "<div>\n",
       "<style scoped>\n",
       "    .dataframe tbody tr th:only-of-type {\n",
       "        vertical-align: middle;\n",
       "    }\n",
       "\n",
       "    .dataframe tbody tr th {\n",
       "        vertical-align: top;\n",
       "    }\n",
       "\n",
       "    .dataframe thead th {\n",
       "        text-align: right;\n",
       "    }\n",
       "</style>\n",
       "<table border=\"1\" class=\"dataframe\">\n",
       "  <thead>\n",
       "    <tr style=\"text-align: right;\">\n",
       "      <th></th>\n",
       "      <th>timestamp</th>\n",
       "      <th>wind_speed</th>\n",
       "      <th>wind_direction_67.5m</th>\n",
       "      <th>wind_direction_70m</th>\n",
       "    </tr>\n",
       "  </thead>\n",
       "  <tbody>\n",
       "    <tr>\n",
       "      <th>0</th>\n",
       "      <td>197709131435</td>\n",
       "      <td>9.76</td>\n",
       "      <td>317.0</td>\n",
       "      <td>999.0</td>\n",
       "    </tr>\n",
       "    <tr>\n",
       "      <th>1</th>\n",
       "      <td>197709131445</td>\n",
       "      <td>10.58</td>\n",
       "      <td>309.0</td>\n",
       "      <td>999.0</td>\n",
       "    </tr>\n",
       "    <tr>\n",
       "      <th>2</th>\n",
       "      <td>197709131455</td>\n",
       "      <td>10.19</td>\n",
       "      <td>329.0</td>\n",
       "      <td>999.0</td>\n",
       "    </tr>\n",
       "    <tr>\n",
       "      <th>3</th>\n",
       "      <td>197709131505</td>\n",
       "      <td>8.71</td>\n",
       "      <td>323.0</td>\n",
       "      <td>999.0</td>\n",
       "    </tr>\n",
       "    <tr>\n",
       "      <th>4</th>\n",
       "      <td>197709131515</td>\n",
       "      <td>8.85</td>\n",
       "      <td>309.0</td>\n",
       "      <td>999.0</td>\n",
       "    </tr>\n",
       "    <tr>\n",
       "      <th>...</th>\n",
       "      <td>...</td>\n",
       "      <td>...</td>\n",
       "      <td>...</td>\n",
       "      <td>...</td>\n",
       "    </tr>\n",
       "    <tr>\n",
       "      <th>1156272</th>\n",
       "      <td>199909080635</td>\n",
       "      <td>4.20</td>\n",
       "      <td>999.0</td>\n",
       "      <td>222.0</td>\n",
       "    </tr>\n",
       "    <tr>\n",
       "      <th>1156273</th>\n",
       "      <td>199909080645</td>\n",
       "      <td>4.77</td>\n",
       "      <td>999.0</td>\n",
       "      <td>226.0</td>\n",
       "    </tr>\n",
       "    <tr>\n",
       "      <th>1156274</th>\n",
       "      <td>199909080655</td>\n",
       "      <td>5.37</td>\n",
       "      <td>999.0</td>\n",
       "      <td>233.0</td>\n",
       "    </tr>\n",
       "    <tr>\n",
       "      <th>1156275</th>\n",
       "      <td>199909080705</td>\n",
       "      <td>5.07</td>\n",
       "      <td>999.0</td>\n",
       "      <td>230.0</td>\n",
       "    </tr>\n",
       "    <tr>\n",
       "      <th>1156276</th>\n",
       "      <td>199909080715</td>\n",
       "      <td>4.73</td>\n",
       "      <td>999.0</td>\n",
       "      <td>235.0</td>\n",
       "    </tr>\n",
       "  </tbody>\n",
       "</table>\n",
       "<p>1156277 rows × 4 columns</p>\n",
       "</div>"
      ]
     },
     "execution_count": 12,
     "metadata": {},
     "output_type": "execute_result"
    }
   ],
   "execution_count": 12
  },
  {
   "metadata": {},
   "cell_type": "markdown",
   "source": "#### Wind Direction",
   "id": "c47fc180a3306ea2"
  },
  {
   "metadata": {},
   "cell_type": "markdown",
   "source": "Apart from the non-numerical values, the other wind direction values that shouldn't be correct data are the ones over 360 or below 0. This could come from an error measurement (999 in this case) or the wind direction measurement is not normalised at 0 - 360 and getting multiples of those values. Let's find those values over 360 and below 0.",
   "id": "e6357d45e7a8f0bd"
  },
  {
   "metadata": {
    "ExecuteTime": {
     "end_time": "2024-09-21T16:00:00.928040Z",
     "start_time": "2024-09-21T16:00:00.896451Z"
    }
   },
   "cell_type": "code",
   "source": [
    "unique_below_0_wind_67_5 = sprog['wind_direction_67.5m'][sprog['wind_direction_67.5m'] < 0].unique()\n",
    "unique_below_0_wind_70 = sprog['wind_direction_70m'][sprog['wind_direction_70m'] < 0].unique()\n",
    "\n",
    "unique_over_360_wind_67_5 = sprog['wind_direction_67.5m'][sprog['wind_direction_67.5m'] > 360].unique()\n",
    "unique_over_360_wind_70 = sprog['wind_direction_70m'][sprog['wind_direction_70m'] > 360].unique()\n",
    "\n",
    "unique_values_over_360_and_below_0 = set(unique_below_0_wind_67_5).union(set(unique_below_0_wind_70), \n",
    "                                                                        set(unique_over_360_wind_67_5), \n",
    "                                                                        set(unique_over_360_wind_70))\n"
   ],
   "id": "6390d83bcc873a39",
   "outputs": [],
   "execution_count": 13
  },
  {
   "metadata": {
    "ExecuteTime": {
     "end_time": "2024-09-21T16:00:00.930847Z",
     "start_time": "2024-09-21T16:00:00.928697Z"
    }
   },
   "cell_type": "code",
   "source": "unique_values_over_360_and_below_0",
   "id": "4e5bbc3cbcbee4f",
   "outputs": [
    {
     "data": {
      "text/plain": [
       "{999.0}"
      ]
     },
     "execution_count": 14,
     "metadata": {},
     "output_type": "execute_result"
    }
   ],
   "execution_count": 14
  },
  {
   "metadata": {},
   "cell_type": "markdown",
   "source": "It turns out that the measurements are already normalised to a range of 0 to 360 degrees, however we find 999 measurements which are classified as error. Thise values are converter no NaN. ",
   "id": "bae08acc1438e287"
  },
  {
   "metadata": {
    "ExecuteTime": {
     "end_time": "2024-09-21T16:00:00.937945Z",
     "start_time": "2024-09-21T16:00:00.931436Z"
    }
   },
   "cell_type": "code",
   "source": "sprog.replace(999, np.nan, inplace=True)",
   "id": "cd767e5b823d7947",
   "outputs": [],
   "execution_count": 15
  },
  {
   "metadata": {
    "ExecuteTime": {
     "end_time": "2024-09-21T16:00:00.943602Z",
     "start_time": "2024-09-21T16:00:00.938600Z"
    }
   },
   "cell_type": "code",
   "source": "sprog",
   "id": "b1ddcb6a99497930",
   "outputs": [
    {
     "data": {
      "text/plain": [
       "            timestamp  wind_speed  wind_direction_67.5m  wind_direction_70m\n",
       "0        197709131435        9.76                 317.0                 NaN\n",
       "1        197709131445       10.58                 309.0                 NaN\n",
       "2        197709131455       10.19                 329.0                 NaN\n",
       "3        197709131505        8.71                 323.0                 NaN\n",
       "4        197709131515        8.85                 309.0                 NaN\n",
       "...               ...         ...                   ...                 ...\n",
       "1156272  199909080635        4.20                   NaN               222.0\n",
       "1156273  199909080645        4.77                   NaN               226.0\n",
       "1156274  199909080655        5.37                   NaN               233.0\n",
       "1156275  199909080705        5.07                   NaN               230.0\n",
       "1156276  199909080715        4.73                   NaN               235.0\n",
       "\n",
       "[1156277 rows x 4 columns]"
      ],
      "text/html": [
       "<div>\n",
       "<style scoped>\n",
       "    .dataframe tbody tr th:only-of-type {\n",
       "        vertical-align: middle;\n",
       "    }\n",
       "\n",
       "    .dataframe tbody tr th {\n",
       "        vertical-align: top;\n",
       "    }\n",
       "\n",
       "    .dataframe thead th {\n",
       "        text-align: right;\n",
       "    }\n",
       "</style>\n",
       "<table border=\"1\" class=\"dataframe\">\n",
       "  <thead>\n",
       "    <tr style=\"text-align: right;\">\n",
       "      <th></th>\n",
       "      <th>timestamp</th>\n",
       "      <th>wind_speed</th>\n",
       "      <th>wind_direction_67.5m</th>\n",
       "      <th>wind_direction_70m</th>\n",
       "    </tr>\n",
       "  </thead>\n",
       "  <tbody>\n",
       "    <tr>\n",
       "      <th>0</th>\n",
       "      <td>197709131435</td>\n",
       "      <td>9.76</td>\n",
       "      <td>317.0</td>\n",
       "      <td>NaN</td>\n",
       "    </tr>\n",
       "    <tr>\n",
       "      <th>1</th>\n",
       "      <td>197709131445</td>\n",
       "      <td>10.58</td>\n",
       "      <td>309.0</td>\n",
       "      <td>NaN</td>\n",
       "    </tr>\n",
       "    <tr>\n",
       "      <th>2</th>\n",
       "      <td>197709131455</td>\n",
       "      <td>10.19</td>\n",
       "      <td>329.0</td>\n",
       "      <td>NaN</td>\n",
       "    </tr>\n",
       "    <tr>\n",
       "      <th>3</th>\n",
       "      <td>197709131505</td>\n",
       "      <td>8.71</td>\n",
       "      <td>323.0</td>\n",
       "      <td>NaN</td>\n",
       "    </tr>\n",
       "    <tr>\n",
       "      <th>4</th>\n",
       "      <td>197709131515</td>\n",
       "      <td>8.85</td>\n",
       "      <td>309.0</td>\n",
       "      <td>NaN</td>\n",
       "    </tr>\n",
       "    <tr>\n",
       "      <th>...</th>\n",
       "      <td>...</td>\n",
       "      <td>...</td>\n",
       "      <td>...</td>\n",
       "      <td>...</td>\n",
       "    </tr>\n",
       "    <tr>\n",
       "      <th>1156272</th>\n",
       "      <td>199909080635</td>\n",
       "      <td>4.20</td>\n",
       "      <td>NaN</td>\n",
       "      <td>222.0</td>\n",
       "    </tr>\n",
       "    <tr>\n",
       "      <th>1156273</th>\n",
       "      <td>199909080645</td>\n",
       "      <td>4.77</td>\n",
       "      <td>NaN</td>\n",
       "      <td>226.0</td>\n",
       "    </tr>\n",
       "    <tr>\n",
       "      <th>1156274</th>\n",
       "      <td>199909080655</td>\n",
       "      <td>5.37</td>\n",
       "      <td>NaN</td>\n",
       "      <td>233.0</td>\n",
       "    </tr>\n",
       "    <tr>\n",
       "      <th>1156275</th>\n",
       "      <td>199909080705</td>\n",
       "      <td>5.07</td>\n",
       "      <td>NaN</td>\n",
       "      <td>230.0</td>\n",
       "    </tr>\n",
       "    <tr>\n",
       "      <th>1156276</th>\n",
       "      <td>199909080715</td>\n",
       "      <td>4.73</td>\n",
       "      <td>NaN</td>\n",
       "      <td>235.0</td>\n",
       "    </tr>\n",
       "  </tbody>\n",
       "</table>\n",
       "<p>1156277 rows × 4 columns</p>\n",
       "</div>"
      ]
     },
     "execution_count": 16,
     "metadata": {},
     "output_type": "execute_result"
    }
   ],
   "execution_count": 16
  },
  {
   "metadata": {},
   "cell_type": "markdown",
   "source": "As we want to work with just a wind direction value form now on, there is the possibility of using one of the two measurements of the wind direction or getting a mean out of it, let's look at the timestamps when we have two correct values in both height measurements. As there is just a difference of 2.5m in height. ",
   "id": "4245364a36e684f5"
  },
  {
   "metadata": {
    "ExecuteTime": {
     "end_time": "2024-09-21T16:00:00.952329Z",
     "start_time": "2024-09-21T16:00:00.944200Z"
    }
   },
   "cell_type": "code",
   "source": "filtered_df = sprog.dropna(subset=['wind_direction_67.5m', 'wind_direction_70m'])",
   "id": "c08e97f683715273",
   "outputs": [],
   "execution_count": 17
  },
  {
   "metadata": {
    "ExecuteTime": {
     "end_time": "2024-09-21T16:00:00.956175Z",
     "start_time": "2024-09-21T16:00:00.953007Z"
    }
   },
   "cell_type": "code",
   "source": "filtered_df",
   "id": "5e1ee9487d476d86",
   "outputs": [
    {
     "data": {
      "text/plain": [
       "Empty DataFrame\n",
       "Columns: [timestamp, wind_speed, wind_direction_67.5m, wind_direction_70m]\n",
       "Index: []"
      ],
      "text/html": [
       "<div>\n",
       "<style scoped>\n",
       "    .dataframe tbody tr th:only-of-type {\n",
       "        vertical-align: middle;\n",
       "    }\n",
       "\n",
       "    .dataframe tbody tr th {\n",
       "        vertical-align: top;\n",
       "    }\n",
       "\n",
       "    .dataframe thead th {\n",
       "        text-align: right;\n",
       "    }\n",
       "</style>\n",
       "<table border=\"1\" class=\"dataframe\">\n",
       "  <thead>\n",
       "    <tr style=\"text-align: right;\">\n",
       "      <th></th>\n",
       "      <th>timestamp</th>\n",
       "      <th>wind_speed</th>\n",
       "      <th>wind_direction_67.5m</th>\n",
       "      <th>wind_direction_70m</th>\n",
       "    </tr>\n",
       "  </thead>\n",
       "  <tbody>\n",
       "  </tbody>\n",
       "</table>\n",
       "</div>"
      ]
     },
     "execution_count": 18,
     "metadata": {},
     "output_type": "execute_result"
    }
   ],
   "execution_count": 18
  },
  {
   "metadata": {},
   "cell_type": "markdown",
   "source": "It is seen that there are no timestamps when the two measurements (67.5 and 70 meters) have a proper measurement at the same time, thus a unique wind direction vector is created using one measurement or the other.",
   "id": "467f87372f8d9e26"
  },
  {
   "metadata": {
    "ExecuteTime": {
     "end_time": "2024-09-21T16:00:01.137039Z",
     "start_time": "2024-09-21T16:00:00.956723Z"
    }
   },
   "cell_type": "code",
   "source": "sprog['wind_direction'] = sprog['wind_direction_67.5m'].combine_first(sprog['wind_direction_70m'])",
   "id": "6419b2be187834cb",
   "outputs": [],
   "execution_count": 19
  },
  {
   "metadata": {
    "ExecuteTime": {
     "end_time": "2024-09-21T16:00:01.143909Z",
     "start_time": "2024-09-21T16:00:01.137706Z"
    }
   },
   "cell_type": "code",
   "source": "sprog",
   "id": "d211a43b1b323fa5",
   "outputs": [
    {
     "data": {
      "text/plain": [
       "            timestamp  wind_speed  wind_direction_67.5m  wind_direction_70m  \\\n",
       "0        197709131435        9.76                 317.0                 NaN   \n",
       "1        197709131445       10.58                 309.0                 NaN   \n",
       "2        197709131455       10.19                 329.0                 NaN   \n",
       "3        197709131505        8.71                 323.0                 NaN   \n",
       "4        197709131515        8.85                 309.0                 NaN   \n",
       "...               ...         ...                   ...                 ...   \n",
       "1156272  199909080635        4.20                   NaN               222.0   \n",
       "1156273  199909080645        4.77                   NaN               226.0   \n",
       "1156274  199909080655        5.37                   NaN               233.0   \n",
       "1156275  199909080705        5.07                   NaN               230.0   \n",
       "1156276  199909080715        4.73                   NaN               235.0   \n",
       "\n",
       "         wind_direction  \n",
       "0                 317.0  \n",
       "1                 309.0  \n",
       "2                 329.0  \n",
       "3                 323.0  \n",
       "4                 309.0  \n",
       "...                 ...  \n",
       "1156272           222.0  \n",
       "1156273           226.0  \n",
       "1156274           233.0  \n",
       "1156275           230.0  \n",
       "1156276           235.0  \n",
       "\n",
       "[1156277 rows x 5 columns]"
      ],
      "text/html": [
       "<div>\n",
       "<style scoped>\n",
       "    .dataframe tbody tr th:only-of-type {\n",
       "        vertical-align: middle;\n",
       "    }\n",
       "\n",
       "    .dataframe tbody tr th {\n",
       "        vertical-align: top;\n",
       "    }\n",
       "\n",
       "    .dataframe thead th {\n",
       "        text-align: right;\n",
       "    }\n",
       "</style>\n",
       "<table border=\"1\" class=\"dataframe\">\n",
       "  <thead>\n",
       "    <tr style=\"text-align: right;\">\n",
       "      <th></th>\n",
       "      <th>timestamp</th>\n",
       "      <th>wind_speed</th>\n",
       "      <th>wind_direction_67.5m</th>\n",
       "      <th>wind_direction_70m</th>\n",
       "      <th>wind_direction</th>\n",
       "    </tr>\n",
       "  </thead>\n",
       "  <tbody>\n",
       "    <tr>\n",
       "      <th>0</th>\n",
       "      <td>197709131435</td>\n",
       "      <td>9.76</td>\n",
       "      <td>317.0</td>\n",
       "      <td>NaN</td>\n",
       "      <td>317.0</td>\n",
       "    </tr>\n",
       "    <tr>\n",
       "      <th>1</th>\n",
       "      <td>197709131445</td>\n",
       "      <td>10.58</td>\n",
       "      <td>309.0</td>\n",
       "      <td>NaN</td>\n",
       "      <td>309.0</td>\n",
       "    </tr>\n",
       "    <tr>\n",
       "      <th>2</th>\n",
       "      <td>197709131455</td>\n",
       "      <td>10.19</td>\n",
       "      <td>329.0</td>\n",
       "      <td>NaN</td>\n",
       "      <td>329.0</td>\n",
       "    </tr>\n",
       "    <tr>\n",
       "      <th>3</th>\n",
       "      <td>197709131505</td>\n",
       "      <td>8.71</td>\n",
       "      <td>323.0</td>\n",
       "      <td>NaN</td>\n",
       "      <td>323.0</td>\n",
       "    </tr>\n",
       "    <tr>\n",
       "      <th>4</th>\n",
       "      <td>197709131515</td>\n",
       "      <td>8.85</td>\n",
       "      <td>309.0</td>\n",
       "      <td>NaN</td>\n",
       "      <td>309.0</td>\n",
       "    </tr>\n",
       "    <tr>\n",
       "      <th>...</th>\n",
       "      <td>...</td>\n",
       "      <td>...</td>\n",
       "      <td>...</td>\n",
       "      <td>...</td>\n",
       "      <td>...</td>\n",
       "    </tr>\n",
       "    <tr>\n",
       "      <th>1156272</th>\n",
       "      <td>199909080635</td>\n",
       "      <td>4.20</td>\n",
       "      <td>NaN</td>\n",
       "      <td>222.0</td>\n",
       "      <td>222.0</td>\n",
       "    </tr>\n",
       "    <tr>\n",
       "      <th>1156273</th>\n",
       "      <td>199909080645</td>\n",
       "      <td>4.77</td>\n",
       "      <td>NaN</td>\n",
       "      <td>226.0</td>\n",
       "      <td>226.0</td>\n",
       "    </tr>\n",
       "    <tr>\n",
       "      <th>1156274</th>\n",
       "      <td>199909080655</td>\n",
       "      <td>5.37</td>\n",
       "      <td>NaN</td>\n",
       "      <td>233.0</td>\n",
       "      <td>233.0</td>\n",
       "    </tr>\n",
       "    <tr>\n",
       "      <th>1156275</th>\n",
       "      <td>199909080705</td>\n",
       "      <td>5.07</td>\n",
       "      <td>NaN</td>\n",
       "      <td>230.0</td>\n",
       "      <td>230.0</td>\n",
       "    </tr>\n",
       "    <tr>\n",
       "      <th>1156276</th>\n",
       "      <td>199909080715</td>\n",
       "      <td>4.73</td>\n",
       "      <td>NaN</td>\n",
       "      <td>235.0</td>\n",
       "      <td>235.0</td>\n",
       "    </tr>\n",
       "  </tbody>\n",
       "</table>\n",
       "<p>1156277 rows × 5 columns</p>\n",
       "</div>"
      ]
     },
     "execution_count": 20,
     "metadata": {},
     "output_type": "execute_result"
    }
   ],
   "execution_count": 20
  },
  {
   "metadata": {
    "ExecuteTime": {
     "end_time": "2024-09-21T16:00:01.162911Z",
     "start_time": "2024-09-21T16:00:01.144551Z"
    }
   },
   "cell_type": "code",
   "source": "sprog[sprog['wind_direction_67.5m'].isna() & sprog['wind_direction_70m'].notna()]",
   "id": "c19b80618db57c0f",
   "outputs": [
    {
     "data": {
      "text/plain": [
       "            timestamp  wind_speed  wind_direction_67.5m  wind_direction_70m  \\\n",
       "595497   198901090005        9.74                   NaN               264.0   \n",
       "595498   198901090015        9.87                   NaN               261.0   \n",
       "595499   198901090025        9.13                   NaN               258.0   \n",
       "595500   198901090035        8.90                   NaN               260.0   \n",
       "595501   198901090045        9.06                   NaN               262.0   \n",
       "...               ...         ...                   ...                 ...   \n",
       "1156272  199909080635        4.20                   NaN               222.0   \n",
       "1156273  199909080645        4.77                   NaN               226.0   \n",
       "1156274  199909080655        5.37                   NaN               233.0   \n",
       "1156275  199909080705        5.07                   NaN               230.0   \n",
       "1156276  199909080715        4.73                   NaN               235.0   \n",
       "\n",
       "         wind_direction  \n",
       "595497            264.0  \n",
       "595498            261.0  \n",
       "595499            258.0  \n",
       "595500            260.0  \n",
       "595501            262.0  \n",
       "...                 ...  \n",
       "1156272           222.0  \n",
       "1156273           226.0  \n",
       "1156274           233.0  \n",
       "1156275           230.0  \n",
       "1156276           235.0  \n",
       "\n",
       "[556195 rows x 5 columns]"
      ],
      "text/html": [
       "<div>\n",
       "<style scoped>\n",
       "    .dataframe tbody tr th:only-of-type {\n",
       "        vertical-align: middle;\n",
       "    }\n",
       "\n",
       "    .dataframe tbody tr th {\n",
       "        vertical-align: top;\n",
       "    }\n",
       "\n",
       "    .dataframe thead th {\n",
       "        text-align: right;\n",
       "    }\n",
       "</style>\n",
       "<table border=\"1\" class=\"dataframe\">\n",
       "  <thead>\n",
       "    <tr style=\"text-align: right;\">\n",
       "      <th></th>\n",
       "      <th>timestamp</th>\n",
       "      <th>wind_speed</th>\n",
       "      <th>wind_direction_67.5m</th>\n",
       "      <th>wind_direction_70m</th>\n",
       "      <th>wind_direction</th>\n",
       "    </tr>\n",
       "  </thead>\n",
       "  <tbody>\n",
       "    <tr>\n",
       "      <th>595497</th>\n",
       "      <td>198901090005</td>\n",
       "      <td>9.74</td>\n",
       "      <td>NaN</td>\n",
       "      <td>264.0</td>\n",
       "      <td>264.0</td>\n",
       "    </tr>\n",
       "    <tr>\n",
       "      <th>595498</th>\n",
       "      <td>198901090015</td>\n",
       "      <td>9.87</td>\n",
       "      <td>NaN</td>\n",
       "      <td>261.0</td>\n",
       "      <td>261.0</td>\n",
       "    </tr>\n",
       "    <tr>\n",
       "      <th>595499</th>\n",
       "      <td>198901090025</td>\n",
       "      <td>9.13</td>\n",
       "      <td>NaN</td>\n",
       "      <td>258.0</td>\n",
       "      <td>258.0</td>\n",
       "    </tr>\n",
       "    <tr>\n",
       "      <th>595500</th>\n",
       "      <td>198901090035</td>\n",
       "      <td>8.90</td>\n",
       "      <td>NaN</td>\n",
       "      <td>260.0</td>\n",
       "      <td>260.0</td>\n",
       "    </tr>\n",
       "    <tr>\n",
       "      <th>595501</th>\n",
       "      <td>198901090045</td>\n",
       "      <td>9.06</td>\n",
       "      <td>NaN</td>\n",
       "      <td>262.0</td>\n",
       "      <td>262.0</td>\n",
       "    </tr>\n",
       "    <tr>\n",
       "      <th>...</th>\n",
       "      <td>...</td>\n",
       "      <td>...</td>\n",
       "      <td>...</td>\n",
       "      <td>...</td>\n",
       "      <td>...</td>\n",
       "    </tr>\n",
       "    <tr>\n",
       "      <th>1156272</th>\n",
       "      <td>199909080635</td>\n",
       "      <td>4.20</td>\n",
       "      <td>NaN</td>\n",
       "      <td>222.0</td>\n",
       "      <td>222.0</td>\n",
       "    </tr>\n",
       "    <tr>\n",
       "      <th>1156273</th>\n",
       "      <td>199909080645</td>\n",
       "      <td>4.77</td>\n",
       "      <td>NaN</td>\n",
       "      <td>226.0</td>\n",
       "      <td>226.0</td>\n",
       "    </tr>\n",
       "    <tr>\n",
       "      <th>1156274</th>\n",
       "      <td>199909080655</td>\n",
       "      <td>5.37</td>\n",
       "      <td>NaN</td>\n",
       "      <td>233.0</td>\n",
       "      <td>233.0</td>\n",
       "    </tr>\n",
       "    <tr>\n",
       "      <th>1156275</th>\n",
       "      <td>199909080705</td>\n",
       "      <td>5.07</td>\n",
       "      <td>NaN</td>\n",
       "      <td>230.0</td>\n",
       "      <td>230.0</td>\n",
       "    </tr>\n",
       "    <tr>\n",
       "      <th>1156276</th>\n",
       "      <td>199909080715</td>\n",
       "      <td>4.73</td>\n",
       "      <td>NaN</td>\n",
       "      <td>235.0</td>\n",
       "      <td>235.0</td>\n",
       "    </tr>\n",
       "  </tbody>\n",
       "</table>\n",
       "<p>556195 rows × 5 columns</p>\n",
       "</div>"
      ]
     },
     "execution_count": 21,
     "metadata": {},
     "output_type": "execute_result"
    }
   ],
   "execution_count": 21
  },
  {
   "metadata": {
    "ExecuteTime": {
     "end_time": "2024-09-21T16:00:01.182188Z",
     "start_time": "2024-09-21T16:00:01.163697Z"
    }
   },
   "cell_type": "code",
   "source": "sprog[sprog['wind_direction_67.5m'].isna()]",
   "id": "549da43d73197245",
   "outputs": [
    {
     "data": {
      "text/plain": [
       "            timestamp  wind_speed  wind_direction_67.5m  wind_direction_70m  \\\n",
       "490      197709170015       99.99                   NaN                 NaN   \n",
       "491      197709170025       99.99                   NaN                 NaN   \n",
       "492      197709170035       99.99                   NaN                 NaN   \n",
       "493      197709170045       99.99                   NaN                 NaN   \n",
       "494      197709170055       99.99                   NaN                 NaN   \n",
       "...               ...         ...                   ...                 ...   \n",
       "1156272  199909080635        4.20                   NaN               222.0   \n",
       "1156273  199909080645        4.77                   NaN               226.0   \n",
       "1156274  199909080655        5.37                   NaN               233.0   \n",
       "1156275  199909080705        5.07                   NaN               230.0   \n",
       "1156276  199909080715        4.73                   NaN               235.0   \n",
       "\n",
       "         wind_direction  \n",
       "490                 NaN  \n",
       "491                 NaN  \n",
       "492                 NaN  \n",
       "493                 NaN  \n",
       "494                 NaN  \n",
       "...                 ...  \n",
       "1156272           222.0  \n",
       "1156273           226.0  \n",
       "1156274           233.0  \n",
       "1156275           230.0  \n",
       "1156276           235.0  \n",
       "\n",
       "[605176 rows x 5 columns]"
      ],
      "text/html": [
       "<div>\n",
       "<style scoped>\n",
       "    .dataframe tbody tr th:only-of-type {\n",
       "        vertical-align: middle;\n",
       "    }\n",
       "\n",
       "    .dataframe tbody tr th {\n",
       "        vertical-align: top;\n",
       "    }\n",
       "\n",
       "    .dataframe thead th {\n",
       "        text-align: right;\n",
       "    }\n",
       "</style>\n",
       "<table border=\"1\" class=\"dataframe\">\n",
       "  <thead>\n",
       "    <tr style=\"text-align: right;\">\n",
       "      <th></th>\n",
       "      <th>timestamp</th>\n",
       "      <th>wind_speed</th>\n",
       "      <th>wind_direction_67.5m</th>\n",
       "      <th>wind_direction_70m</th>\n",
       "      <th>wind_direction</th>\n",
       "    </tr>\n",
       "  </thead>\n",
       "  <tbody>\n",
       "    <tr>\n",
       "      <th>490</th>\n",
       "      <td>197709170015</td>\n",
       "      <td>99.99</td>\n",
       "      <td>NaN</td>\n",
       "      <td>NaN</td>\n",
       "      <td>NaN</td>\n",
       "    </tr>\n",
       "    <tr>\n",
       "      <th>491</th>\n",
       "      <td>197709170025</td>\n",
       "      <td>99.99</td>\n",
       "      <td>NaN</td>\n",
       "      <td>NaN</td>\n",
       "      <td>NaN</td>\n",
       "    </tr>\n",
       "    <tr>\n",
       "      <th>492</th>\n",
       "      <td>197709170035</td>\n",
       "      <td>99.99</td>\n",
       "      <td>NaN</td>\n",
       "      <td>NaN</td>\n",
       "      <td>NaN</td>\n",
       "    </tr>\n",
       "    <tr>\n",
       "      <th>493</th>\n",
       "      <td>197709170045</td>\n",
       "      <td>99.99</td>\n",
       "      <td>NaN</td>\n",
       "      <td>NaN</td>\n",
       "      <td>NaN</td>\n",
       "    </tr>\n",
       "    <tr>\n",
       "      <th>494</th>\n",
       "      <td>197709170055</td>\n",
       "      <td>99.99</td>\n",
       "      <td>NaN</td>\n",
       "      <td>NaN</td>\n",
       "      <td>NaN</td>\n",
       "    </tr>\n",
       "    <tr>\n",
       "      <th>...</th>\n",
       "      <td>...</td>\n",
       "      <td>...</td>\n",
       "      <td>...</td>\n",
       "      <td>...</td>\n",
       "      <td>...</td>\n",
       "    </tr>\n",
       "    <tr>\n",
       "      <th>1156272</th>\n",
       "      <td>199909080635</td>\n",
       "      <td>4.20</td>\n",
       "      <td>NaN</td>\n",
       "      <td>222.0</td>\n",
       "      <td>222.0</td>\n",
       "    </tr>\n",
       "    <tr>\n",
       "      <th>1156273</th>\n",
       "      <td>199909080645</td>\n",
       "      <td>4.77</td>\n",
       "      <td>NaN</td>\n",
       "      <td>226.0</td>\n",
       "      <td>226.0</td>\n",
       "    </tr>\n",
       "    <tr>\n",
       "      <th>1156274</th>\n",
       "      <td>199909080655</td>\n",
       "      <td>5.37</td>\n",
       "      <td>NaN</td>\n",
       "      <td>233.0</td>\n",
       "      <td>233.0</td>\n",
       "    </tr>\n",
       "    <tr>\n",
       "      <th>1156275</th>\n",
       "      <td>199909080705</td>\n",
       "      <td>5.07</td>\n",
       "      <td>NaN</td>\n",
       "      <td>230.0</td>\n",
       "      <td>230.0</td>\n",
       "    </tr>\n",
       "    <tr>\n",
       "      <th>1156276</th>\n",
       "      <td>199909080715</td>\n",
       "      <td>4.73</td>\n",
       "      <td>NaN</td>\n",
       "      <td>235.0</td>\n",
       "      <td>235.0</td>\n",
       "    </tr>\n",
       "  </tbody>\n",
       "</table>\n",
       "<p>605176 rows × 5 columns</p>\n",
       "</div>"
      ]
     },
     "execution_count": 22,
     "metadata": {},
     "output_type": "execute_result"
    }
   ],
   "execution_count": 22
  },
  {
   "metadata": {},
   "cell_type": "markdown",
   "source": "#### Wind Speed",
   "id": "f564b2bbbe562c44"
  },
  {
   "metadata": {},
   "cell_type": "markdown",
   "source": "Now the wind speed measurements are checked. We'll look for cases where the wind speed measurement is incorrect. We set to find the values of wind_speed over 40 m/s and negative values.",
   "id": "691e4afc4eab6b15"
  },
  {
   "metadata": {
    "ExecuteTime": {
     "end_time": "2024-09-21T16:00:01.189190Z",
     "start_time": "2024-09-21T16:00:01.183037Z"
    }
   },
   "cell_type": "code",
   "source": [
    "unique_below_0_wind = sprog['wind_speed'][sprog['wind_speed'] < 0].unique()\n",
    "unique_over_40_wind = sprog['wind_speed'][sprog['wind_speed'] > 40].unique()\n",
    "\n",
    "unique_values_over_40_and_below_0 = set(unique_below_0_wind).union(set(unique_over_40_wind))"
   ],
   "id": "ed84d2d330d9b4e8",
   "outputs": [],
   "execution_count": 23
  },
  {
   "metadata": {
    "ExecuteTime": {
     "end_time": "2024-09-21T16:00:01.192892Z",
     "start_time": "2024-09-21T16:00:01.190465Z"
    }
   },
   "cell_type": "code",
   "source": "unique_values_over_40_and_below_0",
   "id": "23ef62c180204d92",
   "outputs": [
    {
     "data": {
      "text/plain": [
       "{99.99}"
      ]
     },
     "execution_count": 24,
     "metadata": {},
     "output_type": "execute_result"
    }
   ],
   "execution_count": 24
  },
  {
   "metadata": {},
   "cell_type": "markdown",
   "source": "Again the only invalid data is the one corresponding to 99.99 values, we'll convert those to NaN values.",
   "id": "8ce5d5a2b101054a"
  },
  {
   "metadata": {
    "ExecuteTime": {
     "end_time": "2024-09-21T16:00:01.199145Z",
     "start_time": "2024-09-21T16:00:01.193361Z"
    }
   },
   "cell_type": "code",
   "source": "sprog.replace(99.99, np.nan, inplace=True)",
   "id": "a7956c3d331947cb",
   "outputs": [],
   "execution_count": 25
  },
  {
   "metadata": {},
   "cell_type": "markdown",
   "source": "### Hovsore",
   "id": "a357e35ed59a5c1e"
  },
  {
   "metadata": {},
   "cell_type": "markdown",
   "source": "This second datasate needs to be checked as well, we will apply the same filter as before, in this case there is only wind speed data available though.",
   "id": "25ed7bfc5ec08559"
  },
  {
   "metadata": {
    "ExecuteTime": {
     "end_time": "2024-09-21T16:00:01.202219Z",
     "start_time": "2024-09-21T16:00:01.199767Z"
    }
   },
   "cell_type": "code",
   "source": "hovsore_1 = hovsore_1.apply(pd.to_numeric, errors='coerce')",
   "id": "1f0fd8724bc85e44",
   "outputs": [],
   "execution_count": 26
  },
  {
   "metadata": {
    "ExecuteTime": {
     "end_time": "2024-09-21T16:00:01.205734Z",
     "start_time": "2024-09-21T16:00:01.202692Z"
    }
   },
   "cell_type": "code",
   "source": [
    "unique_below_0_wind = hovsore_1['wind_speed'][hovsore_1['wind_speed'] < 0].unique()\n",
    "unique_over_40_wind = hovsore_1['wind_speed'][hovsore_1['wind_speed'] > 40].unique()\n",
    "\n",
    "unique_values_over_40_and_below_0 = set(unique_below_0_wind).union(set(unique_over_40_wind))"
   ],
   "id": "3d4527e2e53a1e98",
   "outputs": [],
   "execution_count": 27
  },
  {
   "metadata": {
    "ExecuteTime": {
     "end_time": "2024-09-21T16:00:01.208725Z",
     "start_time": "2024-09-21T16:00:01.206259Z"
    }
   },
   "cell_type": "code",
   "source": "unique_values_over_40_and_below_0",
   "id": "9a71bd16292ce8c8",
   "outputs": [
    {
     "data": {
      "text/plain": [
       "set()"
      ]
     },
     "execution_count": 28,
     "metadata": {},
     "output_type": "execute_result"
    }
   ],
   "execution_count": 28
  },
  {
   "metadata": {},
   "cell_type": "markdown",
   "source": "No invalid data is found in the hovsore_1 dataset.",
   "id": "fc46c3c5bfe0bb9b"
  },
  {
   "metadata": {},
   "cell_type": "markdown",
   "source": "## Inspect the time-series",
   "id": "f8a0b5ee4dc42c59"
  },
  {
   "metadata": {},
   "cell_type": "markdown",
   "source": "### 1)",
   "id": "36393ba8a3515cdb"
  },
  {
   "metadata": {},
   "cell_type": "markdown",
   "source": "Find the mean and standard deviation of wind speed from each data set.",
   "id": "c7855614c0c7eb16"
  },
  {
   "metadata": {},
   "cell_type": "markdown",
   "source": "#### Sprog",
   "id": "16e0205e8538633"
  },
  {
   "metadata": {},
   "cell_type": "markdown",
   "source": "Mean Wind Speed",
   "id": "1ac630fcdc4452c5"
  },
  {
   "metadata": {
    "ExecuteTime": {
     "end_time": "2024-09-21T16:00:01.217565Z",
     "start_time": "2024-09-21T16:00:01.210315Z"
    }
   },
   "cell_type": "code",
   "source": "sprog['wind_speed'].mean()",
   "id": "82fc14452e00f88d",
   "outputs": [
    {
     "data": {
      "text/plain": [
       "8.235566499680502"
      ]
     },
     "execution_count": 29,
     "metadata": {},
     "output_type": "execute_result"
    }
   ],
   "execution_count": 29
  },
  {
   "metadata": {},
   "cell_type": "markdown",
   "source": "Wind Speed Standard deviation",
   "id": "567a515e300acab6"
  },
  {
   "metadata": {
    "ExecuteTime": {
     "end_time": "2024-09-21T16:00:01.221913Z",
     "start_time": "2024-09-21T16:00:01.218190Z"
    }
   },
   "cell_type": "code",
   "source": "sprog['wind_speed'].std()",
   "id": "177f1a5d5c68ed70",
   "outputs": [
    {
     "data": {
      "text/plain": [
       "3.907913492060975"
      ]
     },
     "execution_count": 30,
     "metadata": {},
     "output_type": "execute_result"
    }
   ],
   "execution_count": 30
  },
  {
   "metadata": {},
   "cell_type": "markdown",
   "source": "#### Hovsore 1",
   "id": "7bf4aee617588a0a"
  },
  {
   "metadata": {},
   "cell_type": "markdown",
   "source": "Mean Wind Speed",
   "id": "c336a16a310e2a89"
  },
  {
   "metadata": {
    "ExecuteTime": {
     "end_time": "2024-09-21T16:00:01.224613Z",
     "start_time": "2024-09-21T16:00:01.222395Z"
    }
   },
   "cell_type": "code",
   "source": "hovsore_1['wind_speed'].mean()",
   "id": "ce3a8a3d3126491a",
   "outputs": [
    {
     "data": {
      "text/plain": [
       "13.295274895833332"
      ]
     },
     "execution_count": 31,
     "metadata": {},
     "output_type": "execute_result"
    }
   ],
   "execution_count": 31
  },
  {
   "metadata": {},
   "cell_type": "markdown",
   "source": "Wind Speed Standard deviation",
   "id": "656e78ea01e4ddc"
  },
  {
   "metadata": {
    "ExecuteTime": {
     "end_time": "2024-09-21T16:00:01.227409Z",
     "start_time": "2024-09-21T16:00:01.225072Z"
    }
   },
   "cell_type": "code",
   "source": "hovsore_1['wind_speed'].std()",
   "id": "d7e94a2594690e5a",
   "outputs": [
    {
     "data": {
      "text/plain": [
       "1.5435718228827797"
      ]
     },
     "execution_count": 32,
     "metadata": {},
     "output_type": "execute_result"
    }
   ],
   "execution_count": 32
  },
  {
   "metadata": {},
   "cell_type": "markdown",
   "source": "### 2)",
   "id": "c7af7e531918ef8b"
  },
  {
   "metadata": {},
   "cell_type": "markdown",
   "source": [
    "Appropriately calculate the mean and standard deviation of wind direction for the Sprogø\n",
    "data, over the entire period."
   ],
   "id": "a15a6a9e10d176b3"
  },
  {
   "metadata": {},
   "cell_type": "markdown",
   "source": "It is needed to consider that the wind direction is cyclic, thus the mean can be calculated as it usually is. There are two ways to compute it: averaging wind vectors and averaging wind vectors disregarding the wind speed. It abviously be only calculated for Sprog dataset as is the only one with wind direction measurements.",
   "id": "42483790ad7c080"
  },
  {
   "metadata": {},
   "cell_type": "markdown",
   "source": "#### Mean Wind direction - Averaging wind vectors",
   "id": "516fdcc4756d476f"
  },
  {
   "metadata": {},
   "cell_type": "markdown",
   "source": "Rows with NaN values in either wind speed or wind direction will not be used for the calculation:",
   "id": "1d5f7c538b89a7a3"
  },
  {
   "metadata": {
    "ExecuteTime": {
     "end_time": "2024-09-21T16:30:46.917342Z",
     "start_time": "2024-09-21T16:30:46.876294Z"
    }
   },
   "cell_type": "code",
   "source": "sprog_cleaned = sprog.dropna(subset=['wind_speed', 'wind_direction'])",
   "id": "39c7331956999ac2",
   "outputs": [],
   "execution_count": 37
  },
  {
   "metadata": {},
   "cell_type": "markdown",
   "source": "Now compute $S_{va}$ as:",
   "id": "444b42e16517c0b1"
  },
  {
   "metadata": {
    "ExecuteTime": {
     "end_time": "2024-09-21T16:46:54.803734Z",
     "start_time": "2024-09-21T16:46:54.785085Z"
    }
   },
   "cell_type": "code",
   "source": [
    "sprog_cleaned.loc[:, 'Sva'] = sprog_cleaned['wind_speed'] * np.sin(np.radians(sprog_cleaned['wind_direction']))\n",
    "\n",
    "Sva = sprog_cleaned['Sva'].mean()\n",
    "print(Sva)"
   ],
   "id": "d87dbbdc974dd47e",
   "outputs": [
    {
     "name": "stdout",
     "output_type": "stream",
     "text": [
      "-1.906088415078908\n"
     ]
    }
   ],
   "execution_count": 46
  },
  {
   "metadata": {},
   "cell_type": "markdown",
   "source": "Now compute $C_{va}$ as:",
   "id": "e7fef0188c7123f6"
  },
  {
   "metadata": {
    "ExecuteTime": {
     "end_time": "2024-09-21T16:46:55.970680Z",
     "start_time": "2024-09-21T16:46:55.950770Z"
    }
   },
   "cell_type": "code",
   "source": [
    "sprog_cleaned.loc[:, 'Cva'] = sprog_cleaned['wind_speed'] * np.cos(np.radians(sprog_cleaned['wind_direction']))\n",
    "\n",
    "Cva = sprog_cleaned['Cva'].mean()\n",
    "print(Cva)"
   ],
   "id": "7f3e0f4bd76a0186",
   "outputs": [
    {
     "name": "stdout",
     "output_type": "stream",
     "text": [
      "-1.3037402558776243\n"
     ]
    }
   ],
   "execution_count": 47
  },
  {
   "metadata": {},
   "cell_type": "markdown",
   "source": "And the average wind direction:",
   "id": "3be838ba96c68567"
  },
  {
   "metadata": {
    "ExecuteTime": {
     "end_time": "2024-09-21T16:51:34.395968Z",
     "start_time": "2024-09-21T16:51:34.393878Z"
    }
   },
   "cell_type": "code",
   "source": [
    "Av_wd = (180/np.pi) * np.arctan2(Sva, Cva) % 360\n",
    "print(Av_wd)"
   ],
   "id": "fdc4dec982b84afe",
   "outputs": [
    {
     "name": "stdout",
     "output_type": "stream",
     "text": [
      "235.62836807150978\n"
     ]
    }
   ],
   "execution_count": 50
  },
  {
   "metadata": {},
   "cell_type": "markdown",
   "source": "#### Mean Wind Direction - Disregarding the wind speed",
   "id": "51a5005e06d931cd"
  },
  {
   "metadata": {
    "ExecuteTime": {
     "end_time": "2024-09-21T17:28:29.122735Z",
     "start_time": "2024-09-21T17:28:29.105713Z"
    }
   },
   "cell_type": "code",
   "source": [
    "sprog_cleaned.loc[:, 'Sa'] = np.sin(np.radians(sprog_cleaned['wind_direction']))\n",
    "\n",
    "Sa = sprog_cleaned['Sa'].mean()\n",
    "print(Sa)"
   ],
   "id": "d1296b93c766b1f2",
   "outputs": [
    {
     "name": "stdout",
     "output_type": "stream",
     "text": [
      "-0.1878247020811266\n"
     ]
    }
   ],
   "execution_count": 60
  },
  {
   "metadata": {
    "ExecuteTime": {
     "end_time": "2024-09-21T17:17:09.338898Z",
     "start_time": "2024-09-21T17:17:09.321821Z"
    }
   },
   "cell_type": "code",
   "source": [
    "sprog_cleaned.loc[:, 'Ca'] = np.cos(np.radians(sprog_cleaned['wind_direction']))\n",
    "\n",
    "Ca = sprog_cleaned['Ca'].mean()\n",
    "print(Ca)"
   ],
   "id": "f01ea5fe50d09d66",
   "outputs": [
    {
     "name": "stdout",
     "output_type": "stream",
     "text": [
      "-0.13390632387922333\n"
     ]
    }
   ],
   "execution_count": 57
  },
  {
   "metadata": {},
   "cell_type": "markdown",
   "source": "Then the average wind direction is:",
   "id": "288b0c3a93d10601"
  },
  {
   "metadata": {
    "ExecuteTime": {
     "end_time": "2024-09-21T17:18:48.828066Z",
     "start_time": "2024-09-21T17:18:48.825437Z"
    }
   },
   "cell_type": "code",
   "source": [
    "Av_wd2 = ((180/np.pi) * np.arctan2(Sa, Ca)) % 360\n",
    "print(Av_wd2)"
   ],
   "id": "fc03ff27a6e54584",
   "outputs": [
    {
     "name": "stdout",
     "output_type": "stream",
     "text": [
      "234.5136969340054\n"
     ]
    }
   ],
   "execution_count": 58
  },
  {
   "metadata": {},
   "cell_type": "markdown",
   "source": "#### Standard deviation Wind Direction",
   "id": "b9f2e2f2132045c1"
  },
  {
   "metadata": {},
   "cell_type": "markdown",
   "source": "The Yamartino method is used to calculate the standard deviation.",
   "id": "34d999d5c70a70f4"
  },
  {
   "metadata": {
    "ExecuteTime": {
     "end_time": "2024-09-21T17:49:30.765253Z",
     "start_time": "2024-09-21T17:49:30.762333Z"
    }
   },
   "cell_type": "code",
   "source": [
    "ep = np.sqrt(1- Sa**2 - Ca**2)\n",
    "\n",
    "std = np.arcsin(ep) * (1 + (2/(np.sqrt(3)) - 1) * ep**3)\n",
    "print(std)"
   ],
   "id": "d862a9c4a99cda97",
   "outputs": [
    {
     "name": "stdout",
     "output_type": "stream",
     "text": [
      "1.5287239953443357\n"
     ]
    }
   ],
   "execution_count": 62
  },
  {
   "metadata": {},
   "cell_type": "markdown",
   "source": "### 3)",
   "id": "9acfb92f04d277e"
  },
  {
   "metadata": {},
   "cell_type": "markdown",
   "source": "Plot the probability density function (PDF) of speed for each data set.",
   "id": "da38cd569d63b337"
  },
  {
   "metadata": {},
   "cell_type": "markdown",
   "source": "#### Sprog",
   "id": "362965fe6bb33823"
  },
  {
   "metadata": {},
   "cell_type": "code",
   "outputs": [],
   "execution_count": null,
   "source": "",
   "id": "eade2ba203bd6bed"
  },
  {
   "metadata": {},
   "cell_type": "markdown",
   "source": "#### Hovsore 1",
   "id": "fa6b5bee10d3101"
  },
  {
   "metadata": {},
   "cell_type": "code",
   "outputs": [],
   "execution_count": null,
   "source": "",
   "id": "41c1d1f8db2a81bd"
  }
 ],
 "metadata": {
  "kernelspec": {
   "display_name": "Python 3",
   "language": "python",
   "name": "python3"
  },
  "language_info": {
   "codemirror_mode": {
    "name": "ipython",
    "version": 2
   },
   "file_extension": ".py",
   "mimetype": "text/x-python",
   "name": "python",
   "nbconvert_exporter": "python",
   "pygments_lexer": "ipython2",
   "version": "2.7.6"
  }
 },
 "nbformat": 4,
 "nbformat_minor": 5
}
