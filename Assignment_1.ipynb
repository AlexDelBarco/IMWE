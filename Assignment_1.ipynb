{
 "cells": [
  {
   "cell_type": "markdown",
   "source": [
    "# ASSIGNMENT 1: MEAN WIND SPEED AND THE WEIBULL DISTRIBUTION"
   ],
   "metadata": {
    "collapsed": false
   },
   "id": "1638447e89c454d4"
  },
  {
   "cell_type": "markdown",
   "source": [
    "## Imports"
   ],
   "metadata": {
    "collapsed": false
   },
   "id": "e03a0e7638a835a8"
  },
  {
   "metadata": {
    "ExecuteTime": {
     "end_time": "2024-09-21T10:29:26.246482Z",
     "start_time": "2024-09-21T10:29:26.243873Z"
    }
   },
   "cell_type": "code",
   "source": [
    "import pandas as pd\n",
    "import numpy as np"
   ],
   "id": "12e86eb2920e7cca",
   "outputs": [],
   "execution_count": 71
  },
  {
   "metadata": {},
   "cell_type": "markdown",
   "source": "## Read Data",
   "id": "2f1f2ed41ab03cf"
  },
  {
   "metadata": {
    "ExecuteTime": {
     "end_time": "2024-09-21T10:29:26.288175Z",
     "start_time": "2024-09-21T10:29:26.285593Z"
    }
   },
   "cell_type": "code",
   "source": "headers = ['timestamp', 'wind_speed', 'wind_direction_67.5m', 'wind_direction_70m']",
   "id": "b85929867ec697e1",
   "outputs": [],
   "execution_count": 72
  },
  {
   "metadata": {
    "ExecuteTime": {
     "end_time": "2024-09-21T10:29:26.485356Z",
     "start_time": "2024-09-21T10:29:26.301220Z"
    }
   },
   "cell_type": "code",
   "source": "sprog = pd.read_csv(\"sprog.tsv\", sep='\\t', header=None, names=headers)",
   "id": "1751181b1b873f1b",
   "outputs": [],
   "execution_count": 73
  },
  {
   "metadata": {
    "ExecuteTime": {
     "end_time": "2024-09-21T10:29:26.492901Z",
     "start_time": "2024-09-21T10:29:26.486508Z"
    }
   },
   "cell_type": "code",
   "source": "sprog",
   "id": "d4107039061d07f6",
   "outputs": [
    {
     "data": {
      "text/plain": [
       "            timestamp  wind_speed  wind_direction_67.5m  wind_direction_70m\n",
       "0        197709131435        9.76                 317.0               999.0\n",
       "1        197709131445       10.58                 309.0               999.0\n",
       "2        197709131455       10.19                 329.0               999.0\n",
       "3        197709131505        8.71                 323.0               999.0\n",
       "4        197709131515        8.85                 309.0               999.0\n",
       "...               ...         ...                   ...                 ...\n",
       "1156272  199909080635        4.20                 999.0               222.0\n",
       "1156273  199909080645        4.77                 999.0               226.0\n",
       "1156274  199909080655        5.37                 999.0               233.0\n",
       "1156275  199909080705        5.07                 999.0               230.0\n",
       "1156276  199909080715        4.73                 999.0               235.0\n",
       "\n",
       "[1156277 rows x 4 columns]"
      ],
      "text/html": [
       "<div>\n",
       "<style scoped>\n",
       "    .dataframe tbody tr th:only-of-type {\n",
       "        vertical-align: middle;\n",
       "    }\n",
       "\n",
       "    .dataframe tbody tr th {\n",
       "        vertical-align: top;\n",
       "    }\n",
       "\n",
       "    .dataframe thead th {\n",
       "        text-align: right;\n",
       "    }\n",
       "</style>\n",
       "<table border=\"1\" class=\"dataframe\">\n",
       "  <thead>\n",
       "    <tr style=\"text-align: right;\">\n",
       "      <th></th>\n",
       "      <th>timestamp</th>\n",
       "      <th>wind_speed</th>\n",
       "      <th>wind_direction_67.5m</th>\n",
       "      <th>wind_direction_70m</th>\n",
       "    </tr>\n",
       "  </thead>\n",
       "  <tbody>\n",
       "    <tr>\n",
       "      <th>0</th>\n",
       "      <td>197709131435</td>\n",
       "      <td>9.76</td>\n",
       "      <td>317.0</td>\n",
       "      <td>999.0</td>\n",
       "    </tr>\n",
       "    <tr>\n",
       "      <th>1</th>\n",
       "      <td>197709131445</td>\n",
       "      <td>10.58</td>\n",
       "      <td>309.0</td>\n",
       "      <td>999.0</td>\n",
       "    </tr>\n",
       "    <tr>\n",
       "      <th>2</th>\n",
       "      <td>197709131455</td>\n",
       "      <td>10.19</td>\n",
       "      <td>329.0</td>\n",
       "      <td>999.0</td>\n",
       "    </tr>\n",
       "    <tr>\n",
       "      <th>3</th>\n",
       "      <td>197709131505</td>\n",
       "      <td>8.71</td>\n",
       "      <td>323.0</td>\n",
       "      <td>999.0</td>\n",
       "    </tr>\n",
       "    <tr>\n",
       "      <th>4</th>\n",
       "      <td>197709131515</td>\n",
       "      <td>8.85</td>\n",
       "      <td>309.0</td>\n",
       "      <td>999.0</td>\n",
       "    </tr>\n",
       "    <tr>\n",
       "      <th>...</th>\n",
       "      <td>...</td>\n",
       "      <td>...</td>\n",
       "      <td>...</td>\n",
       "      <td>...</td>\n",
       "    </tr>\n",
       "    <tr>\n",
       "      <th>1156272</th>\n",
       "      <td>199909080635</td>\n",
       "      <td>4.20</td>\n",
       "      <td>999.0</td>\n",
       "      <td>222.0</td>\n",
       "    </tr>\n",
       "    <tr>\n",
       "      <th>1156273</th>\n",
       "      <td>199909080645</td>\n",
       "      <td>4.77</td>\n",
       "      <td>999.0</td>\n",
       "      <td>226.0</td>\n",
       "    </tr>\n",
       "    <tr>\n",
       "      <th>1156274</th>\n",
       "      <td>199909080655</td>\n",
       "      <td>5.37</td>\n",
       "      <td>999.0</td>\n",
       "      <td>233.0</td>\n",
       "    </tr>\n",
       "    <tr>\n",
       "      <th>1156275</th>\n",
       "      <td>199909080705</td>\n",
       "      <td>5.07</td>\n",
       "      <td>999.0</td>\n",
       "      <td>230.0</td>\n",
       "    </tr>\n",
       "    <tr>\n",
       "      <th>1156276</th>\n",
       "      <td>199909080715</td>\n",
       "      <td>4.73</td>\n",
       "      <td>999.0</td>\n",
       "      <td>235.0</td>\n",
       "    </tr>\n",
       "  </tbody>\n",
       "</table>\n",
       "<p>1156277 rows × 4 columns</p>\n",
       "</div>"
      ]
     },
     "execution_count": 74,
     "metadata": {},
     "output_type": "execute_result"
    }
   ],
   "execution_count": 74
  },
  {
   "metadata": {
    "ExecuteTime": {
     "end_time": "2024-09-21T10:29:26.497171Z",
     "start_time": "2024-09-21T10:29:26.493512Z"
    }
   },
   "cell_type": "code",
   "source": "headers_2 = ['timestamp', 'wind_speed']",
   "id": "bd90b7000f2fc18e",
   "outputs": [],
   "execution_count": 75
  },
  {
   "metadata": {
    "ExecuteTime": {
     "end_time": "2024-09-21T10:29:26.531368Z",
     "start_time": "2024-09-21T10:29:26.498268Z"
    }
   },
   "cell_type": "code",
   "source": "hovsore_1 = pd.read_csv('hovsore_1.txt', header=None, names= headers_2)",
   "id": "5095b9dd76a9b27d",
   "outputs": [],
   "execution_count": 76
  },
  {
   "metadata": {
    "ExecuteTime": {
     "end_time": "2024-09-21T10:29:26.538208Z",
     "start_time": "2024-09-21T10:29:26.532139Z"
    }
   },
   "cell_type": "code",
   "source": "hovsore_1",
   "id": "98ba0e50d79eb3b5",
   "outputs": [
    {
     "data": {
      "text/plain": [
       "           timestamp  wind_speed\n",
       "0       201603012000        9.49\n",
       "1       201603012000       10.16\n",
       "2       201603012000        9.71\n",
       "3       201603012000       10.79\n",
       "4       201603012000       10.84\n",
       "...              ...         ...\n",
       "287995  201603012350       12.60\n",
       "287996  201603012350       13.54\n",
       "287997  201603012350       13.00\n",
       "287998  201603012350       12.90\n",
       "287999  201603012350       12.83\n",
       "\n",
       "[288000 rows x 2 columns]"
      ],
      "text/html": [
       "<div>\n",
       "<style scoped>\n",
       "    .dataframe tbody tr th:only-of-type {\n",
       "        vertical-align: middle;\n",
       "    }\n",
       "\n",
       "    .dataframe tbody tr th {\n",
       "        vertical-align: top;\n",
       "    }\n",
       "\n",
       "    .dataframe thead th {\n",
       "        text-align: right;\n",
       "    }\n",
       "</style>\n",
       "<table border=\"1\" class=\"dataframe\">\n",
       "  <thead>\n",
       "    <tr style=\"text-align: right;\">\n",
       "      <th></th>\n",
       "      <th>timestamp</th>\n",
       "      <th>wind_speed</th>\n",
       "    </tr>\n",
       "  </thead>\n",
       "  <tbody>\n",
       "    <tr>\n",
       "      <th>0</th>\n",
       "      <td>201603012000</td>\n",
       "      <td>9.49</td>\n",
       "    </tr>\n",
       "    <tr>\n",
       "      <th>1</th>\n",
       "      <td>201603012000</td>\n",
       "      <td>10.16</td>\n",
       "    </tr>\n",
       "    <tr>\n",
       "      <th>2</th>\n",
       "      <td>201603012000</td>\n",
       "      <td>9.71</td>\n",
       "    </tr>\n",
       "    <tr>\n",
       "      <th>3</th>\n",
       "      <td>201603012000</td>\n",
       "      <td>10.79</td>\n",
       "    </tr>\n",
       "    <tr>\n",
       "      <th>4</th>\n",
       "      <td>201603012000</td>\n",
       "      <td>10.84</td>\n",
       "    </tr>\n",
       "    <tr>\n",
       "      <th>...</th>\n",
       "      <td>...</td>\n",
       "      <td>...</td>\n",
       "    </tr>\n",
       "    <tr>\n",
       "      <th>287995</th>\n",
       "      <td>201603012350</td>\n",
       "      <td>12.60</td>\n",
       "    </tr>\n",
       "    <tr>\n",
       "      <th>287996</th>\n",
       "      <td>201603012350</td>\n",
       "      <td>13.54</td>\n",
       "    </tr>\n",
       "    <tr>\n",
       "      <th>287997</th>\n",
       "      <td>201603012350</td>\n",
       "      <td>13.00</td>\n",
       "    </tr>\n",
       "    <tr>\n",
       "      <th>287998</th>\n",
       "      <td>201603012350</td>\n",
       "      <td>12.90</td>\n",
       "    </tr>\n",
       "    <tr>\n",
       "      <th>287999</th>\n",
       "      <td>201603012350</td>\n",
       "      <td>12.83</td>\n",
       "    </tr>\n",
       "  </tbody>\n",
       "</table>\n",
       "<p>288000 rows × 2 columns</p>\n",
       "</div>"
      ]
     },
     "execution_count": 77,
     "metadata": {},
     "output_type": "execute_result"
    }
   ],
   "execution_count": 77
  },
  {
   "metadata": {},
   "cell_type": "markdown",
   "source": "## Data Cleaning",
   "id": "4e9342e86edc570a"
  },
  {
   "metadata": {},
   "cell_type": "markdown",
   "source": "Both datasets will be cleaned to remove all error measurements",
   "id": "625ade3faf5fe6ac"
  },
  {
   "metadata": {},
   "cell_type": "markdown",
   "source": "### Sprog",
   "id": "b218996f16d8e2c7"
  },
  {
   "metadata": {},
   "cell_type": "markdown",
   "source": "First we convert all non-numerical values to NaN, those non-numerical values must correspond to error flags.",
   "id": "f130d2589dbe2504"
  },
  {
   "metadata": {
    "ExecuteTime": {
     "end_time": "2024-09-21T10:29:26.549061Z",
     "start_time": "2024-09-21T10:29:26.539040Z"
    }
   },
   "cell_type": "code",
   "source": "sprog = sprog.apply(pd.to_numeric, errors='coerce')",
   "id": "a42bc5fef501c21f",
   "outputs": [],
   "execution_count": 78
  },
  {
   "metadata": {
    "ExecuteTime": {
     "end_time": "2024-09-21T10:29:26.557622Z",
     "start_time": "2024-09-21T10:29:26.549880Z"
    }
   },
   "cell_type": "code",
   "source": "sprog",
   "id": "7f689c6c87f3a93d",
   "outputs": [
    {
     "data": {
      "text/plain": [
       "            timestamp  wind_speed  wind_direction_67.5m  wind_direction_70m\n",
       "0        197709131435        9.76                 317.0               999.0\n",
       "1        197709131445       10.58                 309.0               999.0\n",
       "2        197709131455       10.19                 329.0               999.0\n",
       "3        197709131505        8.71                 323.0               999.0\n",
       "4        197709131515        8.85                 309.0               999.0\n",
       "...               ...         ...                   ...                 ...\n",
       "1156272  199909080635        4.20                 999.0               222.0\n",
       "1156273  199909080645        4.77                 999.0               226.0\n",
       "1156274  199909080655        5.37                 999.0               233.0\n",
       "1156275  199909080705        5.07                 999.0               230.0\n",
       "1156276  199909080715        4.73                 999.0               235.0\n",
       "\n",
       "[1156277 rows x 4 columns]"
      ],
      "text/html": [
       "<div>\n",
       "<style scoped>\n",
       "    .dataframe tbody tr th:only-of-type {\n",
       "        vertical-align: middle;\n",
       "    }\n",
       "\n",
       "    .dataframe tbody tr th {\n",
       "        vertical-align: top;\n",
       "    }\n",
       "\n",
       "    .dataframe thead th {\n",
       "        text-align: right;\n",
       "    }\n",
       "</style>\n",
       "<table border=\"1\" class=\"dataframe\">\n",
       "  <thead>\n",
       "    <tr style=\"text-align: right;\">\n",
       "      <th></th>\n",
       "      <th>timestamp</th>\n",
       "      <th>wind_speed</th>\n",
       "      <th>wind_direction_67.5m</th>\n",
       "      <th>wind_direction_70m</th>\n",
       "    </tr>\n",
       "  </thead>\n",
       "  <tbody>\n",
       "    <tr>\n",
       "      <th>0</th>\n",
       "      <td>197709131435</td>\n",
       "      <td>9.76</td>\n",
       "      <td>317.0</td>\n",
       "      <td>999.0</td>\n",
       "    </tr>\n",
       "    <tr>\n",
       "      <th>1</th>\n",
       "      <td>197709131445</td>\n",
       "      <td>10.58</td>\n",
       "      <td>309.0</td>\n",
       "      <td>999.0</td>\n",
       "    </tr>\n",
       "    <tr>\n",
       "      <th>2</th>\n",
       "      <td>197709131455</td>\n",
       "      <td>10.19</td>\n",
       "      <td>329.0</td>\n",
       "      <td>999.0</td>\n",
       "    </tr>\n",
       "    <tr>\n",
       "      <th>3</th>\n",
       "      <td>197709131505</td>\n",
       "      <td>8.71</td>\n",
       "      <td>323.0</td>\n",
       "      <td>999.0</td>\n",
       "    </tr>\n",
       "    <tr>\n",
       "      <th>4</th>\n",
       "      <td>197709131515</td>\n",
       "      <td>8.85</td>\n",
       "      <td>309.0</td>\n",
       "      <td>999.0</td>\n",
       "    </tr>\n",
       "    <tr>\n",
       "      <th>...</th>\n",
       "      <td>...</td>\n",
       "      <td>...</td>\n",
       "      <td>...</td>\n",
       "      <td>...</td>\n",
       "    </tr>\n",
       "    <tr>\n",
       "      <th>1156272</th>\n",
       "      <td>199909080635</td>\n",
       "      <td>4.20</td>\n",
       "      <td>999.0</td>\n",
       "      <td>222.0</td>\n",
       "    </tr>\n",
       "    <tr>\n",
       "      <th>1156273</th>\n",
       "      <td>199909080645</td>\n",
       "      <td>4.77</td>\n",
       "      <td>999.0</td>\n",
       "      <td>226.0</td>\n",
       "    </tr>\n",
       "    <tr>\n",
       "      <th>1156274</th>\n",
       "      <td>199909080655</td>\n",
       "      <td>5.37</td>\n",
       "      <td>999.0</td>\n",
       "      <td>233.0</td>\n",
       "    </tr>\n",
       "    <tr>\n",
       "      <th>1156275</th>\n",
       "      <td>199909080705</td>\n",
       "      <td>5.07</td>\n",
       "      <td>999.0</td>\n",
       "      <td>230.0</td>\n",
       "    </tr>\n",
       "    <tr>\n",
       "      <th>1156276</th>\n",
       "      <td>199909080715</td>\n",
       "      <td>4.73</td>\n",
       "      <td>999.0</td>\n",
       "      <td>235.0</td>\n",
       "    </tr>\n",
       "  </tbody>\n",
       "</table>\n",
       "<p>1156277 rows × 4 columns</p>\n",
       "</div>"
      ]
     },
     "execution_count": 79,
     "metadata": {},
     "output_type": "execute_result"
    }
   ],
   "execution_count": 79
  },
  {
   "metadata": {
    "ExecuteTime": {
     "end_time": "2024-09-21T10:29:26.580310Z",
     "start_time": "2024-09-21T10:29:26.558191Z"
    }
   },
   "cell_type": "code",
   "source": "srpog = sprog.dropna()",
   "id": "314d5642070368ef",
   "outputs": [],
   "execution_count": 80
  },
  {
   "metadata": {
    "ExecuteTime": {
     "end_time": "2024-09-21T10:29:26.588196Z",
     "start_time": "2024-09-21T10:29:26.581469Z"
    }
   },
   "cell_type": "code",
   "source": "sprog",
   "id": "3b7ea08188010272",
   "outputs": [
    {
     "data": {
      "text/plain": [
       "            timestamp  wind_speed  wind_direction_67.5m  wind_direction_70m\n",
       "0        197709131435        9.76                 317.0               999.0\n",
       "1        197709131445       10.58                 309.0               999.0\n",
       "2        197709131455       10.19                 329.0               999.0\n",
       "3        197709131505        8.71                 323.0               999.0\n",
       "4        197709131515        8.85                 309.0               999.0\n",
       "...               ...         ...                   ...                 ...\n",
       "1156272  199909080635        4.20                 999.0               222.0\n",
       "1156273  199909080645        4.77                 999.0               226.0\n",
       "1156274  199909080655        5.37                 999.0               233.0\n",
       "1156275  199909080705        5.07                 999.0               230.0\n",
       "1156276  199909080715        4.73                 999.0               235.0\n",
       "\n",
       "[1156277 rows x 4 columns]"
      ],
      "text/html": [
       "<div>\n",
       "<style scoped>\n",
       "    .dataframe tbody tr th:only-of-type {\n",
       "        vertical-align: middle;\n",
       "    }\n",
       "\n",
       "    .dataframe tbody tr th {\n",
       "        vertical-align: top;\n",
       "    }\n",
       "\n",
       "    .dataframe thead th {\n",
       "        text-align: right;\n",
       "    }\n",
       "</style>\n",
       "<table border=\"1\" class=\"dataframe\">\n",
       "  <thead>\n",
       "    <tr style=\"text-align: right;\">\n",
       "      <th></th>\n",
       "      <th>timestamp</th>\n",
       "      <th>wind_speed</th>\n",
       "      <th>wind_direction_67.5m</th>\n",
       "      <th>wind_direction_70m</th>\n",
       "    </tr>\n",
       "  </thead>\n",
       "  <tbody>\n",
       "    <tr>\n",
       "      <th>0</th>\n",
       "      <td>197709131435</td>\n",
       "      <td>9.76</td>\n",
       "      <td>317.0</td>\n",
       "      <td>999.0</td>\n",
       "    </tr>\n",
       "    <tr>\n",
       "      <th>1</th>\n",
       "      <td>197709131445</td>\n",
       "      <td>10.58</td>\n",
       "      <td>309.0</td>\n",
       "      <td>999.0</td>\n",
       "    </tr>\n",
       "    <tr>\n",
       "      <th>2</th>\n",
       "      <td>197709131455</td>\n",
       "      <td>10.19</td>\n",
       "      <td>329.0</td>\n",
       "      <td>999.0</td>\n",
       "    </tr>\n",
       "    <tr>\n",
       "      <th>3</th>\n",
       "      <td>197709131505</td>\n",
       "      <td>8.71</td>\n",
       "      <td>323.0</td>\n",
       "      <td>999.0</td>\n",
       "    </tr>\n",
       "    <tr>\n",
       "      <th>4</th>\n",
       "      <td>197709131515</td>\n",
       "      <td>8.85</td>\n",
       "      <td>309.0</td>\n",
       "      <td>999.0</td>\n",
       "    </tr>\n",
       "    <tr>\n",
       "      <th>...</th>\n",
       "      <td>...</td>\n",
       "      <td>...</td>\n",
       "      <td>...</td>\n",
       "      <td>...</td>\n",
       "    </tr>\n",
       "    <tr>\n",
       "      <th>1156272</th>\n",
       "      <td>199909080635</td>\n",
       "      <td>4.20</td>\n",
       "      <td>999.0</td>\n",
       "      <td>222.0</td>\n",
       "    </tr>\n",
       "    <tr>\n",
       "      <th>1156273</th>\n",
       "      <td>199909080645</td>\n",
       "      <td>4.77</td>\n",
       "      <td>999.0</td>\n",
       "      <td>226.0</td>\n",
       "    </tr>\n",
       "    <tr>\n",
       "      <th>1156274</th>\n",
       "      <td>199909080655</td>\n",
       "      <td>5.37</td>\n",
       "      <td>999.0</td>\n",
       "      <td>233.0</td>\n",
       "    </tr>\n",
       "    <tr>\n",
       "      <th>1156275</th>\n",
       "      <td>199909080705</td>\n",
       "      <td>5.07</td>\n",
       "      <td>999.0</td>\n",
       "      <td>230.0</td>\n",
       "    </tr>\n",
       "    <tr>\n",
       "      <th>1156276</th>\n",
       "      <td>199909080715</td>\n",
       "      <td>4.73</td>\n",
       "      <td>999.0</td>\n",
       "      <td>235.0</td>\n",
       "    </tr>\n",
       "  </tbody>\n",
       "</table>\n",
       "<p>1156277 rows × 4 columns</p>\n",
       "</div>"
      ]
     },
     "execution_count": 81,
     "metadata": {},
     "output_type": "execute_result"
    }
   ],
   "execution_count": 81
  },
  {
   "metadata": {},
   "cell_type": "markdown",
   "source": "#### Wind Direction",
   "id": "c47fc180a3306ea2"
  },
  {
   "metadata": {},
   "cell_type": "markdown",
   "source": "Apart from the non-numerical values, the other wind direction values that shouldn't be correct data are the ones over 360 or below 0. This could come from an error measurement (999 in this case) or the wind direction measurement is not normalised at 0 - 360 and getting multiples of those values. Let's find those values over 360 and below 0.",
   "id": "e6357d45e7a8f0bd"
  },
  {
   "metadata": {
    "ExecuteTime": {
     "end_time": "2024-09-21T10:29:26.611208Z",
     "start_time": "2024-09-21T10:29:26.589323Z"
    }
   },
   "cell_type": "code",
   "source": [
    "unique_below_0_wind_67_5 = sprog['wind_direction_67.5m'][sprog['wind_direction_67.5m'] < 0].unique()\n",
    "unique_below_0_wind_70 = sprog['wind_direction_70m'][sprog['wind_direction_70m'] < 0].unique()\n",
    "\n",
    "unique_over_360_wind_67_5 = sprog['wind_direction_67.5m'][sprog['wind_direction_67.5m'] > 360].unique()\n",
    "unique_over_360_wind_70 = sprog['wind_direction_70m'][sprog['wind_direction_70m'] > 360].unique()\n",
    "\n",
    "unique_values_over_360_and_below_0 = set(unique_below_0_wind_67_5).union(set(unique_below_0_wind_70), \n",
    "                                                                        set(unique_over_360_wind_67_5), \n",
    "                                                                        set(unique_over_360_wind_70))\n"
   ],
   "id": "6390d83bcc873a39",
   "outputs": [],
   "execution_count": 82
  },
  {
   "metadata": {
    "ExecuteTime": {
     "end_time": "2024-09-21T10:29:42.540405Z",
     "start_time": "2024-09-21T10:29:42.536980Z"
    }
   },
   "cell_type": "code",
   "source": "unique_values_over_360_and_below_0",
   "id": "4e5bbc3cbcbee4f",
   "outputs": [
    {
     "data": {
      "text/plain": [
       "{999.0}"
      ]
     },
     "execution_count": 83,
     "metadata": {},
     "output_type": "execute_result"
    }
   ],
   "execution_count": 83
  },
  {
   "metadata": {},
   "cell_type": "markdown",
   "source": "It turns out that the measurements are already normalised to a range of 0 to 360 degrees, however we find 999 measurements which are classified as error. Thise values are converter no NaN. ",
   "id": "bae08acc1438e287"
  },
  {
   "metadata": {
    "ExecuteTime": {
     "end_time": "2024-09-21T09:59:13.207940Z",
     "start_time": "2024-09-21T09:59:13.197489Z"
    }
   },
   "cell_type": "code",
   "source": "sprog.replace(999, np.nan, inplace=True)",
   "id": "cd767e5b823d7947",
   "outputs": [],
   "execution_count": 51
  },
  {
   "metadata": {
    "ExecuteTime": {
     "end_time": "2024-09-21T09:59:17.879739Z",
     "start_time": "2024-09-21T09:59:17.872917Z"
    }
   },
   "cell_type": "code",
   "source": "sprog",
   "id": "b1ddcb6a99497930",
   "outputs": [
    {
     "data": {
      "text/plain": [
       "            timestamp  wind_speed  wind_direction_67.5m  wind_direction_70m\n",
       "0        197709131435        9.76                 317.0                 NaN\n",
       "1        197709131445       10.58                 309.0                 NaN\n",
       "2        197709131455       10.19                 329.0                 NaN\n",
       "3        197709131505        8.71                 323.0                 NaN\n",
       "4        197709131515        8.85                 309.0                 NaN\n",
       "...               ...         ...                   ...                 ...\n",
       "1156272  199909080635        4.20                   NaN               222.0\n",
       "1156273  199909080645        4.77                   NaN               226.0\n",
       "1156274  199909080655        5.37                   NaN               233.0\n",
       "1156275  199909080705        5.07                   NaN               230.0\n",
       "1156276  199909080715        4.73                   NaN               235.0\n",
       "\n",
       "[1156277 rows x 4 columns]"
      ],
      "text/html": [
       "<div>\n",
       "<style scoped>\n",
       "    .dataframe tbody tr th:only-of-type {\n",
       "        vertical-align: middle;\n",
       "    }\n",
       "\n",
       "    .dataframe tbody tr th {\n",
       "        vertical-align: top;\n",
       "    }\n",
       "\n",
       "    .dataframe thead th {\n",
       "        text-align: right;\n",
       "    }\n",
       "</style>\n",
       "<table border=\"1\" class=\"dataframe\">\n",
       "  <thead>\n",
       "    <tr style=\"text-align: right;\">\n",
       "      <th></th>\n",
       "      <th>timestamp</th>\n",
       "      <th>wind_speed</th>\n",
       "      <th>wind_direction_67.5m</th>\n",
       "      <th>wind_direction_70m</th>\n",
       "    </tr>\n",
       "  </thead>\n",
       "  <tbody>\n",
       "    <tr>\n",
       "      <th>0</th>\n",
       "      <td>197709131435</td>\n",
       "      <td>9.76</td>\n",
       "      <td>317.0</td>\n",
       "      <td>NaN</td>\n",
       "    </tr>\n",
       "    <tr>\n",
       "      <th>1</th>\n",
       "      <td>197709131445</td>\n",
       "      <td>10.58</td>\n",
       "      <td>309.0</td>\n",
       "      <td>NaN</td>\n",
       "    </tr>\n",
       "    <tr>\n",
       "      <th>2</th>\n",
       "      <td>197709131455</td>\n",
       "      <td>10.19</td>\n",
       "      <td>329.0</td>\n",
       "      <td>NaN</td>\n",
       "    </tr>\n",
       "    <tr>\n",
       "      <th>3</th>\n",
       "      <td>197709131505</td>\n",
       "      <td>8.71</td>\n",
       "      <td>323.0</td>\n",
       "      <td>NaN</td>\n",
       "    </tr>\n",
       "    <tr>\n",
       "      <th>4</th>\n",
       "      <td>197709131515</td>\n",
       "      <td>8.85</td>\n",
       "      <td>309.0</td>\n",
       "      <td>NaN</td>\n",
       "    </tr>\n",
       "    <tr>\n",
       "      <th>...</th>\n",
       "      <td>...</td>\n",
       "      <td>...</td>\n",
       "      <td>...</td>\n",
       "      <td>...</td>\n",
       "    </tr>\n",
       "    <tr>\n",
       "      <th>1156272</th>\n",
       "      <td>199909080635</td>\n",
       "      <td>4.20</td>\n",
       "      <td>NaN</td>\n",
       "      <td>222.0</td>\n",
       "    </tr>\n",
       "    <tr>\n",
       "      <th>1156273</th>\n",
       "      <td>199909080645</td>\n",
       "      <td>4.77</td>\n",
       "      <td>NaN</td>\n",
       "      <td>226.0</td>\n",
       "    </tr>\n",
       "    <tr>\n",
       "      <th>1156274</th>\n",
       "      <td>199909080655</td>\n",
       "      <td>5.37</td>\n",
       "      <td>NaN</td>\n",
       "      <td>233.0</td>\n",
       "    </tr>\n",
       "    <tr>\n",
       "      <th>1156275</th>\n",
       "      <td>199909080705</td>\n",
       "      <td>5.07</td>\n",
       "      <td>NaN</td>\n",
       "      <td>230.0</td>\n",
       "    </tr>\n",
       "    <tr>\n",
       "      <th>1156276</th>\n",
       "      <td>199909080715</td>\n",
       "      <td>4.73</td>\n",
       "      <td>NaN</td>\n",
       "      <td>235.0</td>\n",
       "    </tr>\n",
       "  </tbody>\n",
       "</table>\n",
       "<p>1156277 rows × 4 columns</p>\n",
       "</div>"
      ]
     },
     "execution_count": 52,
     "metadata": {},
     "output_type": "execute_result"
    }
   ],
   "execution_count": 52
  },
  {
   "metadata": {},
   "cell_type": "markdown",
   "source": "As we want to work with just a wind direction value form now on, there is the possibility of using one of the two measurements of the wind direction or getting a mean out of it, let's look at the timestamps when we have two correct values in both height measurements. As there is just a difference of 2.5m in height. ",
   "id": "4245364a36e684f5"
  },
  {
   "metadata": {
    "ExecuteTime": {
     "end_time": "2024-09-21T10:08:40.909307Z",
     "start_time": "2024-09-21T10:08:40.891622Z"
    }
   },
   "cell_type": "code",
   "source": "filtered_df = sprog.dropna(subset=['wind_direction_67.5m', 'wind_direction_70m'])",
   "id": "c08e97f683715273",
   "outputs": [],
   "execution_count": 54
  },
  {
   "metadata": {
    "ExecuteTime": {
     "end_time": "2024-09-21T10:08:45.855632Z",
     "start_time": "2024-09-21T10:08:45.851269Z"
    }
   },
   "cell_type": "code",
   "source": "filtered_df",
   "id": "5e1ee9487d476d86",
   "outputs": [
    {
     "data": {
      "text/plain": [
       "Empty DataFrame\n",
       "Columns: [timestamp, wind_speed, wind_direction_67.5m, wind_direction_70m]\n",
       "Index: []"
      ],
      "text/html": [
       "<div>\n",
       "<style scoped>\n",
       "    .dataframe tbody tr th:only-of-type {\n",
       "        vertical-align: middle;\n",
       "    }\n",
       "\n",
       "    .dataframe tbody tr th {\n",
       "        vertical-align: top;\n",
       "    }\n",
       "\n",
       "    .dataframe thead th {\n",
       "        text-align: right;\n",
       "    }\n",
       "</style>\n",
       "<table border=\"1\" class=\"dataframe\">\n",
       "  <thead>\n",
       "    <tr style=\"text-align: right;\">\n",
       "      <th></th>\n",
       "      <th>timestamp</th>\n",
       "      <th>wind_speed</th>\n",
       "      <th>wind_direction_67.5m</th>\n",
       "      <th>wind_direction_70m</th>\n",
       "    </tr>\n",
       "  </thead>\n",
       "  <tbody>\n",
       "  </tbody>\n",
       "</table>\n",
       "</div>"
      ]
     },
     "execution_count": 55,
     "metadata": {},
     "output_type": "execute_result"
    }
   ],
   "execution_count": 55
  },
  {
   "metadata": {},
   "cell_type": "markdown",
   "source": "It is seen that there are no timestamps when the two measurements (67.5 and 70 meters) have a proper measurement at the same time, thus a unique wind direction vector is created using one measurement or the other.",
   "id": "467f87372f8d9e26"
  },
  {
   "metadata": {
    "ExecuteTime": {
     "end_time": "2024-09-21T10:14:31.210519Z",
     "start_time": "2024-09-21T10:14:30.996733Z"
    }
   },
   "cell_type": "code",
   "source": "sprog['wind_direction'] = sprog['wind_direction_67.5m'].combine_first(sprog['wind_direction_70m'])",
   "id": "6419b2be187834cb",
   "outputs": [],
   "execution_count": 57
  },
  {
   "metadata": {
    "ExecuteTime": {
     "end_time": "2024-09-21T10:14:41.097236Z",
     "start_time": "2024-09-21T10:14:41.089786Z"
    }
   },
   "cell_type": "code",
   "source": "sprog",
   "id": "d211a43b1b323fa5",
   "outputs": [
    {
     "data": {
      "text/plain": [
       "            timestamp  wind_speed  wind_direction_67.5m  wind_direction_70m  \\\n",
       "0        197709131435        9.76                 317.0                 NaN   \n",
       "1        197709131445       10.58                 309.0                 NaN   \n",
       "2        197709131455       10.19                 329.0                 NaN   \n",
       "3        197709131505        8.71                 323.0                 NaN   \n",
       "4        197709131515        8.85                 309.0                 NaN   \n",
       "...               ...         ...                   ...                 ...   \n",
       "1156272  199909080635        4.20                   NaN               222.0   \n",
       "1156273  199909080645        4.77                   NaN               226.0   \n",
       "1156274  199909080655        5.37                   NaN               233.0   \n",
       "1156275  199909080705        5.07                   NaN               230.0   \n",
       "1156276  199909080715        4.73                   NaN               235.0   \n",
       "\n",
       "         wind_direction  \n",
       "0                 317.0  \n",
       "1                 309.0  \n",
       "2                 329.0  \n",
       "3                 323.0  \n",
       "4                 309.0  \n",
       "...                 ...  \n",
       "1156272           222.0  \n",
       "1156273           226.0  \n",
       "1156274           233.0  \n",
       "1156275           230.0  \n",
       "1156276           235.0  \n",
       "\n",
       "[1156277 rows x 5 columns]"
      ],
      "text/html": [
       "<div>\n",
       "<style scoped>\n",
       "    .dataframe tbody tr th:only-of-type {\n",
       "        vertical-align: middle;\n",
       "    }\n",
       "\n",
       "    .dataframe tbody tr th {\n",
       "        vertical-align: top;\n",
       "    }\n",
       "\n",
       "    .dataframe thead th {\n",
       "        text-align: right;\n",
       "    }\n",
       "</style>\n",
       "<table border=\"1\" class=\"dataframe\">\n",
       "  <thead>\n",
       "    <tr style=\"text-align: right;\">\n",
       "      <th></th>\n",
       "      <th>timestamp</th>\n",
       "      <th>wind_speed</th>\n",
       "      <th>wind_direction_67.5m</th>\n",
       "      <th>wind_direction_70m</th>\n",
       "      <th>wind_direction</th>\n",
       "    </tr>\n",
       "  </thead>\n",
       "  <tbody>\n",
       "    <tr>\n",
       "      <th>0</th>\n",
       "      <td>197709131435</td>\n",
       "      <td>9.76</td>\n",
       "      <td>317.0</td>\n",
       "      <td>NaN</td>\n",
       "      <td>317.0</td>\n",
       "    </tr>\n",
       "    <tr>\n",
       "      <th>1</th>\n",
       "      <td>197709131445</td>\n",
       "      <td>10.58</td>\n",
       "      <td>309.0</td>\n",
       "      <td>NaN</td>\n",
       "      <td>309.0</td>\n",
       "    </tr>\n",
       "    <tr>\n",
       "      <th>2</th>\n",
       "      <td>197709131455</td>\n",
       "      <td>10.19</td>\n",
       "      <td>329.0</td>\n",
       "      <td>NaN</td>\n",
       "      <td>329.0</td>\n",
       "    </tr>\n",
       "    <tr>\n",
       "      <th>3</th>\n",
       "      <td>197709131505</td>\n",
       "      <td>8.71</td>\n",
       "      <td>323.0</td>\n",
       "      <td>NaN</td>\n",
       "      <td>323.0</td>\n",
       "    </tr>\n",
       "    <tr>\n",
       "      <th>4</th>\n",
       "      <td>197709131515</td>\n",
       "      <td>8.85</td>\n",
       "      <td>309.0</td>\n",
       "      <td>NaN</td>\n",
       "      <td>309.0</td>\n",
       "    </tr>\n",
       "    <tr>\n",
       "      <th>...</th>\n",
       "      <td>...</td>\n",
       "      <td>...</td>\n",
       "      <td>...</td>\n",
       "      <td>...</td>\n",
       "      <td>...</td>\n",
       "    </tr>\n",
       "    <tr>\n",
       "      <th>1156272</th>\n",
       "      <td>199909080635</td>\n",
       "      <td>4.20</td>\n",
       "      <td>NaN</td>\n",
       "      <td>222.0</td>\n",
       "      <td>222.0</td>\n",
       "    </tr>\n",
       "    <tr>\n",
       "      <th>1156273</th>\n",
       "      <td>199909080645</td>\n",
       "      <td>4.77</td>\n",
       "      <td>NaN</td>\n",
       "      <td>226.0</td>\n",
       "      <td>226.0</td>\n",
       "    </tr>\n",
       "    <tr>\n",
       "      <th>1156274</th>\n",
       "      <td>199909080655</td>\n",
       "      <td>5.37</td>\n",
       "      <td>NaN</td>\n",
       "      <td>233.0</td>\n",
       "      <td>233.0</td>\n",
       "    </tr>\n",
       "    <tr>\n",
       "      <th>1156275</th>\n",
       "      <td>199909080705</td>\n",
       "      <td>5.07</td>\n",
       "      <td>NaN</td>\n",
       "      <td>230.0</td>\n",
       "      <td>230.0</td>\n",
       "    </tr>\n",
       "    <tr>\n",
       "      <th>1156276</th>\n",
       "      <td>199909080715</td>\n",
       "      <td>4.73</td>\n",
       "      <td>NaN</td>\n",
       "      <td>235.0</td>\n",
       "      <td>235.0</td>\n",
       "    </tr>\n",
       "  </tbody>\n",
       "</table>\n",
       "<p>1156277 rows × 5 columns</p>\n",
       "</div>"
      ]
     },
     "execution_count": 59,
     "metadata": {},
     "output_type": "execute_result"
    }
   ],
   "execution_count": 59
  },
  {
   "metadata": {
    "ExecuteTime": {
     "end_time": "2024-09-21T10:21:37.566570Z",
     "start_time": "2024-09-21T10:21:37.540389Z"
    }
   },
   "cell_type": "code",
   "source": "sprog[sprog['wind_direction_67.5m'].isna() & sprog['wind_direction_70m'].notna()]",
   "id": "c19b80618db57c0f",
   "outputs": [
    {
     "data": {
      "text/plain": [
       "            timestamp  wind_speed  wind_direction_67.5m  wind_direction_70m  \\\n",
       "595497   198901090005        9.74                   NaN               264.0   \n",
       "595498   198901090015        9.87                   NaN               261.0   \n",
       "595499   198901090025        9.13                   NaN               258.0   \n",
       "595500   198901090035        8.90                   NaN               260.0   \n",
       "595501   198901090045        9.06                   NaN               262.0   \n",
       "...               ...         ...                   ...                 ...   \n",
       "1156272  199909080635        4.20                   NaN               222.0   \n",
       "1156273  199909080645        4.77                   NaN               226.0   \n",
       "1156274  199909080655        5.37                   NaN               233.0   \n",
       "1156275  199909080705        5.07                   NaN               230.0   \n",
       "1156276  199909080715        4.73                   NaN               235.0   \n",
       "\n",
       "         wind_direction  \n",
       "595497            264.0  \n",
       "595498            261.0  \n",
       "595499            258.0  \n",
       "595500            260.0  \n",
       "595501            262.0  \n",
       "...                 ...  \n",
       "1156272           222.0  \n",
       "1156273           226.0  \n",
       "1156274           233.0  \n",
       "1156275           230.0  \n",
       "1156276           235.0  \n",
       "\n",
       "[556195 rows x 5 columns]"
      ],
      "text/html": [
       "<div>\n",
       "<style scoped>\n",
       "    .dataframe tbody tr th:only-of-type {\n",
       "        vertical-align: middle;\n",
       "    }\n",
       "\n",
       "    .dataframe tbody tr th {\n",
       "        vertical-align: top;\n",
       "    }\n",
       "\n",
       "    .dataframe thead th {\n",
       "        text-align: right;\n",
       "    }\n",
       "</style>\n",
       "<table border=\"1\" class=\"dataframe\">\n",
       "  <thead>\n",
       "    <tr style=\"text-align: right;\">\n",
       "      <th></th>\n",
       "      <th>timestamp</th>\n",
       "      <th>wind_speed</th>\n",
       "      <th>wind_direction_67.5m</th>\n",
       "      <th>wind_direction_70m</th>\n",
       "      <th>wind_direction</th>\n",
       "    </tr>\n",
       "  </thead>\n",
       "  <tbody>\n",
       "    <tr>\n",
       "      <th>595497</th>\n",
       "      <td>198901090005</td>\n",
       "      <td>9.74</td>\n",
       "      <td>NaN</td>\n",
       "      <td>264.0</td>\n",
       "      <td>264.0</td>\n",
       "    </tr>\n",
       "    <tr>\n",
       "      <th>595498</th>\n",
       "      <td>198901090015</td>\n",
       "      <td>9.87</td>\n",
       "      <td>NaN</td>\n",
       "      <td>261.0</td>\n",
       "      <td>261.0</td>\n",
       "    </tr>\n",
       "    <tr>\n",
       "      <th>595499</th>\n",
       "      <td>198901090025</td>\n",
       "      <td>9.13</td>\n",
       "      <td>NaN</td>\n",
       "      <td>258.0</td>\n",
       "      <td>258.0</td>\n",
       "    </tr>\n",
       "    <tr>\n",
       "      <th>595500</th>\n",
       "      <td>198901090035</td>\n",
       "      <td>8.90</td>\n",
       "      <td>NaN</td>\n",
       "      <td>260.0</td>\n",
       "      <td>260.0</td>\n",
       "    </tr>\n",
       "    <tr>\n",
       "      <th>595501</th>\n",
       "      <td>198901090045</td>\n",
       "      <td>9.06</td>\n",
       "      <td>NaN</td>\n",
       "      <td>262.0</td>\n",
       "      <td>262.0</td>\n",
       "    </tr>\n",
       "    <tr>\n",
       "      <th>...</th>\n",
       "      <td>...</td>\n",
       "      <td>...</td>\n",
       "      <td>...</td>\n",
       "      <td>...</td>\n",
       "      <td>...</td>\n",
       "    </tr>\n",
       "    <tr>\n",
       "      <th>1156272</th>\n",
       "      <td>199909080635</td>\n",
       "      <td>4.20</td>\n",
       "      <td>NaN</td>\n",
       "      <td>222.0</td>\n",
       "      <td>222.0</td>\n",
       "    </tr>\n",
       "    <tr>\n",
       "      <th>1156273</th>\n",
       "      <td>199909080645</td>\n",
       "      <td>4.77</td>\n",
       "      <td>NaN</td>\n",
       "      <td>226.0</td>\n",
       "      <td>226.0</td>\n",
       "    </tr>\n",
       "    <tr>\n",
       "      <th>1156274</th>\n",
       "      <td>199909080655</td>\n",
       "      <td>5.37</td>\n",
       "      <td>NaN</td>\n",
       "      <td>233.0</td>\n",
       "      <td>233.0</td>\n",
       "    </tr>\n",
       "    <tr>\n",
       "      <th>1156275</th>\n",
       "      <td>199909080705</td>\n",
       "      <td>5.07</td>\n",
       "      <td>NaN</td>\n",
       "      <td>230.0</td>\n",
       "      <td>230.0</td>\n",
       "    </tr>\n",
       "    <tr>\n",
       "      <th>1156276</th>\n",
       "      <td>199909080715</td>\n",
       "      <td>4.73</td>\n",
       "      <td>NaN</td>\n",
       "      <td>235.0</td>\n",
       "      <td>235.0</td>\n",
       "    </tr>\n",
       "  </tbody>\n",
       "</table>\n",
       "<p>556195 rows × 5 columns</p>\n",
       "</div>"
      ]
     },
     "execution_count": 68,
     "metadata": {},
     "output_type": "execute_result"
    }
   ],
   "execution_count": 68
  },
  {
   "metadata": {
    "ExecuteTime": {
     "end_time": "2024-09-21T10:20:28.598250Z",
     "start_time": "2024-09-21T10:20:28.576580Z"
    }
   },
   "cell_type": "code",
   "source": "sprog[sprog['wind_direction_67.5m'].isna()]",
   "id": "549da43d73197245",
   "outputs": [
    {
     "data": {
      "text/plain": [
       "            timestamp  wind_speed  wind_direction_67.5m  wind_direction_70m  \\\n",
       "490      197709170015       99.99                   NaN                 NaN   \n",
       "491      197709170025       99.99                   NaN                 NaN   \n",
       "492      197709170035       99.99                   NaN                 NaN   \n",
       "493      197709170045       99.99                   NaN                 NaN   \n",
       "494      197709170055       99.99                   NaN                 NaN   \n",
       "...               ...         ...                   ...                 ...   \n",
       "1156272  199909080635        4.20                   NaN               222.0   \n",
       "1156273  199909080645        4.77                   NaN               226.0   \n",
       "1156274  199909080655        5.37                   NaN               233.0   \n",
       "1156275  199909080705        5.07                   NaN               230.0   \n",
       "1156276  199909080715        4.73                   NaN               235.0   \n",
       "\n",
       "         wind_direction  \n",
       "490                 NaN  \n",
       "491                 NaN  \n",
       "492                 NaN  \n",
       "493                 NaN  \n",
       "494                 NaN  \n",
       "...                 ...  \n",
       "1156272           222.0  \n",
       "1156273           226.0  \n",
       "1156274           233.0  \n",
       "1156275           230.0  \n",
       "1156276           235.0  \n",
       "\n",
       "[605176 rows x 5 columns]"
      ],
      "text/html": [
       "<div>\n",
       "<style scoped>\n",
       "    .dataframe tbody tr th:only-of-type {\n",
       "        vertical-align: middle;\n",
       "    }\n",
       "\n",
       "    .dataframe tbody tr th {\n",
       "        vertical-align: top;\n",
       "    }\n",
       "\n",
       "    .dataframe thead th {\n",
       "        text-align: right;\n",
       "    }\n",
       "</style>\n",
       "<table border=\"1\" class=\"dataframe\">\n",
       "  <thead>\n",
       "    <tr style=\"text-align: right;\">\n",
       "      <th></th>\n",
       "      <th>timestamp</th>\n",
       "      <th>wind_speed</th>\n",
       "      <th>wind_direction_67.5m</th>\n",
       "      <th>wind_direction_70m</th>\n",
       "      <th>wind_direction</th>\n",
       "    </tr>\n",
       "  </thead>\n",
       "  <tbody>\n",
       "    <tr>\n",
       "      <th>490</th>\n",
       "      <td>197709170015</td>\n",
       "      <td>99.99</td>\n",
       "      <td>NaN</td>\n",
       "      <td>NaN</td>\n",
       "      <td>NaN</td>\n",
       "    </tr>\n",
       "    <tr>\n",
       "      <th>491</th>\n",
       "      <td>197709170025</td>\n",
       "      <td>99.99</td>\n",
       "      <td>NaN</td>\n",
       "      <td>NaN</td>\n",
       "      <td>NaN</td>\n",
       "    </tr>\n",
       "    <tr>\n",
       "      <th>492</th>\n",
       "      <td>197709170035</td>\n",
       "      <td>99.99</td>\n",
       "      <td>NaN</td>\n",
       "      <td>NaN</td>\n",
       "      <td>NaN</td>\n",
       "    </tr>\n",
       "    <tr>\n",
       "      <th>493</th>\n",
       "      <td>197709170045</td>\n",
       "      <td>99.99</td>\n",
       "      <td>NaN</td>\n",
       "      <td>NaN</td>\n",
       "      <td>NaN</td>\n",
       "    </tr>\n",
       "    <tr>\n",
       "      <th>494</th>\n",
       "      <td>197709170055</td>\n",
       "      <td>99.99</td>\n",
       "      <td>NaN</td>\n",
       "      <td>NaN</td>\n",
       "      <td>NaN</td>\n",
       "    </tr>\n",
       "    <tr>\n",
       "      <th>...</th>\n",
       "      <td>...</td>\n",
       "      <td>...</td>\n",
       "      <td>...</td>\n",
       "      <td>...</td>\n",
       "      <td>...</td>\n",
       "    </tr>\n",
       "    <tr>\n",
       "      <th>1156272</th>\n",
       "      <td>199909080635</td>\n",
       "      <td>4.20</td>\n",
       "      <td>NaN</td>\n",
       "      <td>222.0</td>\n",
       "      <td>222.0</td>\n",
       "    </tr>\n",
       "    <tr>\n",
       "      <th>1156273</th>\n",
       "      <td>199909080645</td>\n",
       "      <td>4.77</td>\n",
       "      <td>NaN</td>\n",
       "      <td>226.0</td>\n",
       "      <td>226.0</td>\n",
       "    </tr>\n",
       "    <tr>\n",
       "      <th>1156274</th>\n",
       "      <td>199909080655</td>\n",
       "      <td>5.37</td>\n",
       "      <td>NaN</td>\n",
       "      <td>233.0</td>\n",
       "      <td>233.0</td>\n",
       "    </tr>\n",
       "    <tr>\n",
       "      <th>1156275</th>\n",
       "      <td>199909080705</td>\n",
       "      <td>5.07</td>\n",
       "      <td>NaN</td>\n",
       "      <td>230.0</td>\n",
       "      <td>230.0</td>\n",
       "    </tr>\n",
       "    <tr>\n",
       "      <th>1156276</th>\n",
       "      <td>199909080715</td>\n",
       "      <td>4.73</td>\n",
       "      <td>NaN</td>\n",
       "      <td>235.0</td>\n",
       "      <td>235.0</td>\n",
       "    </tr>\n",
       "  </tbody>\n",
       "</table>\n",
       "<p>605176 rows × 5 columns</p>\n",
       "</div>"
      ]
     },
     "execution_count": 65,
     "metadata": {},
     "output_type": "execute_result"
    }
   ],
   "execution_count": 65
  },
  {
   "metadata": {},
   "cell_type": "markdown",
   "source": "#### Wind Speed",
   "id": "f564b2bbbe562c44"
  },
  {
   "metadata": {},
   "cell_type": "markdown",
   "source": "Now the wind speed measurements are checked. We'll look for cases where the wind speed measurement is incorrect. We set to find the values of wind_speed over 40 m/s and negative values.",
   "id": "691e4afc4eab6b15"
  },
  {
   "metadata": {
    "ExecuteTime": {
     "end_time": "2024-09-21T10:37:54.544913Z",
     "start_time": "2024-09-21T10:37:54.539171Z"
    }
   },
   "cell_type": "code",
   "source": [
    "unique_below_0_wind = sprog['wind_speed'][sprog['wind_speed'] < 0].unique()\n",
    "unique_over_40_wind = sprog['wind_speed'][sprog['wind_speed'] > 40].unique()\n",
    "\n",
    "unique_values_over_40_and_below_0 = set(unique_below_0_wind).union(set(unique_over_40_wind))"
   ],
   "id": "ed84d2d330d9b4e8",
   "outputs": [],
   "execution_count": 93
  },
  {
   "metadata": {
    "ExecuteTime": {
     "end_time": "2024-09-21T10:52:55.441598Z",
     "start_time": "2024-09-21T10:52:55.438586Z"
    }
   },
   "cell_type": "code",
   "source": "unique_values_over_40_and_below_0",
   "id": "23ef62c180204d92",
   "outputs": [
    {
     "data": {
      "text/plain": [
       "{99.99}"
      ]
     },
     "execution_count": 95,
     "metadata": {},
     "output_type": "execute_result"
    }
   ],
   "execution_count": 95
  },
  {
   "metadata": {},
   "cell_type": "markdown",
   "source": "Again the only invalid data is the one corresponding to 99.99 values, we'll convert those to NaN values.",
   "id": "8ce5d5a2b101054a"
  },
  {
   "metadata": {
    "ExecuteTime": {
     "end_time": "2024-09-21T10:55:03.258222Z",
     "start_time": "2024-09-21T10:55:03.249532Z"
    }
   },
   "cell_type": "code",
   "source": "sprog.replace(99.99, np.nan, inplace=True)",
   "id": "a7956c3d331947cb",
   "outputs": [],
   "execution_count": 96
  },
  {
   "metadata": {},
   "cell_type": "markdown",
   "source": "### Hovsore",
   "id": "a357e35ed59a5c1e"
  },
  {
   "metadata": {},
   "cell_type": "markdown",
   "source": "This second datasate needs to be checked as well, we will apply the same filter as before, in this case there is only wind speed data available though.",
   "id": "25ed7bfc5ec08559"
  },
  {
   "metadata": {
    "ExecuteTime": {
     "end_time": "2024-09-21T11:08:22.562730Z",
     "start_time": "2024-09-21T11:08:22.558928Z"
    }
   },
   "cell_type": "code",
   "source": "hovsore_1 = hovsore_1.apply(pd.to_numeric, errors='coerce')",
   "id": "1f0fd8724bc85e44",
   "outputs": [],
   "execution_count": 102
  },
  {
   "metadata": {
    "ExecuteTime": {
     "end_time": "2024-09-21T11:08:23.625997Z",
     "start_time": "2024-09-21T11:08:23.621922Z"
    }
   },
   "cell_type": "code",
   "source": [
    "unique_below_0_wind = hovsore_1['wind_speed'][hovsore_1['wind_speed'] < 0].unique()\n",
    "unique_over_40_wind = hovsore_1['wind_speed'][hovsore_1['wind_speed'] > 40].unique()\n",
    "\n",
    "unique_values_over_40_and_below_0 = set(unique_below_0_wind).union(set(unique_over_40_wind))"
   ],
   "id": "3d4527e2e53a1e98",
   "outputs": [],
   "execution_count": 103
  },
  {
   "metadata": {
    "ExecuteTime": {
     "end_time": "2024-09-21T11:08:24.102741Z",
     "start_time": "2024-09-21T11:08:24.099114Z"
    }
   },
   "cell_type": "code",
   "source": "unique_values_over_40_and_below_0",
   "id": "9a71bd16292ce8c8",
   "outputs": [
    {
     "data": {
      "text/plain": [
       "set()"
      ]
     },
     "execution_count": 104,
     "metadata": {},
     "output_type": "execute_result"
    }
   ],
   "execution_count": 104
  },
  {
   "metadata": {},
   "cell_type": "markdown",
   "source": "No invalid data is found in the hovsore_1 dataset.",
   "id": "fc46c3c5bfe0bb9b"
  },
  {
   "metadata": {},
   "cell_type": "markdown",
   "source": "## Inspect the time-series",
   "id": "f8a0b5ee4dc42c59"
  },
  {
   "metadata": {},
   "cell_type": "markdown",
   "source": "### 1)",
   "id": "36393ba8a3515cdb"
  },
  {
   "metadata": {},
   "cell_type": "markdown",
   "source": "Find the mean and standard deviation of wind speed from each data set.",
   "id": "c7855614c0c7eb16"
  },
  {
   "metadata": {},
   "cell_type": "markdown",
   "source": "#### Sprog",
   "id": "16e0205e8538633"
  },
  {
   "metadata": {},
   "cell_type": "markdown",
   "source": "Mean Wind Speed",
   "id": "1ac630fcdc4452c5"
  },
  {
   "metadata": {
    "ExecuteTime": {
     "end_time": "2024-09-21T11:11:48.995043Z",
     "start_time": "2024-09-21T11:11:48.986278Z"
    }
   },
   "cell_type": "code",
   "source": "sprog['wind_speed'].mean()",
   "id": "82fc14452e00f88d",
   "outputs": [
    {
     "data": {
      "text/plain": [
       "8.235566499680502"
      ]
     },
     "execution_count": 105,
     "metadata": {},
     "output_type": "execute_result"
    }
   ],
   "execution_count": 105
  },
  {
   "metadata": {},
   "cell_type": "markdown",
   "source": "Wind Speed Standard deviation",
   "id": "567a515e300acab6"
  },
  {
   "metadata": {
    "ExecuteTime": {
     "end_time": "2024-09-21T11:13:34.848496Z",
     "start_time": "2024-09-21T11:13:34.843186Z"
    }
   },
   "cell_type": "code",
   "source": "sprog['wind_speed'].std()",
   "id": "177f1a5d5c68ed70",
   "outputs": [
    {
     "data": {
      "text/plain": [
       "3.907913492060975"
      ]
     },
     "execution_count": 107,
     "metadata": {},
     "output_type": "execute_result"
    }
   ],
   "execution_count": 107
  },
  {
   "metadata": {},
   "cell_type": "markdown",
   "source": "#### Hovsore 1",
   "id": "7bf4aee617588a0a"
  },
  {
   "metadata": {},
   "cell_type": "markdown",
   "source": "Mean Wind Speed",
   "id": "c336a16a310e2a89"
  },
  {
   "metadata": {
    "ExecuteTime": {
     "end_time": "2024-09-21T11:13:05.022486Z",
     "start_time": "2024-09-21T11:13:05.018741Z"
    }
   },
   "cell_type": "code",
   "source": "hovsore_1['wind_speed'].mean()",
   "id": "ce3a8a3d3126491a",
   "outputs": [
    {
     "data": {
      "text/plain": [
       "13.295274895833332"
      ]
     },
     "execution_count": 106,
     "metadata": {},
     "output_type": "execute_result"
    }
   ],
   "execution_count": 106
  },
  {
   "metadata": {},
   "cell_type": "markdown",
   "source": "Wind Speed Standard deviation",
   "id": "656e78ea01e4ddc"
  },
  {
   "metadata": {
    "ExecuteTime": {
     "end_time": "2024-09-21T11:14:58.295954Z",
     "start_time": "2024-09-21T11:14:58.292536Z"
    }
   },
   "cell_type": "code",
   "source": "hovsore_1['wind_speed'].std()",
   "id": "d7e94a2594690e5a",
   "outputs": [
    {
     "data": {
      "text/plain": [
       "1.5435718228827797"
      ]
     },
     "execution_count": 108,
     "metadata": {},
     "output_type": "execute_result"
    }
   ],
   "execution_count": 108
  },
  {
   "metadata": {},
   "cell_type": "markdown",
   "source": "### 2)",
   "id": "c7af7e531918ef8b"
  },
  {
   "metadata": {},
   "cell_type": "markdown",
   "source": [
    "Appropriately calculate the mean and standard deviation of wind direction for the Sprogø\n",
    "data, over the entire period."
   ],
   "id": "a15a6a9e10d176b3"
  },
  {
   "metadata": {},
   "cell_type": "code",
   "outputs": [],
   "execution_count": null,
   "source": "",
   "id": "83b6c9c92ef1e347"
  },
  {
   "metadata": {},
   "cell_type": "markdown",
   "source": "### 3)",
   "id": "9acfb92f04d277e"
  },
  {
   "metadata": {},
   "cell_type": "code",
   "outputs": [],
   "execution_count": null,
   "source": "",
   "id": "7c4a1e5f18511218"
  }
 ],
 "metadata": {
  "kernelspec": {
   "display_name": "Python 3",
   "language": "python",
   "name": "python3"
  },
  "language_info": {
   "codemirror_mode": {
    "name": "ipython",
    "version": 2
   },
   "file_extension": ".py",
   "mimetype": "text/x-python",
   "name": "python",
   "nbconvert_exporter": "python",
   "pygments_lexer": "ipython2",
   "version": "2.7.6"
  }
 },
 "nbformat": 4,
 "nbformat_minor": 5
}
