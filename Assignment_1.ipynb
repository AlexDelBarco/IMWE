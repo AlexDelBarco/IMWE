{
 "cells": [
  {
   "cell_type": "markdown",
   "source": [
    "# ASSIGNMENT 1: MEAN WIND SPEED AND THE WEIBULL DISTRIBUTION"
   ],
   "metadata": {
    "collapsed": false
   },
   "id": "1638447e89c454d4"
  },
  {
   "cell_type": "markdown",
   "source": [
    "## Imports"
   ],
   "metadata": {
    "collapsed": false
   },
   "id": "e03a0e7638a835a8"
  },
  {
   "cell_type": "code",
   "outputs": [],
   "source": [],
   "metadata": {
    "collapsed": false
   },
   "id": "77218b4e7a4a9255"
  }
 ],
 "metadata": {
  "kernelspec": {
   "display_name": "Python 3",
   "language": "python",
   "name": "python3"
  },
  "language_info": {
   "codemirror_mode": {
    "name": "ipython",
    "version": 2
   },
   "file_extension": ".py",
   "mimetype": "text/x-python",
   "name": "python",
   "nbconvert_exporter": "python",
   "pygments_lexer": "ipython2",
   "version": "2.7.6"
  }
 },
 "nbformat": 4,
 "nbformat_minor": 5
}
